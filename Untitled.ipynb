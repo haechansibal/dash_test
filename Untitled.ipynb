{
 "cells": [
  {
   "cell_type": "raw",
   "id": "e6787f39-3ed7-4e50-ad36-2415841005e0",
   "metadata": {},
   "source": [
    "---\n",
    "title: \"요일,시간에 따른 평균속력 시각화\"\n",
    "author: \"김해찬\"\n",
    "--- "
   ]
  },
  {
   "cell_type": "markdown",
   "id": "8546e1a8-c473-4381-be76-23712b247b34",
   "metadata": {},
   "source": [
    "# 기말고사1-(1)"
   ]
  },
  {
   "cell_type": "markdown",
   "id": "c8ca2f80-be03-4f29-8404-d2b1b276b1fd",
   "metadata": {},
   "source": [
    "# title: 요일,시간에 따른 평균속력 시각화"
   ]
  },
  {
   "cell_type": "code",
   "execution_count": 7,
   "id": "b0493732-86d5-4746-8a2c-707499cc0016",
   "metadata": {},
   "outputs": [],
   "source": [
    "import numpy as np\n",
    "import pandas as pd\n",
    "import plotly.express as px\n",
    "import plotly.io as pio\n",
    "import json\n",
    "import requests\n",
    "import pickle"
   ]
  },
  {
   "cell_type": "code",
   "execution_count": 8,
   "id": "fa4b9a6b-7730-4786-b312-5644e5fb8b4e",
   "metadata": {},
   "outputs": [
    {
     "data": {
      "application/vnd.plotly.v1+json": {
       "config": {
        "plotlyServerURL": "https://plot.ly"
       },
       "data": [
        {
         "coloraxis": "coloraxis",
         "histfunc": "sum",
         "hovertemplate": "pickup_hour=%{x}<br>dayofweek=%{y}<br>sum of 평균속력=%{z}<extra></extra>",
         "name": "",
         "nbinsx": 24,
         "nbinsy": 7,
         "type": "histogram2d",
         "x": [
          0,
          1,
          2,
          3,
          4,
          5,
          6,
          7,
          8,
          9,
          10,
          11,
          12,
          13,
          14,
          15,
          16,
          17,
          18,
          19,
          20,
          21,
          22,
          23,
          0,
          1,
          2,
          3,
          4,
          5,
          6,
          7,
          8,
          9,
          10,
          11,
          12,
          13,
          14,
          15,
          16,
          17,
          18,
          19,
          20,
          21,
          22,
          23,
          0,
          1,
          2,
          3,
          4,
          5,
          6,
          7,
          8,
          9,
          10,
          11,
          12,
          13,
          14,
          15,
          16,
          17,
          18,
          19,
          20,
          21,
          22,
          23,
          0,
          1,
          2,
          4,
          5,
          6,
          7,
          8,
          9,
          10,
          11,
          12,
          13,
          14,
          15,
          16,
          17,
          18,
          19,
          20,
          21,
          22,
          23,
          0,
          1,
          2,
          3,
          4,
          5,
          6,
          7,
          8,
          9,
          10,
          11,
          12,
          13,
          14,
          15,
          16,
          17,
          18,
          19,
          20,
          21,
          22,
          23,
          0,
          1,
          2,
          3,
          4,
          5,
          6,
          7,
          8,
          9,
          10,
          11,
          12,
          13,
          14,
          15,
          16,
          17,
          18,
          19,
          20,
          21,
          22,
          23,
          0,
          1,
          2,
          3,
          4,
          5,
          6,
          7,
          8,
          9,
          10,
          11,
          12,
          13,
          14,
          15,
          16,
          17,
          18,
          19,
          20,
          21,
          22,
          23
         ],
         "xaxis": "x",
         "xbingroup": "x",
         "y": [
          0,
          0,
          0,
          0,
          0,
          0,
          0,
          0,
          0,
          0,
          0,
          0,
          0,
          0,
          0,
          0,
          0,
          0,
          0,
          0,
          0,
          0,
          0,
          0,
          1,
          1,
          1,
          1,
          1,
          1,
          1,
          1,
          1,
          1,
          1,
          1,
          1,
          1,
          1,
          1,
          1,
          1,
          1,
          1,
          1,
          1,
          1,
          1,
          2,
          2,
          2,
          2,
          2,
          2,
          2,
          2,
          2,
          2,
          2,
          2,
          2,
          2,
          2,
          2,
          2,
          2,
          2,
          2,
          2,
          2,
          2,
          2,
          3,
          3,
          3,
          3,
          3,
          3,
          3,
          3,
          3,
          3,
          3,
          3,
          3,
          3,
          3,
          3,
          3,
          3,
          3,
          3,
          3,
          3,
          3,
          4,
          4,
          4,
          4,
          4,
          4,
          4,
          4,
          4,
          4,
          4,
          4,
          4,
          4,
          4,
          4,
          4,
          4,
          4,
          4,
          4,
          4,
          4,
          4,
          5,
          5,
          5,
          5,
          5,
          5,
          5,
          5,
          5,
          5,
          5,
          5,
          5,
          5,
          5,
          5,
          5,
          5,
          5,
          5,
          5,
          5,
          5,
          5,
          6,
          6,
          6,
          6,
          6,
          6,
          6,
          6,
          6,
          6,
          6,
          6,
          6,
          6,
          6,
          6,
          6,
          6,
          6,
          6,
          6,
          6,
          6,
          6
         ],
         "yaxis": "y",
         "ybingroup": "y",
         "z": [
          5.723094058125099e-05,
          3.859453239580768e-05,
          2.4515322355725505e-05,
          2.3758530166925242e-05,
          0.00010253662151545599,
          4.6349066185552494e-05,
          5.524251595950722e-05,
          3.6485581712615164e-05,
          2.729700905571568e-05,
          2.3888399810108505e-05,
          2.7977925818494158e-05,
          3.082070405534749e-05,
          2.7202963084635528e-05,
          3.437187367151645e-05,
          3.598455095560936e-05,
          2.3584313004192223e-05,
          2.971621022270536e-05,
          3.053557899314495e-05,
          3.329373391732812e-05,
          3.2170821325578856e-05,
          3.379648223049551e-05,
          3.961164903747433e-05,
          3.6255751807201486e-05,
          3.8276493110125314e-05,
          2.5677448221935806e-05,
          4.257066478380059e-05,
          4.234239456675354e-05,
          5.031606217392172e-05,
          3.842022008941714e-05,
          6.751000103939182e-05,
          3.2883096505735325e-05,
          3.558874736181375e-05,
          2.4630726655275126e-05,
          2.5721216162692458e-05,
          2.3889480756141817e-05,
          2.8024272323142035e-05,
          2.226581323865508e-05,
          2.651833680008075e-05,
          3.0370276344401747e-05,
          2.9644209287273187e-05,
          2.981642201811735e-05,
          3.047570695234393e-05,
          3.163064122461015e-05,
          3.337318767488735e-05,
          3.113460672898054e-05,
          3.780195193586314e-05,
          3.361939479104654e-05,
          3.385344848701554e-05,
          3.278611254946058e-05,
          5.779114839222702e-05,
          2.7862666321248623e-05,
          5.636131418421629e-05,
          3.8859151518088076e-05,
          3.43519666181592e-05,
          5.041773815693046e-05,
          3.7061679254616166e-05,
          3.0436272129937817e-05,
          2.5803331938961496e-05,
          2.1030860223279826e-05,
          1.811025811309659e-05,
          2.3719463701693455e-05,
          2.803399557857108e-05,
          2.7232711921183893e-05,
          2.7871785085867178e-05,
          3.0612665795429827e-05,
          2.6340387810375093e-05,
          2.9374094851375134e-05,
          3.219231012522816e-05,
          3.78527566315243e-05,
          3.0368979332387895e-05,
          2.9078203773943373e-05,
          4.2168638731656095e-05,
          3.871011568212855e-05,
          4.338314711480122e-05,
          6.899149104900677e-05,
          4.310678345966059e-05,
          4.4402348888487625e-05,
          3.997590248166644e-05,
          2.575185121386115e-05,
          3.0134702762844466e-05,
          2.649937505159902e-05,
          2.204466797612663e-05,
          2.5622692324882268e-05,
          2.3515122757072032e-05,
          2.2550414894772936e-05,
          2.578410253446659e-05,
          2.4694833126697213e-05,
          2.7683725961184476e-05,
          2.177594533621747e-05,
          3.238927248071606e-05,
          2.958379225205985e-05,
          3.615970867578247e-05,
          2.043268177273862e-05,
          3.4541503070228866e-05,
          3.6125191520224597e-05,
          3.817514548619165e-05,
          3.326041260354548e-05,
          3.894988587782446e-05,
          6.778241066370699e-05,
          2.7025358149575114e-05,
          5.849157714090238e-05,
          4.33580728248973e-05,
          3.4854900514060424e-05,
          2.8142262826447962e-05,
          2.8618326787062755e-05,
          2.366151254746728e-05,
          2.6857156323015764e-05,
          2.5168317120219502e-05,
          3.888625997779635e-05,
          2.5615611635183698e-05,
          2.556784596053668e-05,
          3.111917091436483e-05,
          3.144817999433738e-05,
          3.291689013514608e-05,
          2.4152928898072615e-05,
          2.920314031217611e-05,
          3.1576552197104025e-05,
          3.2315387854885346e-05,
          2.983710026950079e-05,
          4.627883347746749e-05,
          2.7773578145329388e-05,
          3.631997095552261e-05,
          2.3662924009714383e-05,
          2.88751262726022e-05,
          3.481895084203151e-05,
          4.579323880557313e-05,
          3.158306515688948e-05,
          4.569617656654318e-05,
          3.854996022772061e-05,
          3.5462256071674194e-05,
          3.4523205876047595e-05,
          3.298608237105099e-05,
          2.37379386052421e-05,
          3.31362657840333e-05,
          2.630917740744218e-05,
          3.0137175793010993e-05,
          2.6407973293941803e-05,
          2.7394388340584566e-05,
          2.6206466258467483e-05,
          2.788798338314243e-05,
          3.1777919591053626e-05,
          2.911953736991926e-05,
          2.9136350314176552e-05,
          4.457038075834776e-05,
          3.169424380395911e-05,
          4.03684446050433e-05,
          2.7602871793288107e-05,
          3.076932832172534e-05,
          3.0249404400810417e-05,
          4.301809584666796e-05,
          4.714762438919343e-05,
          4.4479539043908406e-05,
          3.2688355721036255e-05,
          3.342942938384902e-05,
          3.649589327830831e-05,
          2.8420826272622926e-05,
          3.066735122623693e-05,
          3.0617440583593604e-05,
          2.5797984188040713e-05,
          3.3760608829152636e-05,
          3.0051380708106856e-05,
          2.924779416154596e-05,
          3.4421804426976136e-05,
          3.327416251466723e-05,
          3.7759245998201744e-05,
          3.458304054405475e-05,
          3.7060129142285943e-05
         ]
        }
       ],
       "layout": {
        "autosize": true,
        "coloraxis": {
         "colorbar": {
          "title": {
           "text": "sum of 평균속력"
          }
         },
         "colorscale": [
          [
           0,
           "#0d0887"
          ],
          [
           0.1111111111111111,
           "#46039f"
          ],
          [
           0.2222222222222222,
           "#7201a8"
          ],
          [
           0.3333333333333333,
           "#9c179e"
          ],
          [
           0.4444444444444444,
           "#bd3786"
          ],
          [
           0.5555555555555556,
           "#d8576b"
          ],
          [
           0.6666666666666666,
           "#ed7953"
          ],
          [
           0.7777777777777778,
           "#fb9f3a"
          ],
          [
           0.8888888888888888,
           "#fdca26"
          ],
          [
           1,
           "#f0f921"
          ]
         ]
        },
        "legend": {
         "tracegroupgap": 0
        },
        "margin": {
         "t": 60
        },
        "template": {
         "data": {
          "bar": [
           {
            "error_x": {
             "color": "#2a3f5f"
            },
            "error_y": {
             "color": "#2a3f5f"
            },
            "marker": {
             "line": {
              "color": "white",
              "width": 0.5
             },
             "pattern": {
              "fillmode": "overlay",
              "size": 10,
              "solidity": 0.2
             }
            },
            "type": "bar"
           }
          ],
          "barpolar": [
           {
            "marker": {
             "line": {
              "color": "white",
              "width": 0.5
             },
             "pattern": {
              "fillmode": "overlay",
              "size": 10,
              "solidity": 0.2
             }
            },
            "type": "barpolar"
           }
          ],
          "carpet": [
           {
            "aaxis": {
             "endlinecolor": "#2a3f5f",
             "gridcolor": "#C8D4E3",
             "linecolor": "#C8D4E3",
             "minorgridcolor": "#C8D4E3",
             "startlinecolor": "#2a3f5f"
            },
            "baxis": {
             "endlinecolor": "#2a3f5f",
             "gridcolor": "#C8D4E3",
             "linecolor": "#C8D4E3",
             "minorgridcolor": "#C8D4E3",
             "startlinecolor": "#2a3f5f"
            },
            "type": "carpet"
           }
          ],
          "choropleth": [
           {
            "colorbar": {
             "outlinewidth": 0,
             "ticks": ""
            },
            "type": "choropleth"
           }
          ],
          "contour": [
           {
            "colorbar": {
             "outlinewidth": 0,
             "ticks": ""
            },
            "colorscale": [
             [
              0,
              "#0d0887"
             ],
             [
              0.1111111111111111,
              "#46039f"
             ],
             [
              0.2222222222222222,
              "#7201a8"
             ],
             [
              0.3333333333333333,
              "#9c179e"
             ],
             [
              0.4444444444444444,
              "#bd3786"
             ],
             [
              0.5555555555555556,
              "#d8576b"
             ],
             [
              0.6666666666666666,
              "#ed7953"
             ],
             [
              0.7777777777777778,
              "#fb9f3a"
             ],
             [
              0.8888888888888888,
              "#fdca26"
             ],
             [
              1,
              "#f0f921"
             ]
            ],
            "type": "contour"
           }
          ],
          "contourcarpet": [
           {
            "colorbar": {
             "outlinewidth": 0,
             "ticks": ""
            },
            "type": "contourcarpet"
           }
          ],
          "heatmap": [
           {
            "colorbar": {
             "outlinewidth": 0,
             "ticks": ""
            },
            "colorscale": [
             [
              0,
              "#0d0887"
             ],
             [
              0.1111111111111111,
              "#46039f"
             ],
             [
              0.2222222222222222,
              "#7201a8"
             ],
             [
              0.3333333333333333,
              "#9c179e"
             ],
             [
              0.4444444444444444,
              "#bd3786"
             ],
             [
              0.5555555555555556,
              "#d8576b"
             ],
             [
              0.6666666666666666,
              "#ed7953"
             ],
             [
              0.7777777777777778,
              "#fb9f3a"
             ],
             [
              0.8888888888888888,
              "#fdca26"
             ],
             [
              1,
              "#f0f921"
             ]
            ],
            "type": "heatmap"
           }
          ],
          "heatmapgl": [
           {
            "colorbar": {
             "outlinewidth": 0,
             "ticks": ""
            },
            "colorscale": [
             [
              0,
              "#0d0887"
             ],
             [
              0.1111111111111111,
              "#46039f"
             ],
             [
              0.2222222222222222,
              "#7201a8"
             ],
             [
              0.3333333333333333,
              "#9c179e"
             ],
             [
              0.4444444444444444,
              "#bd3786"
             ],
             [
              0.5555555555555556,
              "#d8576b"
             ],
             [
              0.6666666666666666,
              "#ed7953"
             ],
             [
              0.7777777777777778,
              "#fb9f3a"
             ],
             [
              0.8888888888888888,
              "#fdca26"
             ],
             [
              1,
              "#f0f921"
             ]
            ],
            "type": "heatmapgl"
           }
          ],
          "histogram": [
           {
            "marker": {
             "pattern": {
              "fillmode": "overlay",
              "size": 10,
              "solidity": 0.2
             }
            },
            "type": "histogram"
           }
          ],
          "histogram2d": [
           {
            "colorbar": {
             "outlinewidth": 0,
             "ticks": ""
            },
            "colorscale": [
             [
              0,
              "#0d0887"
             ],
             [
              0.1111111111111111,
              "#46039f"
             ],
             [
              0.2222222222222222,
              "#7201a8"
             ],
             [
              0.3333333333333333,
              "#9c179e"
             ],
             [
              0.4444444444444444,
              "#bd3786"
             ],
             [
              0.5555555555555556,
              "#d8576b"
             ],
             [
              0.6666666666666666,
              "#ed7953"
             ],
             [
              0.7777777777777778,
              "#fb9f3a"
             ],
             [
              0.8888888888888888,
              "#fdca26"
             ],
             [
              1,
              "#f0f921"
             ]
            ],
            "type": "histogram2d"
           }
          ],
          "histogram2dcontour": [
           {
            "colorbar": {
             "outlinewidth": 0,
             "ticks": ""
            },
            "colorscale": [
             [
              0,
              "#0d0887"
             ],
             [
              0.1111111111111111,
              "#46039f"
             ],
             [
              0.2222222222222222,
              "#7201a8"
             ],
             [
              0.3333333333333333,
              "#9c179e"
             ],
             [
              0.4444444444444444,
              "#bd3786"
             ],
             [
              0.5555555555555556,
              "#d8576b"
             ],
             [
              0.6666666666666666,
              "#ed7953"
             ],
             [
              0.7777777777777778,
              "#fb9f3a"
             ],
             [
              0.8888888888888888,
              "#fdca26"
             ],
             [
              1,
              "#f0f921"
             ]
            ],
            "type": "histogram2dcontour"
           }
          ],
          "mesh3d": [
           {
            "colorbar": {
             "outlinewidth": 0,
             "ticks": ""
            },
            "type": "mesh3d"
           }
          ],
          "parcoords": [
           {
            "line": {
             "colorbar": {
              "outlinewidth": 0,
              "ticks": ""
             }
            },
            "type": "parcoords"
           }
          ],
          "pie": [
           {
            "automargin": true,
            "type": "pie"
           }
          ],
          "scatter": [
           {
            "fillpattern": {
             "fillmode": "overlay",
             "size": 10,
             "solidity": 0.2
            },
            "type": "scatter"
           }
          ],
          "scatter3d": [
           {
            "line": {
             "colorbar": {
              "outlinewidth": 0,
              "ticks": ""
             }
            },
            "marker": {
             "colorbar": {
              "outlinewidth": 0,
              "ticks": ""
             }
            },
            "type": "scatter3d"
           }
          ],
          "scattercarpet": [
           {
            "marker": {
             "colorbar": {
              "outlinewidth": 0,
              "ticks": ""
             }
            },
            "type": "scattercarpet"
           }
          ],
          "scattergeo": [
           {
            "marker": {
             "colorbar": {
              "outlinewidth": 0,
              "ticks": ""
             }
            },
            "type": "scattergeo"
           }
          ],
          "scattergl": [
           {
            "marker": {
             "colorbar": {
              "outlinewidth": 0,
              "ticks": ""
             }
            },
            "type": "scattergl"
           }
          ],
          "scattermapbox": [
           {
            "marker": {
             "colorbar": {
              "outlinewidth": 0,
              "ticks": ""
             }
            },
            "type": "scattermapbox"
           }
          ],
          "scatterpolar": [
           {
            "marker": {
             "colorbar": {
              "outlinewidth": 0,
              "ticks": ""
             }
            },
            "type": "scatterpolar"
           }
          ],
          "scatterpolargl": [
           {
            "marker": {
             "colorbar": {
              "outlinewidth": 0,
              "ticks": ""
             }
            },
            "type": "scatterpolargl"
           }
          ],
          "scatterternary": [
           {
            "marker": {
             "colorbar": {
              "outlinewidth": 0,
              "ticks": ""
             }
            },
            "type": "scatterternary"
           }
          ],
          "surface": [
           {
            "colorbar": {
             "outlinewidth": 0,
             "ticks": ""
            },
            "colorscale": [
             [
              0,
              "#0d0887"
             ],
             [
              0.1111111111111111,
              "#46039f"
             ],
             [
              0.2222222222222222,
              "#7201a8"
             ],
             [
              0.3333333333333333,
              "#9c179e"
             ],
             [
              0.4444444444444444,
              "#bd3786"
             ],
             [
              0.5555555555555556,
              "#d8576b"
             ],
             [
              0.6666666666666666,
              "#ed7953"
             ],
             [
              0.7777777777777778,
              "#fb9f3a"
             ],
             [
              0.8888888888888888,
              "#fdca26"
             ],
             [
              1,
              "#f0f921"
             ]
            ],
            "type": "surface"
           }
          ],
          "table": [
           {
            "cells": {
             "fill": {
              "color": "#EBF0F8"
             },
             "line": {
              "color": "white"
             }
            },
            "header": {
             "fill": {
              "color": "#C8D4E3"
             },
             "line": {
              "color": "white"
             }
            },
            "type": "table"
           }
          ]
         },
         "layout": {
          "annotationdefaults": {
           "arrowcolor": "#2a3f5f",
           "arrowhead": 0,
           "arrowwidth": 1
          },
          "autotypenumbers": "strict",
          "coloraxis": {
           "colorbar": {
            "outlinewidth": 0,
            "ticks": ""
           }
          },
          "colorscale": {
           "diverging": [
            [
             0,
             "#8e0152"
            ],
            [
             0.1,
             "#c51b7d"
            ],
            [
             0.2,
             "#de77ae"
            ],
            [
             0.3,
             "#f1b6da"
            ],
            [
             0.4,
             "#fde0ef"
            ],
            [
             0.5,
             "#f7f7f7"
            ],
            [
             0.6,
             "#e6f5d0"
            ],
            [
             0.7,
             "#b8e186"
            ],
            [
             0.8,
             "#7fbc41"
            ],
            [
             0.9,
             "#4d9221"
            ],
            [
             1,
             "#276419"
            ]
           ],
           "sequential": [
            [
             0,
             "#0d0887"
            ],
            [
             0.1111111111111111,
             "#46039f"
            ],
            [
             0.2222222222222222,
             "#7201a8"
            ],
            [
             0.3333333333333333,
             "#9c179e"
            ],
            [
             0.4444444444444444,
             "#bd3786"
            ],
            [
             0.5555555555555556,
             "#d8576b"
            ],
            [
             0.6666666666666666,
             "#ed7953"
            ],
            [
             0.7777777777777778,
             "#fb9f3a"
            ],
            [
             0.8888888888888888,
             "#fdca26"
            ],
            [
             1,
             "#f0f921"
            ]
           ],
           "sequentialminus": [
            [
             0,
             "#0d0887"
            ],
            [
             0.1111111111111111,
             "#46039f"
            ],
            [
             0.2222222222222222,
             "#7201a8"
            ],
            [
             0.3333333333333333,
             "#9c179e"
            ],
            [
             0.4444444444444444,
             "#bd3786"
            ],
            [
             0.5555555555555556,
             "#d8576b"
            ],
            [
             0.6666666666666666,
             "#ed7953"
            ],
            [
             0.7777777777777778,
             "#fb9f3a"
            ],
            [
             0.8888888888888888,
             "#fdca26"
            ],
            [
             1,
             "#f0f921"
            ]
           ]
          },
          "colorway": [
           "#636efa",
           "#EF553B",
           "#00cc96",
           "#ab63fa",
           "#FFA15A",
           "#19d3f3",
           "#FF6692",
           "#B6E880",
           "#FF97FF",
           "#FECB52"
          ],
          "font": {
           "color": "#2a3f5f"
          },
          "geo": {
           "bgcolor": "white",
           "lakecolor": "white",
           "landcolor": "white",
           "showlakes": true,
           "showland": true,
           "subunitcolor": "#C8D4E3"
          },
          "hoverlabel": {
           "align": "left"
          },
          "hovermode": "closest",
          "mapbox": {
           "style": "light"
          },
          "paper_bgcolor": "white",
          "plot_bgcolor": "white",
          "polar": {
           "angularaxis": {
            "gridcolor": "#EBF0F8",
            "linecolor": "#EBF0F8",
            "ticks": ""
           },
           "bgcolor": "white",
           "radialaxis": {
            "gridcolor": "#EBF0F8",
            "linecolor": "#EBF0F8",
            "ticks": ""
           }
          },
          "scene": {
           "xaxis": {
            "backgroundcolor": "white",
            "gridcolor": "#DFE8F3",
            "gridwidth": 2,
            "linecolor": "#EBF0F8",
            "showbackground": true,
            "ticks": "",
            "zerolinecolor": "#EBF0F8"
           },
           "yaxis": {
            "backgroundcolor": "white",
            "gridcolor": "#DFE8F3",
            "gridwidth": 2,
            "linecolor": "#EBF0F8",
            "showbackground": true,
            "ticks": "",
            "zerolinecolor": "#EBF0F8"
           },
           "zaxis": {
            "backgroundcolor": "white",
            "gridcolor": "#DFE8F3",
            "gridwidth": 2,
            "linecolor": "#EBF0F8",
            "showbackground": true,
            "ticks": "",
            "zerolinecolor": "#EBF0F8"
           }
          },
          "shapedefaults": {
           "line": {
            "color": "#2a3f5f"
           }
          },
          "ternary": {
           "aaxis": {
            "gridcolor": "#DFE8F3",
            "linecolor": "#A2B1C6",
            "ticks": ""
           },
           "baxis": {
            "gridcolor": "#DFE8F3",
            "linecolor": "#A2B1C6",
            "ticks": ""
           },
           "bgcolor": "white",
           "caxis": {
            "gridcolor": "#DFE8F3",
            "linecolor": "#A2B1C6",
            "ticks": ""
           }
          },
          "title": {
           "x": 0.05
          },
          "xaxis": {
           "automargin": true,
           "gridcolor": "#EBF0F8",
           "linecolor": "#EBF0F8",
           "ticks": "",
           "title": {
            "standoff": 15
           },
           "zerolinecolor": "#EBF0F8",
           "zerolinewidth": 2
          },
          "yaxis": {
           "automargin": true,
           "gridcolor": "#EBF0F8",
           "linecolor": "#EBF0F8",
           "ticks": "",
           "title": {
            "standoff": 15
           },
           "zerolinecolor": "#EBF0F8",
           "zerolinewidth": 2
          }
         }
        },
        "xaxis": {
         "anchor": "y",
         "autorange": true,
         "domain": [
          0,
          1
         ],
         "range": [
          -0.5,
          23.5
         ],
         "title": {
          "text": "Pickup 시간"
         },
         "type": "linear"
        },
        "yaxis": {
         "anchor": "x",
         "autorange": true,
         "domain": [
          0,
          1
         ],
         "range": [
          -0.5,
          6.5
         ],
         "ticktext": [
          "월",
          "화",
          "수",
          "목",
          "금",
          "토",
          "일"
         ],
         "tickvals": [
          0,
          1,
          2,
          3,
          4,
          5,
          6
         ],
         "title": {
          "text": "요일"
         },
         "type": "linear"
        }
       }
      },
      "image/png": "[encoded data removed]",
      "text/html": [
       "<div>                            <div id=\"a50b1913-0594-473a-9d7b-3d62761abc4a\" class=\"plotly-graph-div\" style=\"height:300px; width:100%;\"></div>            <script type=\"text/javascript\">                require([\"plotly\"], function(Plotly) {                    window.PLOTLYENV=window.PLOTLYENV || {};                                    if (document.getElementById(\"a50b1913-0594-473a-9d7b-3d62761abc4a\")) {                    Plotly.newPlot(                        \"a50b1913-0594-473a-9d7b-3d62761abc4a\",                        [{\"coloraxis\":\"coloraxis\",\"histfunc\":\"sum\",\"hovertemplate\":\"pickup_hour=%{x}\\u003cbr\\u003edayofweek=%{y}\\u003cbr\\u003esum of \\ud3c9\\uade0\\uc18d\\ub825=%{z}\\u003cextra\\u003e\\u003c\\u002fextra\\u003e\",\"name\":\"\",\"nbinsx\":24,\"nbinsy\":7,\"x\":[0,1,2,3,4,5,6,7,8,9,10,11,12,13,14,15,16,17,18,19,20,21,22,23,0,1,2,3,4,5,6,7,8,9,10,11,12,13,14,15,16,17,18,19,20,21,22,23,0,1,2,3,4,5,6,7,8,9,10,11,12,13,14,15,16,17,18,19,20,21,22,23,0,1,2,4,5,6,7,8,9,10,11,12,13,14,15,16,17,18,19,20,21,22,23,0,1,2,3,4,5,6,7,8,9,10,11,12,13,14,15,16,17,18,19,20,21,22,23,0,1,2,3,4,5,6,7,8,9,10,11,12,13,14,15,16,17,18,19,20,21,22,23,0,1,2,3,4,5,6,7,8,9,10,11,12,13,14,15,16,17,18,19,20,21,22,23],\"xaxis\":\"x\",\"xbingroup\":\"x\",\"y\":[0,0,0,0,0,0,0,0,0,0,0,0,0,0,0,0,0,0,0,0,0,0,0,0,1,1,1,1,1,1,1,1,1,1,1,1,1,1,1,1,1,1,1,1,1,1,1,1,2,2,2,2,2,2,2,2,2,2,2,2,2,2,2,2,2,2,2,2,2,2,2,2,3,3,3,3,3,3,3,3,3,3,3,3,3,3,3,3,3,3,3,3,3,3,3,4,4,4,4,4,4,4,4,4,4,4,4,4,4,4,4,4,4,4,4,4,4,4,4,5,5,5,5,5,5,5,5,5,5,5,5,5,5,5,5,5,5,5,5,5,5,5,5,6,6,6,6,6,6,6,6,6,6,6,6,6,6,6,6,6,6,6,6,6,6,6,6],\"yaxis\":\"y\",\"ybingroup\":\"y\",\"z\":[5.723094058125099e-05,3.859453239580768e-05,2.4515322355725505e-05,2.3758530166925242e-05,0.00010253662151545599,4.6349066185552494e-05,5.524251595950722e-05,3.6485581712615164e-05,2.729700905571568e-05,2.3888399810108505e-05,2.7977925818494158e-05,3.082070405534749e-05,2.7202963084635528e-05,3.437187367151645e-05,3.598455095560936e-05,2.3584313004192223e-05,2.971621022270536e-05,3.053557899314495e-05,3.329373391732812e-05,3.2170821325578856e-05,3.379648223049551e-05,3.961164903747433e-05,3.6255751807201486e-05,3.8276493110125314e-05,2.5677448221935806e-05,4.257066478380059e-05,4.234239456675354e-05,5.031606217392172e-05,3.842022008941714e-05,6.751000103939182e-05,3.2883096505735325e-05,3.558874736181375e-05,2.4630726655275126e-05,2.5721216162692458e-05,2.3889480756141817e-05,2.8024272323142035e-05,2.226581323865508e-05,2.651833680008075e-05,3.0370276344401747e-05,2.9644209287273187e-05,2.981642201811735e-05,3.047570695234393e-05,3.163064122461015e-05,3.337318767488735e-05,3.113460672898054e-05,3.780195193586314e-05,3.361939479104654e-05,3.385344848701554e-05,3.278611254946058e-05,5.779114839222702e-05,2.7862666321248623e-05,5.636131418421629e-05,3.8859151518088076e-05,3.43519666181592e-05,5.041773815693046e-05,3.7061679254616166e-05,3.0436272129937817e-05,2.5803331938961496e-05,2.1030860223279826e-05,1.811025811309659e-05,2.3719463701693455e-05,2.803399557857108e-05,2.7232711921183893e-05,2.7871785085867178e-05,3.0612665795429827e-05,2.6340387810375093e-05,2.9374094851375134e-05,3.219231012522816e-05,3.78527566315243e-05,3.0368979332387895e-05,2.9078203773943373e-05,4.2168638731656095e-05,3.871011568212855e-05,4.338314711480122e-05,6.899149104900677e-05,4.310678345966059e-05,4.4402348888487625e-05,3.997590248166644e-05,2.575185121386115e-05,3.0134702762844466e-05,2.649937505159902e-05,2.204466797612663e-05,2.5622692324882268e-05,2.3515122757072032e-05,2.2550414894772936e-05,2.578410253446659e-05,2.4694833126697213e-05,2.7683725961184476e-05,2.177594533621747e-05,3.238927248071606e-05,2.958379225205985e-05,3.615970867578247e-05,2.043268177273862e-05,3.4541503070228866e-05,3.6125191520224597e-05,3.817514548619165e-05,3.326041260354548e-05,3.894988587782446e-05,6.778241066370699e-05,2.7025358149575114e-05,5.849157714090238e-05,4.33580728248973e-05,3.4854900514060424e-05,2.8142262826447962e-05,2.8618326787062755e-05,2.366151254746728e-05,2.6857156323015764e-05,2.5168317120219502e-05,3.888625997779635e-05,2.5615611635183698e-05,2.556784596053668e-05,3.111917091436483e-05,3.144817999433738e-05,3.291689013514608e-05,2.4152928898072615e-05,2.920314031217611e-05,3.1576552197104025e-05,3.2315387854885346e-05,2.983710026950079e-05,4.627883347746749e-05,2.7773578145329388e-05,3.631997095552261e-05,2.3662924009714383e-05,2.88751262726022e-05,3.481895084203151e-05,4.579323880557313e-05,3.158306515688948e-05,4.569617656654318e-05,3.854996022772061e-05,3.5462256071674194e-05,3.4523205876047595e-05,3.298608237105099e-05,2.37379386052421e-05,3.31362657840333e-05,2.630917740744218e-05,3.0137175793010993e-05,2.6407973293941803e-05,2.7394388340584566e-05,2.6206466258467483e-05,2.788798338314243e-05,3.1777919591053626e-05,2.911953736991926e-05,2.9136350314176552e-05,4.457038075834776e-05,3.169424380395911e-05,4.03684446050433e-05,2.7602871793288107e-05,3.076932832172534e-05,3.0249404400810417e-05,4.301809584666796e-05,4.714762438919343e-05,4.4479539043908406e-05,3.2688355721036255e-05,3.342942938384902e-05,3.649589327830831e-05,2.8420826272622926e-05,3.066735122623693e-05,3.0617440583593604e-05,2.5797984188040713e-05,3.3760608829152636e-05,3.0051380708106856e-05,2.924779416154596e-05,3.4421804426976136e-05,3.327416251466723e-05,3.7759245998201744e-05,3.458304054405475e-05,3.7060129142285943e-05],\"type\":\"histogram2d\"}],                        {\"template\":{\"data\":{\"histogram2dcontour\":[{\"type\":\"histogram2dcontour\",\"colorbar\":{\"outlinewidth\":0,\"ticks\":\"\"},\"colorscale\":[[0.0,\"#0d0887\"],[0.1111111111111111,\"#46039f\"],[0.2222222222222222,\"#7201a8\"],[0.3333333333333333,\"#9c179e\"],[0.4444444444444444,\"#bd3786\"],[0.5555555555555556,\"#d8576b\"],[0.6666666666666666,\"#ed7953\"],[0.7777777777777778,\"#fb9f3a\"],[0.8888888888888888,\"#fdca26\"],[1.0,\"#f0f921\"]]}],\"choropleth\":[{\"type\":\"choropleth\",\"colorbar\":{\"outlinewidth\":0,\"ticks\":\"\"}}],\"histogram2d\":[{\"type\":\"histogram2d\",\"colorbar\":{\"outlinewidth\":0,\"ticks\":\"\"},\"colorscale\":[[0.0,\"#0d0887\"],[0.1111111111111111,\"#46039f\"],[0.2222222222222222,\"#7201a8\"],[0.3333333333333333,\"#9c179e\"],[0.4444444444444444,\"#bd3786\"],[0.5555555555555556,\"#d8576b\"],[0.6666666666666666,\"#ed7953\"],[0.7777777777777778,\"#fb9f3a\"],[0.8888888888888888,\"#fdca26\"],[1.0,\"#f0f921\"]]}],\"heatmap\":[{\"type\":\"heatmap\",\"colorbar\":{\"outlinewidth\":0,\"ticks\":\"\"},\"colorscale\":[[0.0,\"#0d0887\"],[0.1111111111111111,\"#46039f\"],[0.2222222222222222,\"#7201a8\"],[0.3333333333333333,\"#9c179e\"],[0.4444444444444444,\"#bd3786\"],[0.5555555555555556,\"#d8576b\"],[0.6666666666666666,\"#ed7953\"],[0.7777777777777778,\"#fb9f3a\"],[0.8888888888888888,\"#fdca26\"],[1.0,\"#f0f921\"]]}],\"heatmapgl\":[{\"type\":\"heatmapgl\",\"colorbar\":{\"outlinewidth\":0,\"ticks\":\"\"},\"colorscale\":[[0.0,\"#0d0887\"],[0.1111111111111111,\"#46039f\"],[0.2222222222222222,\"#7201a8\"],[0.3333333333333333,\"#9c179e\"],[0.4444444444444444,\"#bd3786\"],[0.5555555555555556,\"#d8576b\"],[0.6666666666666666,\"#ed7953\"],[0.7777777777777778,\"#fb9f3a\"],[0.8888888888888888,\"#fdca26\"],[1.0,\"#f0f921\"]]}],\"contourcarpet\":[{\"type\":\"contourcarpet\",\"colorbar\":{\"outlinewidth\":0,\"ticks\":\"\"}}],\"contour\":[{\"type\":\"contour\",\"colorbar\":{\"outlinewidth\":0,\"ticks\":\"\"},\"colorscale\":[[0.0,\"#0d0887\"],[0.1111111111111111,\"#46039f\"],[0.2222222222222222,\"#7201a8\"],[0.3333333333333333,\"#9c179e\"],[0.4444444444444444,\"#bd3786\"],[0.5555555555555556,\"#d8576b\"],[0.6666666666666666,\"#ed7953\"],[0.7777777777777778,\"#fb9f3a\"],[0.8888888888888888,\"#fdca26\"],[1.0,\"#f0f921\"]]}],\"surface\":[{\"type\":\"surface\",\"colorbar\":{\"outlinewidth\":0,\"ticks\":\"\"},\"colorscale\":[[0.0,\"#0d0887\"],[0.1111111111111111,\"#46039f\"],[0.2222222222222222,\"#7201a8\"],[0.3333333333333333,\"#9c179e\"],[0.4444444444444444,\"#bd3786\"],[0.5555555555555556,\"#d8576b\"],[0.6666666666666666,\"#ed7953\"],[0.7777777777777778,\"#fb9f3a\"],[0.8888888888888888,\"#fdca26\"],[1.0,\"#f0f921\"]]}],\"mesh3d\":[{\"type\":\"mesh3d\",\"colorbar\":{\"outlinewidth\":0,\"ticks\":\"\"}}],\"scatter\":[{\"fillpattern\":{\"fillmode\":\"overlay\",\"size\":10,\"solidity\":0.2},\"type\":\"scatter\"}],\"parcoords\":[{\"type\":\"parcoords\",\"line\":{\"colorbar\":{\"outlinewidth\":0,\"ticks\":\"\"}}}],\"scatterpolargl\":[{\"type\":\"scatterpolargl\",\"marker\":{\"colorbar\":{\"outlinewidth\":0,\"ticks\":\"\"}}}],\"bar\":[{\"error_x\":{\"color\":\"#2a3f5f\"},\"error_y\":{\"color\":\"#2a3f5f\"},\"marker\":{\"line\":{\"color\":\"white\",\"width\":0.5},\"pattern\":{\"fillmode\":\"overlay\",\"size\":10,\"solidity\":0.2}},\"type\":\"bar\"}],\"scattergeo\":[{\"type\":\"scattergeo\",\"marker\":{\"colorbar\":{\"outlinewidth\":0,\"ticks\":\"\"}}}],\"scatterpolar\":[{\"type\":\"scatterpolar\",\"marker\":{\"colorbar\":{\"outlinewidth\":0,\"ticks\":\"\"}}}],\"histogram\":[{\"marker\":{\"pattern\":{\"fillmode\":\"overlay\",\"size\":10,\"solidity\":0.2}},\"type\":\"histogram\"}],\"scattergl\":[{\"type\":\"scattergl\",\"marker\":{\"colorbar\":{\"outlinewidth\":0,\"ticks\":\"\"}}}],\"scatter3d\":[{\"type\":\"scatter3d\",\"line\":{\"colorbar\":{\"outlinewidth\":0,\"ticks\":\"\"}},\"marker\":{\"colorbar\":{\"outlinewidth\":0,\"ticks\":\"\"}}}],\"scattermapbox\":[{\"type\":\"scattermapbox\",\"marker\":{\"colorbar\":{\"outlinewidth\":0,\"ticks\":\"\"}}}],\"scatterternary\":[{\"type\":\"scatterternary\",\"marker\":{\"colorbar\":{\"outlinewidth\":0,\"ticks\":\"\"}}}],\"scattercarpet\":[{\"type\":\"scattercarpet\",\"marker\":{\"colorbar\":{\"outlinewidth\":0,\"ticks\":\"\"}}}],\"carpet\":[{\"aaxis\":{\"endlinecolor\":\"#2a3f5f\",\"gridcolor\":\"#C8D4E3\",\"linecolor\":\"#C8D4E3\",\"minorgridcolor\":\"#C8D4E3\",\"startlinecolor\":\"#2a3f5f\"},\"baxis\":{\"endlinecolor\":\"#2a3f5f\",\"gridcolor\":\"#C8D4E3\",\"linecolor\":\"#C8D4E3\",\"minorgridcolor\":\"#C8D4E3\",\"startlinecolor\":\"#2a3f5f\"},\"type\":\"carpet\"}],\"table\":[{\"cells\":{\"fill\":{\"color\":\"#EBF0F8\"},\"line\":{\"color\":\"white\"}},\"header\":{\"fill\":{\"color\":\"#C8D4E3\"},\"line\":{\"color\":\"white\"}},\"type\":\"table\"}],\"barpolar\":[{\"marker\":{\"line\":{\"color\":\"white\",\"width\":0.5},\"pattern\":{\"fillmode\":\"overlay\",\"size\":10,\"solidity\":0.2}},\"type\":\"barpolar\"}],\"pie\":[{\"automargin\":true,\"type\":\"pie\"}]},\"layout\":{\"autotypenumbers\":\"strict\",\"colorway\":[\"#636efa\",\"#EF553B\",\"#00cc96\",\"#ab63fa\",\"#FFA15A\",\"#19d3f3\",\"#FF6692\",\"#B6E880\",\"#FF97FF\",\"#FECB52\"],\"font\":{\"color\":\"#2a3f5f\"},\"hovermode\":\"closest\",\"hoverlabel\":{\"align\":\"left\"},\"paper_bgcolor\":\"white\",\"plot_bgcolor\":\"white\",\"polar\":{\"bgcolor\":\"white\",\"angularaxis\":{\"gridcolor\":\"#EBF0F8\",\"linecolor\":\"#EBF0F8\",\"ticks\":\"\"},\"radialaxis\":{\"gridcolor\":\"#EBF0F8\",\"linecolor\":\"#EBF0F8\",\"ticks\":\"\"}},\"ternary\":{\"bgcolor\":\"white\",\"aaxis\":{\"gridcolor\":\"#DFE8F3\",\"linecolor\":\"#A2B1C6\",\"ticks\":\"\"},\"baxis\":{\"gridcolor\":\"#DFE8F3\",\"linecolor\":\"#A2B1C6\",\"ticks\":\"\"},\"caxis\":{\"gridcolor\":\"#DFE8F3\",\"linecolor\":\"#A2B1C6\",\"ticks\":\"\"}},\"coloraxis\":{\"colorbar\":{\"outlinewidth\":0,\"ticks\":\"\"}},\"colorscale\":{\"sequential\":[[0.0,\"#0d0887\"],[0.1111111111111111,\"#46039f\"],[0.2222222222222222,\"#7201a8\"],[0.3333333333333333,\"#9c179e\"],[0.4444444444444444,\"#bd3786\"],[0.5555555555555556,\"#d8576b\"],[0.6666666666666666,\"#ed7953\"],[0.7777777777777778,\"#fb9f3a\"],[0.8888888888888888,\"#fdca26\"],[1.0,\"#f0f921\"]],\"sequentialminus\":[[0.0,\"#0d0887\"],[0.1111111111111111,\"#46039f\"],[0.2222222222222222,\"#7201a8\"],[0.3333333333333333,\"#9c179e\"],[0.4444444444444444,\"#bd3786\"],[0.5555555555555556,\"#d8576b\"],[0.6666666666666666,\"#ed7953\"],[0.7777777777777778,\"#fb9f3a\"],[0.8888888888888888,\"#fdca26\"],[1.0,\"#f0f921\"]],\"diverging\":[[0,\"#8e0152\"],[0.1,\"#c51b7d\"],[0.2,\"#de77ae\"],[0.3,\"#f1b6da\"],[0.4,\"#fde0ef\"],[0.5,\"#f7f7f7\"],[0.6,\"#e6f5d0\"],[0.7,\"#b8e186\"],[0.8,\"#7fbc41\"],[0.9,\"#4d9221\"],[1,\"#276419\"]]},\"xaxis\":{\"gridcolor\":\"#EBF0F8\",\"linecolor\":\"#EBF0F8\",\"ticks\":\"\",\"title\":{\"standoff\":15},\"zerolinecolor\":\"#EBF0F8\",\"automargin\":true,\"zerolinewidth\":2},\"yaxis\":{\"gridcolor\":\"#EBF0F8\",\"linecolor\":\"#EBF0F8\",\"ticks\":\"\",\"title\":{\"standoff\":15},\"zerolinecolor\":\"#EBF0F8\",\"automargin\":true,\"zerolinewidth\":2},\"scene\":{\"xaxis\":{\"backgroundcolor\":\"white\",\"gridcolor\":\"#DFE8F3\",\"linecolor\":\"#EBF0F8\",\"showbackground\":true,\"ticks\":\"\",\"zerolinecolor\":\"#EBF0F8\",\"gridwidth\":2},\"yaxis\":{\"backgroundcolor\":\"white\",\"gridcolor\":\"#DFE8F3\",\"linecolor\":\"#EBF0F8\",\"showbackground\":true,\"ticks\":\"\",\"zerolinecolor\":\"#EBF0F8\",\"gridwidth\":2},\"zaxis\":{\"backgroundcolor\":\"white\",\"gridcolor\":\"#DFE8F3\",\"linecolor\":\"#EBF0F8\",\"showbackground\":true,\"ticks\":\"\",\"zerolinecolor\":\"#EBF0F8\",\"gridwidth\":2}},\"shapedefaults\":{\"line\":{\"color\":\"#2a3f5f\"}},\"annotationdefaults\":{\"arrowcolor\":\"#2a3f5f\",\"arrowhead\":0,\"arrowwidth\":1},\"geo\":{\"bgcolor\":\"white\",\"landcolor\":\"white\",\"subunitcolor\":\"#C8D4E3\",\"showland\":true,\"showlakes\":true,\"lakecolor\":\"white\"},\"title\":{\"x\":0.05},\"mapbox\":{\"style\":\"light\"}}},\"xaxis\":{\"anchor\":\"y\",\"domain\":[0.0,1.0],\"title\":{\"text\":\"Pickup \\uc2dc\\uac04\"}},\"yaxis\":{\"anchor\":\"x\",\"domain\":[0.0,1.0],\"title\":{\"text\":\"\\uc694\\uc77c\"},\"tickvals\":[0,1,2,3,4,5,6],\"ticktext\":[\"\\uc6d4\",\"\\ud654\",\"\\uc218\",\"\\ubaa9\",\"\\uae08\",\"\\ud1a0\",\"\\uc77c\"]},\"coloraxis\":{\"colorbar\":{\"title\":{\"text\":\"sum of \\ud3c9\\uade0\\uc18d\\ub825\"}},\"colorscale\":[[0.0,\"#0d0887\"],[0.1111111111111111,\"#46039f\"],[0.2222222222222222,\"#7201a8\"],[0.3333333333333333,\"#9c179e\"],[0.4444444444444444,\"#bd3786\"],[0.5555555555555556,\"#d8576b\"],[0.6666666666666666,\"#ed7953\"],[0.7777777777777778,\"#fb9f3a\"],[0.8888888888888888,\"#fdca26\"],[1.0,\"#f0f921\"]]},\"legend\":{\"tracegroupgap\":0},\"margin\":{\"t\":60},\"height\":300},                        {\"responsive\": true}                    ).then(function(){\n",
       "                            \n",
       "var gd = document.getElementById('a50b1913-0594-473a-9d7b-3d62761abc4a');\n",
       "var x = new MutationObserver(function (mutations, observer) {{\n",
       "        var display = window.getComputedStyle(gd).display;\n",
       "        if (!display || display === 'none') {{\n",
       "            console.log([gd, 'removed!']);\n",
       "            Plotly.purge(gd);\n",
       "            observer.disconnect();\n",
       "        }}\n",
       "}});\n",
       "\n",
       "// Listen for the removal of the full notebook cells\n",
       "var notebookContainer = gd.closest('#notebook-container');\n",
       "if (notebookContainer) {{\n",
       "    x.observe(notebookContainer, {childList: true});\n",
       "}}\n",
       "\n",
       "// Listen for the clearing of the current output cell\n",
       "var outputEl = gd.closest('.output');\n",
       "if (outputEl) {{\n",
       "    x.observe(outputEl, {childList: true});\n",
       "}}\n",
       "\n",
       "                        })                };                });            </script>        </div>"
      ]
     },
     "metadata": {},
     "output_type": "display_data"
    }
   ],
   "source": [
    "pd.options.plotting.backend = \"plotly\"\n",
    "pio.templates.default = \"plotly_white\"\n",
    "df = pd.read_csv(\"https://raw.githubusercontent.com/guebin/DV2023/main/posts/NYCTaxi.csv\").assign(\n",
    "    log_trip_duration = lambda df: np.log(df.trip_duration),\n",
    "    pickup_datetime = lambda df: df.pickup_datetime.apply(pd.to_datetime),\n",
    "    dropoff_datetime = lambda df: df.dropoff_datetime.apply(pd.to_datetime),\n",
    "    dist = lambda df: np.sqrt((df.pickup_latitude-df.dropoff_latitude)**2 + (df.pickup_longitude-df.dropoff_longitude)**2),\n",
    "    vendor_id = lambda df: df.vendor_id.map({1:'A',2:'B'})\n",
    ").assign(\n",
    "    speed = lambda df: df.dist / df.trip_duration,\n",
    "    pickup_hour = lambda df: df.pickup_datetime.dt.hour,\n",
    "    dropoff_hour = lambda df: df.dropoff_datetime.dt.hour,\n",
    "    dayofweek = lambda df: df.pickup_datetime.dt.dayofweek\n",
    ")\n",
    "df_small = df[::100].reset_index(drop=True)\n",
    "df.head()\n",
    "\n",
    "weekday_korean = ['월', '화', '수', '목', '금', '토', '일']\n",
    "\n",
    "nearby_trips = df[df['dist'] < 0.012819]\n",
    "\n",
    "average_speed = nearby_trips.groupby(['dayofweek', 'pickup_hour'])['speed'].mean().reset_index(name='평균속력')\n",
    "\n",
    "fig1 = px.density_heatmap(\n",
    "    data_frame=average_speed,\n",
    "    x='pickup_hour',\n",
    "    y='dayofweek',\n",
    "    z='평균속력',\n",
    "    nbinsx=24,\n",
    "    nbinsy=7,\n",
    "    height=300,\n",
    ")\n",
    "\n",
    "fig1.update_layout(\n",
    "    xaxis=dict(title='Pickup 시간'),\n",
    "    yaxis=dict(\n",
    "        title='요일',\n",
    "        tickvals=list(range(7)),  \n",
    "        ticktext=weekday_korean   \n",
    "    )\n",
    ")\n",
    "\n",
    "fig1.show()"
   ]
  },
  {
   "cell_type": "markdown",
   "id": "d3845fae-146f-4705-8adf-72c01639be70",
   "metadata": {},
   "source": [
    "# 기말고사1-(2)"
   ]
  },
  {
   "cell_type": "markdown",
   "id": "132c9593-afff-45df-b082-1d5d95b0c365",
   "metadata": {},
   "source": [
    "# title: 요일,시간에 따른 평균이동거리 시각화   "
   ]
  },
  {
   "cell_type": "code",
   "execution_count": 10,
   "id": "973ac7d1-ed28-40db-85a1-2288895200cd",
   "metadata": {},
   "outputs": [
    {
     "data": {
      "application/vnd.plotly.v1+json": {
       "config": {
        "plotlyServerURL": "https://plot.ly"
       },
       "data": [
        {
         "coloraxis": "coloraxis",
         "histfunc": "sum",
         "hovertemplate": "pickup_hour=%{x}<br>dayofweek=%{y}<br>sum of 평균이동거리=%{z}<extra></extra>",
         "name": "",
         "nbinsx": 24,
         "nbinsy": 7,
         "type": "histogram2d",
         "x": [
          0,
          1,
          2,
          3,
          4,
          5,
          6,
          7,
          8,
          9,
          10,
          11,
          12,
          13,
          14,
          15,
          16,
          17,
          18,
          19,
          20,
          21,
          22,
          23,
          0,
          1,
          2,
          3,
          4,
          5,
          6,
          7,
          8,
          9,
          10,
          11,
          12,
          13,
          14,
          15,
          16,
          17,
          18,
          19,
          20,
          21,
          22,
          23,
          0,
          1,
          2,
          3,
          4,
          5,
          6,
          7,
          8,
          9,
          10,
          11,
          12,
          13,
          14,
          15,
          16,
          17,
          18,
          19,
          20,
          21,
          22,
          23,
          0,
          1,
          2,
          4,
          5,
          6,
          7,
          8,
          9,
          10,
          11,
          12,
          13,
          14,
          15,
          16,
          17,
          18,
          19,
          20,
          21,
          22,
          23,
          0,
          1,
          2,
          3,
          4,
          5,
          6,
          7,
          8,
          9,
          10,
          11,
          12,
          13,
          14,
          15,
          16,
          17,
          18,
          19,
          20,
          21,
          22,
          23,
          0,
          1,
          2,
          3,
          4,
          5,
          6,
          7,
          8,
          9,
          10,
          11,
          12,
          13,
          14,
          15,
          16,
          17,
          18,
          19,
          20,
          21,
          22,
          23,
          0,
          1,
          2,
          3,
          4,
          5,
          6,
          7,
          8,
          9,
          10,
          11,
          12,
          13,
          14,
          15,
          16,
          17,
          18,
          19,
          20,
          21,
          22,
          23
         ],
         "xaxis": "x",
         "xbingroup": "x",
         "y": [
          0,
          0,
          0,
          0,
          0,
          0,
          0,
          0,
          0,
          0,
          0,
          0,
          0,
          0,
          0,
          0,
          0,
          0,
          0,
          0,
          0,
          0,
          0,
          0,
          1,
          1,
          1,
          1,
          1,
          1,
          1,
          1,
          1,
          1,
          1,
          1,
          1,
          1,
          1,
          1,
          1,
          1,
          1,
          1,
          1,
          1,
          1,
          1,
          2,
          2,
          2,
          2,
          2,
          2,
          2,
          2,
          2,
          2,
          2,
          2,
          2,
          2,
          2,
          2,
          2,
          2,
          2,
          2,
          2,
          2,
          2,
          2,
          3,
          3,
          3,
          3,
          3,
          3,
          3,
          3,
          3,
          3,
          3,
          3,
          3,
          3,
          3,
          3,
          3,
          3,
          3,
          3,
          3,
          3,
          3,
          4,
          4,
          4,
          4,
          4,
          4,
          4,
          4,
          4,
          4,
          4,
          4,
          4,
          4,
          4,
          4,
          4,
          4,
          4,
          4,
          4,
          4,
          4,
          4,
          5,
          5,
          5,
          5,
          5,
          5,
          5,
          5,
          5,
          5,
          5,
          5,
          5,
          5,
          5,
          5,
          5,
          5,
          5,
          5,
          5,
          5,
          5,
          5,
          6,
          6,
          6,
          6,
          6,
          6,
          6,
          6,
          6,
          6,
          6,
          6,
          6,
          6,
          6,
          6,
          6,
          6,
          6,
          6,
          6,
          6,
          6,
          6
         ],
         "yaxis": "y",
         "ybingroup": "y",
         "z": [
          0.009233376375673468,
          0.007153528030150672,
          0.0068765817842533945,
          0.007293868761246049,
          0.00041014648606182394,
          0.009362511369481604,
          0.010039712685146009,
          0.008665127359489627,
          0.007777884854050066,
          0.008563180186269552,
          0.0082950954104001,
          0.007900343038635703,
          0.00846214636009306,
          0.009021240363712373,
          0.009119294177298193,
          0.007706841980262449,
          0.008819888850984803,
          0.00775188141602615,
          0.009092046725800317,
          0.008218808044422522,
          0.008341529805244892,
          0.00848011226806858,
          0.00907128288695938,
          0.008258668500480404,
          0.006440496635959095,
          0.009603688277373703,
          0.00866023029368965,
          0.010474622827397468,
          0.007980532739089037,
          0.009237207447114693,
          0.007526752621639717,
          0.008559128901229169,
          0.00837283452651087,
          0.008365904621809996,
          0.00793899629557927,
          0.009098350540291752,
          0.008456897563450676,
          0.009186309647235777,
          0.008961960275953704,
          0.008665979435710186,
          0.008683561772200995,
          0.00816769523219761,
          0.00962084218738906,
          0.00921469631151836,
          0.008469818729861075,
          0.009476850895270512,
          0.008338953014651424,
          0.008538405765803093,
          0.0076255852043318985,
          0.009034395216433566,
          0.0070152796420046015,
          0.005625921057485771,
          0.009607818731672322,
          0.007757884200171958,
          0.009352736514158364,
          0.008990885378726882,
          0.00913771012060229,
          0.008761694571499608,
          0.008561271651471369,
          0.007879797755016254,
          0.008576060715112495,
          0.00839410368563118,
          0.008927962705347132,
          0.0076345923311264,
          0.00853441109272936,
          0.008589191840237282,
          0.00899129018965828,
          0.008328790095508559,
          0.009157359131678556,
          0.009518412742398228,
          0.007573253923377788,
          0.009376782756817597,
          0.008573094338880125,
          0.008800442675144947,
          0.00614158744589499,
          0.007972536767908201,
          0.008113492024489292,
          0.008287331017948683,
          0.008193699972161803,
          0.008746577210449977,
          0.009167056959014966,
          0.008735129309430798,
          0.00886442628211358,
          0.00860472622733038,
          0.008068717825009042,
          0.007723830078839001,
          0.00868517332578529,
          0.008566384599481657,
          0.008764985886154217,
          0.008592837582554226,
          0.008873237939309948,
          0.008867042968446362,
          0.008157264332645655,
          0.008828955720127676,
          0.008609704316299135,
          0.008148972181749689,
          0.007643503310933298,
          0.00959523537163068,
          0.004072397886189928,
          0.0052350349149671415,
          0.008491455805573011,
          0.007866071003429885,
          0.009570864852842587,
          0.00908265578580733,
          0.009246767488864058,
          0.009106485212944809,
          0.008833531822511481,
          0.008548302044811613,
          0.008342304063591623,
          0.007280423010875149,
          0.008274636291249653,
          0.009703292398166127,
          0.008281770883828251,
          0.008742689753526454,
          0.007870244348508944,
          0.007913572104723878,
          0.008669129249145691,
          0.00851225852535362,
          0.008555514691767423,
          0.008686451239744312,
          0.008765527188671698,
          0.009172846499062765,
          0.00494448607604259,
          0.00510777852420354,
          0.008813446480431707,
          0.008149199689401025,
          0.009002423861803027,
          0.00713716455805906,
          0.009220894642116471,
          0.009731121965070456,
          0.008034101263131404,
          0.00883307216517952,
          0.009118071021054028,
          0.008825693266533282,
          0.00870455487459557,
          0.008340529160689156,
          0.008292697071584355,
          0.00963724013837645,
          0.008783518794226263,
          0.008946934809321279,
          0.008816756218904606,
          0.0085509599614956,
          0.008486280267587262,
          0.009558217113599714,
          0.007759215110871051,
          0.007869392603896453,
          0.008142214370748994,
          0.005636140468464954,
          0.007067408882797081,
          0.011270741111827005,
          0.008666506831436195,
          0.008930691977326837,
          0.007564587115372305,
          0.009780726681073828,
          0.010130921407364732,
          0.008525576515928873,
          0.008579785813441541,
          0.008610923765461612,
          0.00806958023604832,
          0.009780832032787675,
          0.007459278264801831,
          0.00898890099344537,
          0.007822046895649961,
          0.008321813376771578,
          0.007505666884232434,
          0.00867163043023109,
          0.009336703172188102
         ]
        }
       ],
       "layout": {
        "autosize": true,
        "coloraxis": {
         "colorbar": {
          "title": {
           "text": "sum of 평균이동거리"
          }
         },
         "colorscale": [
          [
           0,
           "#0d0887"
          ],
          [
           0.1111111111111111,
           "#46039f"
          ],
          [
           0.2222222222222222,
           "#7201a8"
          ],
          [
           0.3333333333333333,
           "#9c179e"
          ],
          [
           0.4444444444444444,
           "#bd3786"
          ],
          [
           0.5555555555555556,
           "#d8576b"
          ],
          [
           0.6666666666666666,
           "#ed7953"
          ],
          [
           0.7777777777777778,
           "#fb9f3a"
          ],
          [
           0.8888888888888888,
           "#fdca26"
          ],
          [
           1,
           "#f0f921"
          ]
         ]
        },
        "legend": {
         "tracegroupgap": 0
        },
        "margin": {
         "t": 60
        },
        "template": {
         "data": {
          "bar": [
           {
            "error_x": {
             "color": "#2a3f5f"
            },
            "error_y": {
             "color": "#2a3f5f"
            },
            "marker": {
             "line": {
              "color": "white",
              "width": 0.5
             },
             "pattern": {
              "fillmode": "overlay",
              "size": 10,
              "solidity": 0.2
             }
            },
            "type": "bar"
           }
          ],
          "barpolar": [
           {
            "marker": {
             "line": {
              "color": "white",
              "width": 0.5
             },
             "pattern": {
              "fillmode": "overlay",
              "size": 10,
              "solidity": 0.2
             }
            },
            "type": "barpolar"
           }
          ],
          "carpet": [
           {
            "aaxis": {
             "endlinecolor": "#2a3f5f",
             "gridcolor": "#C8D4E3",
             "linecolor": "#C8D4E3",
             "minorgridcolor": "#C8D4E3",
             "startlinecolor": "#2a3f5f"
            },
            "baxis": {
             "endlinecolor": "#2a3f5f",
             "gridcolor": "#C8D4E3",
             "linecolor": "#C8D4E3",
             "minorgridcolor": "#C8D4E3",
             "startlinecolor": "#2a3f5f"
            },
            "type": "carpet"
           }
          ],
          "choropleth": [
           {
            "colorbar": {
             "outlinewidth": 0,
             "ticks": ""
            },
            "type": "choropleth"
           }
          ],
          "contour": [
           {
            "colorbar": {
             "outlinewidth": 0,
             "ticks": ""
            },
            "colorscale": [
             [
              0,
              "#0d0887"
             ],
             [
              0.1111111111111111,
              "#46039f"
             ],
             [
              0.2222222222222222,
              "#7201a8"
             ],
             [
              0.3333333333333333,
              "#9c179e"
             ],
             [
              0.4444444444444444,
              "#bd3786"
             ],
             [
              0.5555555555555556,
              "#d8576b"
             ],
             [
              0.6666666666666666,
              "#ed7953"
             ],
             [
              0.7777777777777778,
              "#fb9f3a"
             ],
             [
              0.8888888888888888,
              "#fdca26"
             ],
             [
              1,
              "#f0f921"
             ]
            ],
            "type": "contour"
           }
          ],
          "contourcarpet": [
           {
            "colorbar": {
             "outlinewidth": 0,
             "ticks": ""
            },
            "type": "contourcarpet"
           }
          ],
          "heatmap": [
           {
            "colorbar": {
             "outlinewidth": 0,
             "ticks": ""
            },
            "colorscale": [
             [
              0,
              "#0d0887"
             ],
             [
              0.1111111111111111,
              "#46039f"
             ],
             [
              0.2222222222222222,
              "#7201a8"
             ],
             [
              0.3333333333333333,
              "#9c179e"
             ],
             [
              0.4444444444444444,
              "#bd3786"
             ],
             [
              0.5555555555555556,
              "#d8576b"
             ],
             [
              0.6666666666666666,
              "#ed7953"
             ],
             [
              0.7777777777777778,
              "#fb9f3a"
             ],
             [
              0.8888888888888888,
              "#fdca26"
             ],
             [
              1,
              "#f0f921"
             ]
            ],
            "type": "heatmap"
           }
          ],
          "heatmapgl": [
           {
            "colorbar": {
             "outlinewidth": 0,
             "ticks": ""
            },
            "colorscale": [
             [
              0,
              "#0d0887"
             ],
             [
              0.1111111111111111,
              "#46039f"
             ],
             [
              0.2222222222222222,
              "#7201a8"
             ],
             [
              0.3333333333333333,
              "#9c179e"
             ],
             [
              0.4444444444444444,
              "#bd3786"
             ],
             [
              0.5555555555555556,
              "#d8576b"
             ],
             [
              0.6666666666666666,
              "#ed7953"
             ],
             [
              0.7777777777777778,
              "#fb9f3a"
             ],
             [
              0.8888888888888888,
              "#fdca26"
             ],
             [
              1,
              "#f0f921"
             ]
            ],
            "type": "heatmapgl"
           }
          ],
          "histogram": [
           {
            "marker": {
             "pattern": {
              "fillmode": "overlay",
              "size": 10,
              "solidity": 0.2
             }
            },
            "type": "histogram"
           }
          ],
          "histogram2d": [
           {
            "colorbar": {
             "outlinewidth": 0,
             "ticks": ""
            },
            "colorscale": [
             [
              0,
              "#0d0887"
             ],
             [
              0.1111111111111111,
              "#46039f"
             ],
             [
              0.2222222222222222,
              "#7201a8"
             ],
             [
              0.3333333333333333,
              "#9c179e"
             ],
             [
              0.4444444444444444,
              "#bd3786"
             ],
             [
              0.5555555555555556,
              "#d8576b"
             ],
             [
              0.6666666666666666,
              "#ed7953"
             ],
             [
              0.7777777777777778,
              "#fb9f3a"
             ],
             [
              0.8888888888888888,
              "#fdca26"
             ],
             [
              1,
              "#f0f921"
             ]
            ],
            "type": "histogram2d"
           }
          ],
          "histogram2dcontour": [
           {
            "colorbar": {
             "outlinewidth": 0,
             "ticks": ""
            },
            "colorscale": [
             [
              0,
              "#0d0887"
             ],
             [
              0.1111111111111111,
              "#46039f"
             ],
             [
              0.2222222222222222,
              "#7201a8"
             ],
             [
              0.3333333333333333,
              "#9c179e"
             ],
             [
              0.4444444444444444,
              "#bd3786"
             ],
             [
              0.5555555555555556,
              "#d8576b"
             ],
             [
              0.6666666666666666,
              "#ed7953"
             ],
             [
              0.7777777777777778,
              "#fb9f3a"
             ],
             [
              0.8888888888888888,
              "#fdca26"
             ],
             [
              1,
              "#f0f921"
             ]
            ],
            "type": "histogram2dcontour"
           }
          ],
          "mesh3d": [
           {
            "colorbar": {
             "outlinewidth": 0,
             "ticks": ""
            },
            "type": "mesh3d"
           }
          ],
          "parcoords": [
           {
            "line": {
             "colorbar": {
              "outlinewidth": 0,
              "ticks": ""
             }
            },
            "type": "parcoords"
           }
          ],
          "pie": [
           {
            "automargin": true,
            "type": "pie"
           }
          ],
          "scatter": [
           {
            "fillpattern": {
             "fillmode": "overlay",
             "size": 10,
             "solidity": 0.2
            },
            "type": "scatter"
           }
          ],
          "scatter3d": [
           {
            "line": {
             "colorbar": {
              "outlinewidth": 0,
              "ticks": ""
             }
            },
            "marker": {
             "colorbar": {
              "outlinewidth": 0,
              "ticks": ""
             }
            },
            "type": "scatter3d"
           }
          ],
          "scattercarpet": [
           {
            "marker": {
             "colorbar": {
              "outlinewidth": 0,
              "ticks": ""
             }
            },
            "type": "scattercarpet"
           }
          ],
          "scattergeo": [
           {
            "marker": {
             "colorbar": {
              "outlinewidth": 0,
              "ticks": ""
             }
            },
            "type": "scattergeo"
           }
          ],
          "scattergl": [
           {
            "marker": {
             "colorbar": {
              "outlinewidth": 0,
              "ticks": ""
             }
            },
            "type": "scattergl"
           }
          ],
          "scattermapbox": [
           {
            "marker": {
             "colorbar": {
              "outlinewidth": 0,
              "ticks": ""
             }
            },
            "type": "scattermapbox"
           }
          ],
          "scatterpolar": [
           {
            "marker": {
             "colorbar": {
              "outlinewidth": 0,
              "ticks": ""
             }
            },
            "type": "scatterpolar"
           }
          ],
          "scatterpolargl": [
           {
            "marker": {
             "colorbar": {
              "outlinewidth": 0,
              "ticks": ""
             }
            },
            "type": "scatterpolargl"
           }
          ],
          "scatterternary": [
           {
            "marker": {
             "colorbar": {
              "outlinewidth": 0,
              "ticks": ""
             }
            },
            "type": "scatterternary"
           }
          ],
          "surface": [
           {
            "colorbar": {
             "outlinewidth": 0,
             "ticks": ""
            },
            "colorscale": [
             [
              0,
              "#0d0887"
             ],
             [
              0.1111111111111111,
              "#46039f"
             ],
             [
              0.2222222222222222,
              "#7201a8"
             ],
             [
              0.3333333333333333,
              "#9c179e"
             ],
             [
              0.4444444444444444,
              "#bd3786"
             ],
             [
              0.5555555555555556,
              "#d8576b"
             ],
             [
              0.6666666666666666,
              "#ed7953"
             ],
             [
              0.7777777777777778,
              "#fb9f3a"
             ],
             [
              0.8888888888888888,
              "#fdca26"
             ],
             [
              1,
              "#f0f921"
             ]
            ],
            "type": "surface"
           }
          ],
          "table": [
           {
            "cells": {
             "fill": {
              "color": "#EBF0F8"
             },
             "line": {
              "color": "white"
             }
            },
            "header": {
             "fill": {
              "color": "#C8D4E3"
             },
             "line": {
              "color": "white"
             }
            },
            "type": "table"
           }
          ]
         },
         "layout": {
          "annotationdefaults": {
           "arrowcolor": "#2a3f5f",
           "arrowhead": 0,
           "arrowwidth": 1
          },
          "autotypenumbers": "strict",
          "coloraxis": {
           "colorbar": {
            "outlinewidth": 0,
            "ticks": ""
           }
          },
          "colorscale": {
           "diverging": [
            [
             0,
             "#8e0152"
            ],
            [
             0.1,
             "#c51b7d"
            ],
            [
             0.2,
             "#de77ae"
            ],
            [
             0.3,
             "#f1b6da"
            ],
            [
             0.4,
             "#fde0ef"
            ],
            [
             0.5,
             "#f7f7f7"
            ],
            [
             0.6,
             "#e6f5d0"
            ],
            [
             0.7,
             "#b8e186"
            ],
            [
             0.8,
             "#7fbc41"
            ],
            [
             0.9,
             "#4d9221"
            ],
            [
             1,
             "#276419"
            ]
           ],
           "sequential": [
            [
             0,
             "#0d0887"
            ],
            [
             0.1111111111111111,
             "#46039f"
            ],
            [
             0.2222222222222222,
             "#7201a8"
            ],
            [
             0.3333333333333333,
             "#9c179e"
            ],
            [
             0.4444444444444444,
             "#bd3786"
            ],
            [
             0.5555555555555556,
             "#d8576b"
            ],
            [
             0.6666666666666666,
             "#ed7953"
            ],
            [
             0.7777777777777778,
             "#fb9f3a"
            ],
            [
             0.8888888888888888,
             "#fdca26"
            ],
            [
             1,
             "#f0f921"
            ]
           ],
           "sequentialminus": [
            [
             0,
             "#0d0887"
            ],
            [
             0.1111111111111111,
             "#46039f"
            ],
            [
             0.2222222222222222,
             "#7201a8"
            ],
            [
             0.3333333333333333,
             "#9c179e"
            ],
            [
             0.4444444444444444,
             "#bd3786"
            ],
            [
             0.5555555555555556,
             "#d8576b"
            ],
            [
             0.6666666666666666,
             "#ed7953"
            ],
            [
             0.7777777777777778,
             "#fb9f3a"
            ],
            [
             0.8888888888888888,
             "#fdca26"
            ],
            [
             1,
             "#f0f921"
            ]
           ]
          },
          "colorway": [
           "#636efa",
           "#EF553B",
           "#00cc96",
           "#ab63fa",
           "#FFA15A",
           "#19d3f3",
           "#FF6692",
           "#B6E880",
           "#FF97FF",
           "#FECB52"
          ],
          "font": {
           "color": "#2a3f5f"
          },
          "geo": {
           "bgcolor": "white",
           "lakecolor": "white",
           "landcolor": "white",
           "showlakes": true,
           "showland": true,
           "subunitcolor": "#C8D4E3"
          },
          "hoverlabel": {
           "align": "left"
          },
          "hovermode": "closest",
          "mapbox": {
           "style": "light"
          },
          "paper_bgcolor": "white",
          "plot_bgcolor": "white",
          "polar": {
           "angularaxis": {
            "gridcolor": "#EBF0F8",
            "linecolor": "#EBF0F8",
            "ticks": ""
           },
           "bgcolor": "white",
           "radialaxis": {
            "gridcolor": "#EBF0F8",
            "linecolor": "#EBF0F8",
            "ticks": ""
           }
          },
          "scene": {
           "xaxis": {
            "backgroundcolor": "white",
            "gridcolor": "#DFE8F3",
            "gridwidth": 2,
            "linecolor": "#EBF0F8",
            "showbackground": true,
            "ticks": "",
            "zerolinecolor": "#EBF0F8"
           },
           "yaxis": {
            "backgroundcolor": "white",
            "gridcolor": "#DFE8F3",
            "gridwidth": 2,
            "linecolor": "#EBF0F8",
            "showbackground": true,
            "ticks": "",
            "zerolinecolor": "#EBF0F8"
           },
           "zaxis": {
            "backgroundcolor": "white",
            "gridcolor": "#DFE8F3",
            "gridwidth": 2,
            "linecolor": "#EBF0F8",
            "showbackground": true,
            "ticks": "",
            "zerolinecolor": "#EBF0F8"
           }
          },
          "shapedefaults": {
           "line": {
            "color": "#2a3f5f"
           }
          },
          "ternary": {
           "aaxis": {
            "gridcolor": "#DFE8F3",
            "linecolor": "#A2B1C6",
            "ticks": ""
           },
           "baxis": {
            "gridcolor": "#DFE8F3",
            "linecolor": "#A2B1C6",
            "ticks": ""
           },
           "bgcolor": "white",
           "caxis": {
            "gridcolor": "#DFE8F3",
            "linecolor": "#A2B1C6",
            "ticks": ""
           }
          },
          "title": {
           "x": 0.05
          },
          "xaxis": {
           "automargin": true,
           "gridcolor": "#EBF0F8",
           "linecolor": "#EBF0F8",
           "ticks": "",
           "title": {
            "standoff": 15
           },
           "zerolinecolor": "#EBF0F8",
           "zerolinewidth": 2
          },
          "yaxis": {
           "automargin": true,
           "gridcolor": "#EBF0F8",
           "linecolor": "#EBF0F8",
           "ticks": "",
           "title": {
            "standoff": 15
           },
           "zerolinecolor": "#EBF0F8",
           "zerolinewidth": 2
          }
         }
        },
        "xaxis": {
         "anchor": "y",
         "autorange": true,
         "domain": [
          0,
          1
         ],
         "range": [
          -0.5,
          23.5
         ],
         "title": {
          "text": "Pickup 시간"
         },
         "type": "linear"
        },
        "yaxis": {
         "anchor": "x",
         "autorange": true,
         "domain": [
          0,
          1
         ],
         "range": [
          -0.5,
          6.5
         ],
         "ticktext": [
          "월",
          "화",
          "수",
          "목",
          "금",
          "토",
          "일"
         ],
         "tickvals": [
          0,
          1,
          2,
          3,
          4,
          5,
          6
         ],
         "title": {
          "text": "요일"
         },
         "type": "linear"
        }
       }
      },
      "image/png": "[encoded data removed]",
      "text/html": [
       "<div>                            <div id=\"def92b5c-879b-40e5-b213-1fa42ef756d1\" class=\"plotly-graph-div\" style=\"height:300px; width:100%;\"></div>            <script type=\"text/javascript\">                require([\"plotly\"], function(Plotly) {                    window.PLOTLYENV=window.PLOTLYENV || {};                                    if (document.getElementById(\"def92b5c-879b-40e5-b213-1fa42ef756d1\")) {                    Plotly.newPlot(                        \"def92b5c-879b-40e5-b213-1fa42ef756d1\",                        [{\"coloraxis\":\"coloraxis\",\"histfunc\":\"sum\",\"hovertemplate\":\"pickup_hour=%{x}\\u003cbr\\u003edayofweek=%{y}\\u003cbr\\u003esum of \\ud3c9\\uade0\\uc774\\ub3d9\\uac70\\ub9ac=%{z}\\u003cextra\\u003e\\u003c\\u002fextra\\u003e\",\"name\":\"\",\"nbinsx\":24,\"nbinsy\":7,\"x\":[0,1,2,3,4,5,6,7,8,9,10,11,12,13,14,15,16,17,18,19,20,21,22,23,0,1,2,3,4,5,6,7,8,9,10,11,12,13,14,15,16,17,18,19,20,21,22,23,0,1,2,3,4,5,6,7,8,9,10,11,12,13,14,15,16,17,18,19,20,21,22,23,0,1,2,4,5,6,7,8,9,10,11,12,13,14,15,16,17,18,19,20,21,22,23,0,1,2,3,4,5,6,7,8,9,10,11,12,13,14,15,16,17,18,19,20,21,22,23,0,1,2,3,4,5,6,7,8,9,10,11,12,13,14,15,16,17,18,19,20,21,22,23,0,1,2,3,4,5,6,7,8,9,10,11,12,13,14,15,16,17,18,19,20,21,22,23],\"xaxis\":\"x\",\"xbingroup\":\"x\",\"y\":[0,0,0,0,0,0,0,0,0,0,0,0,0,0,0,0,0,0,0,0,0,0,0,0,1,1,1,1,1,1,1,1,1,1,1,1,1,1,1,1,1,1,1,1,1,1,1,1,2,2,2,2,2,2,2,2,2,2,2,2,2,2,2,2,2,2,2,2,2,2,2,2,3,3,3,3,3,3,3,3,3,3,3,3,3,3,3,3,3,3,3,3,3,3,3,4,4,4,4,4,4,4,4,4,4,4,4,4,4,4,4,4,4,4,4,4,4,4,4,5,5,5,5,5,5,5,5,5,5,5,5,5,5,5,5,5,5,5,5,5,5,5,5,6,6,6,6,6,6,6,6,6,6,6,6,6,6,6,6,6,6,6,6,6,6,6,6],\"yaxis\":\"y\",\"ybingroup\":\"y\",\"z\":[0.009233376375673468,0.007153528030150672,0.0068765817842533945,0.007293868761246049,0.00041014648606182394,0.009362511369481604,0.010039712685146009,0.008665127359489627,0.007777884854050066,0.008563180186269552,0.0082950954104001,0.007900343038635703,0.00846214636009306,0.009021240363712373,0.009119294177298193,0.007706841980262449,0.008819888850984803,0.00775188141602615,0.009092046725800317,0.008218808044422522,0.008341529805244892,0.00848011226806858,0.00907128288695938,0.008258668500480404,0.006440496635959095,0.009603688277373703,0.00866023029368965,0.010474622827397468,0.007980532739089037,0.009237207447114693,0.007526752621639717,0.008559128901229169,0.00837283452651087,0.008365904621809996,0.00793899629557927,0.009098350540291752,0.008456897563450676,0.009186309647235777,0.008961960275953704,0.008665979435710186,0.008683561772200995,0.00816769523219761,0.00962084218738906,0.00921469631151836,0.008469818729861075,0.009476850895270512,0.008338953014651424,0.008538405765803093,0.0076255852043318985,0.009034395216433566,0.0070152796420046015,0.005625921057485771,0.009607818731672322,0.007757884200171958,0.009352736514158364,0.008990885378726882,0.00913771012060229,0.008761694571499608,0.008561271651471369,0.007879797755016254,0.008576060715112495,0.00839410368563118,0.008927962705347132,0.0076345923311264,0.00853441109272936,0.008589191840237282,0.00899129018965828,0.008328790095508559,0.009157359131678556,0.009518412742398228,0.007573253923377788,0.009376782756817597,0.008573094338880125,0.008800442675144947,0.00614158744589499,0.007972536767908201,0.008113492024489292,0.008287331017948683,0.008193699972161803,0.008746577210449977,0.009167056959014966,0.008735129309430798,0.00886442628211358,0.00860472622733038,0.008068717825009042,0.007723830078839001,0.00868517332578529,0.008566384599481657,0.008764985886154217,0.008592837582554226,0.008873237939309948,0.008867042968446362,0.008157264332645655,0.008828955720127676,0.008609704316299135,0.008148972181749689,0.007643503310933298,0.00959523537163068,0.004072397886189928,0.0052350349149671415,0.008491455805573011,0.007866071003429885,0.009570864852842587,0.00908265578580733,0.009246767488864058,0.009106485212944809,0.008833531822511481,0.008548302044811613,0.008342304063591623,0.007280423010875149,0.008274636291249653,0.009703292398166127,0.008281770883828251,0.008742689753526454,0.007870244348508944,0.007913572104723878,0.008669129249145691,0.00851225852535362,0.008555514691767423,0.008686451239744312,0.008765527188671698,0.009172846499062765,0.00494448607604259,0.00510777852420354,0.008813446480431707,0.008149199689401025,0.009002423861803027,0.00713716455805906,0.009220894642116471,0.009731121965070456,0.008034101263131404,0.00883307216517952,0.009118071021054028,0.008825693266533282,0.00870455487459557,0.008340529160689156,0.008292697071584355,0.00963724013837645,0.008783518794226263,0.008946934809321279,0.008816756218904606,0.0085509599614956,0.008486280267587262,0.009558217113599714,0.007759215110871051,0.007869392603896453,0.008142214370748994,0.005636140468464954,0.007067408882797081,0.011270741111827005,0.008666506831436195,0.008930691977326837,0.007564587115372305,0.009780726681073828,0.010130921407364732,0.008525576515928873,0.008579785813441541,0.008610923765461612,0.00806958023604832,0.009780832032787675,0.007459278264801831,0.00898890099344537,0.007822046895649961,0.008321813376771578,0.007505666884232434,0.00867163043023109,0.009336703172188102],\"type\":\"histogram2d\"}],                        {\"template\":{\"data\":{\"histogram2dcontour\":[{\"type\":\"histogram2dcontour\",\"colorbar\":{\"outlinewidth\":0,\"ticks\":\"\"},\"colorscale\":[[0.0,\"#0d0887\"],[0.1111111111111111,\"#46039f\"],[0.2222222222222222,\"#7201a8\"],[0.3333333333333333,\"#9c179e\"],[0.4444444444444444,\"#bd3786\"],[0.5555555555555556,\"#d8576b\"],[0.6666666666666666,\"#ed7953\"],[0.7777777777777778,\"#fb9f3a\"],[0.8888888888888888,\"#fdca26\"],[1.0,\"#f0f921\"]]}],\"choropleth\":[{\"type\":\"choropleth\",\"colorbar\":{\"outlinewidth\":0,\"ticks\":\"\"}}],\"histogram2d\":[{\"type\":\"histogram2d\",\"colorbar\":{\"outlinewidth\":0,\"ticks\":\"\"},\"colorscale\":[[0.0,\"#0d0887\"],[0.1111111111111111,\"#46039f\"],[0.2222222222222222,\"#7201a8\"],[0.3333333333333333,\"#9c179e\"],[0.4444444444444444,\"#bd3786\"],[0.5555555555555556,\"#d8576b\"],[0.6666666666666666,\"#ed7953\"],[0.7777777777777778,\"#fb9f3a\"],[0.8888888888888888,\"#fdca26\"],[1.0,\"#f0f921\"]]}],\"heatmap\":[{\"type\":\"heatmap\",\"colorbar\":{\"outlinewidth\":0,\"ticks\":\"\"},\"colorscale\":[[0.0,\"#0d0887\"],[0.1111111111111111,\"#46039f\"],[0.2222222222222222,\"#7201a8\"],[0.3333333333333333,\"#9c179e\"],[0.4444444444444444,\"#bd3786\"],[0.5555555555555556,\"#d8576b\"],[0.6666666666666666,\"#ed7953\"],[0.7777777777777778,\"#fb9f3a\"],[0.8888888888888888,\"#fdca26\"],[1.0,\"#f0f921\"]]}],\"heatmapgl\":[{\"type\":\"heatmapgl\",\"colorbar\":{\"outlinewidth\":0,\"ticks\":\"\"},\"colorscale\":[[0.0,\"#0d0887\"],[0.1111111111111111,\"#46039f\"],[0.2222222222222222,\"#7201a8\"],[0.3333333333333333,\"#9c179e\"],[0.4444444444444444,\"#bd3786\"],[0.5555555555555556,\"#d8576b\"],[0.6666666666666666,\"#ed7953\"],[0.7777777777777778,\"#fb9f3a\"],[0.8888888888888888,\"#fdca26\"],[1.0,\"#f0f921\"]]}],\"contourcarpet\":[{\"type\":\"contourcarpet\",\"colorbar\":{\"outlinewidth\":0,\"ticks\":\"\"}}],\"contour\":[{\"type\":\"contour\",\"colorbar\":{\"outlinewidth\":0,\"ticks\":\"\"},\"colorscale\":[[0.0,\"#0d0887\"],[0.1111111111111111,\"#46039f\"],[0.2222222222222222,\"#7201a8\"],[0.3333333333333333,\"#9c179e\"],[0.4444444444444444,\"#bd3786\"],[0.5555555555555556,\"#d8576b\"],[0.6666666666666666,\"#ed7953\"],[0.7777777777777778,\"#fb9f3a\"],[0.8888888888888888,\"#fdca26\"],[1.0,\"#f0f921\"]]}],\"surface\":[{\"type\":\"surface\",\"colorbar\":{\"outlinewidth\":0,\"ticks\":\"\"},\"colorscale\":[[0.0,\"#0d0887\"],[0.1111111111111111,\"#46039f\"],[0.2222222222222222,\"#7201a8\"],[0.3333333333333333,\"#9c179e\"],[0.4444444444444444,\"#bd3786\"],[0.5555555555555556,\"#d8576b\"],[0.6666666666666666,\"#ed7953\"],[0.7777777777777778,\"#fb9f3a\"],[0.8888888888888888,\"#fdca26\"],[1.0,\"#f0f921\"]]}],\"mesh3d\":[{\"type\":\"mesh3d\",\"colorbar\":{\"outlinewidth\":0,\"ticks\":\"\"}}],\"scatter\":[{\"fillpattern\":{\"fillmode\":\"overlay\",\"size\":10,\"solidity\":0.2},\"type\":\"scatter\"}],\"parcoords\":[{\"type\":\"parcoords\",\"line\":{\"colorbar\":{\"outlinewidth\":0,\"ticks\":\"\"}}}],\"scatterpolargl\":[{\"type\":\"scatterpolargl\",\"marker\":{\"colorbar\":{\"outlinewidth\":0,\"ticks\":\"\"}}}],\"bar\":[{\"error_x\":{\"color\":\"#2a3f5f\"},\"error_y\":{\"color\":\"#2a3f5f\"},\"marker\":{\"line\":{\"color\":\"white\",\"width\":0.5},\"pattern\":{\"fillmode\":\"overlay\",\"size\":10,\"solidity\":0.2}},\"type\":\"bar\"}],\"scattergeo\":[{\"type\":\"scattergeo\",\"marker\":{\"colorbar\":{\"outlinewidth\":0,\"ticks\":\"\"}}}],\"scatterpolar\":[{\"type\":\"scatterpolar\",\"marker\":{\"colorbar\":{\"outlinewidth\":0,\"ticks\":\"\"}}}],\"histogram\":[{\"marker\":{\"pattern\":{\"fillmode\":\"overlay\",\"size\":10,\"solidity\":0.2}},\"type\":\"histogram\"}],\"scattergl\":[{\"type\":\"scattergl\",\"marker\":{\"colorbar\":{\"outlinewidth\":0,\"ticks\":\"\"}}}],\"scatter3d\":[{\"type\":\"scatter3d\",\"line\":{\"colorbar\":{\"outlinewidth\":0,\"ticks\":\"\"}},\"marker\":{\"colorbar\":{\"outlinewidth\":0,\"ticks\":\"\"}}}],\"scattermapbox\":[{\"type\":\"scattermapbox\",\"marker\":{\"colorbar\":{\"outlinewidth\":0,\"ticks\":\"\"}}}],\"scatterternary\":[{\"type\":\"scatterternary\",\"marker\":{\"colorbar\":{\"outlinewidth\":0,\"ticks\":\"\"}}}],\"scattercarpet\":[{\"type\":\"scattercarpet\",\"marker\":{\"colorbar\":{\"outlinewidth\":0,\"ticks\":\"\"}}}],\"carpet\":[{\"aaxis\":{\"endlinecolor\":\"#2a3f5f\",\"gridcolor\":\"#C8D4E3\",\"linecolor\":\"#C8D4E3\",\"minorgridcolor\":\"#C8D4E3\",\"startlinecolor\":\"#2a3f5f\"},\"baxis\":{\"endlinecolor\":\"#2a3f5f\",\"gridcolor\":\"#C8D4E3\",\"linecolor\":\"#C8D4E3\",\"minorgridcolor\":\"#C8D4E3\",\"startlinecolor\":\"#2a3f5f\"},\"type\":\"carpet\"}],\"table\":[{\"cells\":{\"fill\":{\"color\":\"#EBF0F8\"},\"line\":{\"color\":\"white\"}},\"header\":{\"fill\":{\"color\":\"#C8D4E3\"},\"line\":{\"color\":\"white\"}},\"type\":\"table\"}],\"barpolar\":[{\"marker\":{\"line\":{\"color\":\"white\",\"width\":0.5},\"pattern\":{\"fillmode\":\"overlay\",\"size\":10,\"solidity\":0.2}},\"type\":\"barpolar\"}],\"pie\":[{\"automargin\":true,\"type\":\"pie\"}]},\"layout\":{\"autotypenumbers\":\"strict\",\"colorway\":[\"#636efa\",\"#EF553B\",\"#00cc96\",\"#ab63fa\",\"#FFA15A\",\"#19d3f3\",\"#FF6692\",\"#B6E880\",\"#FF97FF\",\"#FECB52\"],\"font\":{\"color\":\"#2a3f5f\"},\"hovermode\":\"closest\",\"hoverlabel\":{\"align\":\"left\"},\"paper_bgcolor\":\"white\",\"plot_bgcolor\":\"white\",\"polar\":{\"bgcolor\":\"white\",\"angularaxis\":{\"gridcolor\":\"#EBF0F8\",\"linecolor\":\"#EBF0F8\",\"ticks\":\"\"},\"radialaxis\":{\"gridcolor\":\"#EBF0F8\",\"linecolor\":\"#EBF0F8\",\"ticks\":\"\"}},\"ternary\":{\"bgcolor\":\"white\",\"aaxis\":{\"gridcolor\":\"#DFE8F3\",\"linecolor\":\"#A2B1C6\",\"ticks\":\"\"},\"baxis\":{\"gridcolor\":\"#DFE8F3\",\"linecolor\":\"#A2B1C6\",\"ticks\":\"\"},\"caxis\":{\"gridcolor\":\"#DFE8F3\",\"linecolor\":\"#A2B1C6\",\"ticks\":\"\"}},\"coloraxis\":{\"colorbar\":{\"outlinewidth\":0,\"ticks\":\"\"}},\"colorscale\":{\"sequential\":[[0.0,\"#0d0887\"],[0.1111111111111111,\"#46039f\"],[0.2222222222222222,\"#7201a8\"],[0.3333333333333333,\"#9c179e\"],[0.4444444444444444,\"#bd3786\"],[0.5555555555555556,\"#d8576b\"],[0.6666666666666666,\"#ed7953\"],[0.7777777777777778,\"#fb9f3a\"],[0.8888888888888888,\"#fdca26\"],[1.0,\"#f0f921\"]],\"sequentialminus\":[[0.0,\"#0d0887\"],[0.1111111111111111,\"#46039f\"],[0.2222222222222222,\"#7201a8\"],[0.3333333333333333,\"#9c179e\"],[0.4444444444444444,\"#bd3786\"],[0.5555555555555556,\"#d8576b\"],[0.6666666666666666,\"#ed7953\"],[0.7777777777777778,\"#fb9f3a\"],[0.8888888888888888,\"#fdca26\"],[1.0,\"#f0f921\"]],\"diverging\":[[0,\"#8e0152\"],[0.1,\"#c51b7d\"],[0.2,\"#de77ae\"],[0.3,\"#f1b6da\"],[0.4,\"#fde0ef\"],[0.5,\"#f7f7f7\"],[0.6,\"#e6f5d0\"],[0.7,\"#b8e186\"],[0.8,\"#7fbc41\"],[0.9,\"#4d9221\"],[1,\"#276419\"]]},\"xaxis\":{\"gridcolor\":\"#EBF0F8\",\"linecolor\":\"#EBF0F8\",\"ticks\":\"\",\"title\":{\"standoff\":15},\"zerolinecolor\":\"#EBF0F8\",\"automargin\":true,\"zerolinewidth\":2},\"yaxis\":{\"gridcolor\":\"#EBF0F8\",\"linecolor\":\"#EBF0F8\",\"ticks\":\"\",\"title\":{\"standoff\":15},\"zerolinecolor\":\"#EBF0F8\",\"automargin\":true,\"zerolinewidth\":2},\"scene\":{\"xaxis\":{\"backgroundcolor\":\"white\",\"gridcolor\":\"#DFE8F3\",\"linecolor\":\"#EBF0F8\",\"showbackground\":true,\"ticks\":\"\",\"zerolinecolor\":\"#EBF0F8\",\"gridwidth\":2},\"yaxis\":{\"backgroundcolor\":\"white\",\"gridcolor\":\"#DFE8F3\",\"linecolor\":\"#EBF0F8\",\"showbackground\":true,\"ticks\":\"\",\"zerolinecolor\":\"#EBF0F8\",\"gridwidth\":2},\"zaxis\":{\"backgroundcolor\":\"white\",\"gridcolor\":\"#DFE8F3\",\"linecolor\":\"#EBF0F8\",\"showbackground\":true,\"ticks\":\"\",\"zerolinecolor\":\"#EBF0F8\",\"gridwidth\":2}},\"shapedefaults\":{\"line\":{\"color\":\"#2a3f5f\"}},\"annotationdefaults\":{\"arrowcolor\":\"#2a3f5f\",\"arrowhead\":0,\"arrowwidth\":1},\"geo\":{\"bgcolor\":\"white\",\"landcolor\":\"white\",\"subunitcolor\":\"#C8D4E3\",\"showland\":true,\"showlakes\":true,\"lakecolor\":\"white\"},\"title\":{\"x\":0.05},\"mapbox\":{\"style\":\"light\"}}},\"xaxis\":{\"anchor\":\"y\",\"domain\":[0.0,1.0],\"title\":{\"text\":\"Pickup \\uc2dc\\uac04\"}},\"yaxis\":{\"anchor\":\"x\",\"domain\":[0.0,1.0],\"title\":{\"text\":\"\\uc694\\uc77c\"},\"tickvals\":[0,1,2,3,4,5,6],\"ticktext\":[\"\\uc6d4\",\"\\ud654\",\"\\uc218\",\"\\ubaa9\",\"\\uae08\",\"\\ud1a0\",\"\\uc77c\"]},\"coloraxis\":{\"colorbar\":{\"title\":{\"text\":\"sum of \\ud3c9\\uade0\\uc774\\ub3d9\\uac70\\ub9ac\"}},\"colorscale\":[[0.0,\"#0d0887\"],[0.1111111111111111,\"#46039f\"],[0.2222222222222222,\"#7201a8\"],[0.3333333333333333,\"#9c179e\"],[0.4444444444444444,\"#bd3786\"],[0.5555555555555556,\"#d8576b\"],[0.6666666666666666,\"#ed7953\"],[0.7777777777777778,\"#fb9f3a\"],[0.8888888888888888,\"#fdca26\"],[1.0,\"#f0f921\"]]},\"legend\":{\"tracegroupgap\":0},\"margin\":{\"t\":60},\"height\":300},                        {\"responsive\": true}                    ).then(function(){\n",
       "                            \n",
       "var gd = document.getElementById('def92b5c-879b-40e5-b213-1fa42ef756d1');\n",
       "var x = new MutationObserver(function (mutations, observer) {{\n",
       "        var display = window.getComputedStyle(gd).display;\n",
       "        if (!display || display === 'none') {{\n",
       "            console.log([gd, 'removed!']);\n",
       "            Plotly.purge(gd);\n",
       "            observer.disconnect();\n",
       "        }}\n",
       "}});\n",
       "\n",
       "// Listen for the removal of the full notebook cells\n",
       "var notebookContainer = gd.closest('#notebook-container');\n",
       "if (notebookContainer) {{\n",
       "    x.observe(notebookContainer, {childList: true});\n",
       "}}\n",
       "\n",
       "// Listen for the clearing of the current output cell\n",
       "var outputEl = gd.closest('.output');\n",
       "if (outputEl) {{\n",
       "    x.observe(outputEl, {childList: true});\n",
       "}}\n",
       "\n",
       "                        })                };                });            </script>        </div>"
      ]
     },
     "metadata": {},
     "output_type": "display_data"
    }
   ],
   "source": [
    "df.dist.describe()\n",
    "weekday_korean = ['월', '화', '수', '목', '금', '토', '일']\n",
    "average_distance = nearby_trips.groupby(['dayofweek', 'pickup_hour'])['dist'].mean().reset_index(name='평균이동거리')\n",
    "\n",
    "fig2 = px.density_heatmap(\n",
    "    data_frame=average_distance,\n",
    "    x='pickup_hour',\n",
    "    y='dayofweek',\n",
    "    z='평균이동거리',\n",
    "    nbinsx=24,\n",
    "    nbinsy=7,\n",
    "    height=300,\n",
    ")\n",
    "\n",
    "fig2.update_layout(\n",
    "    xaxis=dict(title='Pickup 시간'),\n",
    "    yaxis=dict(\n",
    "        title='요일',\n",
    "        tickvals=list(range(7)),  \n",
    "        ticktext=weekday_korean   \n",
    "    )\n",
    ")\n",
    "\n",
    "fig2.show()"
   ]
  },
  {
   "cell_type": "markdown",
   "id": "17b774da-328e-4a1d-8c94-c2c1ec8bbe3e",
   "metadata": {},
   "source": [
    "# 기말고사1-(3)"
   ]
  },
  {
   "cell_type": "code",
   "execution_count": 24,
   "id": "6924d16d-d197-47b8-bf2b-f4a3ab5a32fa",
   "metadata": {},
   "outputs": [
    {
     "name": "stdout",
     "output_type": "stream",
     "text": [
      "0    (0.999, 1.75]\n",
      "1    (0.999, 1.75]\n",
      "2      (1.75, 2.5]\n",
      "3      (1.75, 2.5]\n",
      "4      (2.5, 3.25]\n",
      "5      (2.5, 3.25]\n",
      "6      (3.25, 4.0]\n",
      "7      (3.25, 4.0]\n",
      "dtype: category\n",
      "Categories (4, interval[float64, right]): [(0.999, 1.75] < (1.75, 2.5] < (2.5, 3.25] < (3.25, 4.0]]\n",
      "0    매우느림\n",
      "1    매우느림\n",
      "2    조금느림\n",
      "3    조금느림\n",
      "4    조금빠름\n",
      "5    조금빠름\n",
      "6    매우빠름\n",
      "7    매우빠름\n",
      "dtype: category\n",
      "Categories (4, object): ['매우느림' < '조금느림' < '조금빠름' < '매우빠름']\n"
     ]
    },
    {
     "name": "stderr",
     "output_type": "stream",
     "text": [
      "/root/anaconda3/envs/dv2023/lib/python3.10/site-packages/plotly/express/_core.py:2044: FutureWarning:\n",
      "\n",
      "The default of observed=False is deprecated and will be changed to True in a future version of pandas. Pass observed=False to retain current behavior or observed=True to adopt the future default and silence this warning.\n",
      "\n"
     ]
    },
    {
     "data": {
      "application/vnd.plotly.v1+json": {
       "config": {
        "plotlyServerURL": "https://plot.ly",
        "scrollZoom": false
       },
       "data": [
        {
         "hovertemplate": "평균속력=조금빠름<br>dropoff_latitude=%{lat}<br>dropoff_longitude=%{lon}<extra></extra>",
         "lat": [
          40.765602111816406,
          40.74626541137695,
          40.831321716308594,
          40.75713348388672,
          40.655078887939446,
          40.78954315185546,
          40.79996109008789,
          40.790283203125,
          40.739990234375,
          40.76946258544922,
          40.71483612060546,
          40.78279113769531,
          40.72493362426758,
          40.68634033203125,
          40.785789489746094,
          40.76800155639648,
          40.76827239990234,
          40.79747772216797,
          40.73714065551758,
          40.74041366577149,
          40.75947952270508,
          40.76385116577149,
          40.73417663574219,
          40.67301177978516,
          40.7554817199707,
          40.77785873413086,
          40.72474670410156,
          40.805000305175774,
          40.78049087524414,
          40.77749633789063,
          40.7891731262207,
          40.782241821289055,
          40.77379989624024,
          40.77115631103516,
          40.78654861450195,
          40.69548034667969
         ],
         "legendgroup": "조금빠름",
         "lon": [
          -73.96463012695312,
          -73.97246551513672,
          -73.89300537109375,
          -73.9832763671875,
          -73.955322265625,
          -73.96743774414062,
          -73.9586410522461,
          -73.96560668945312,
          -73.98188781738281,
          -73.92103576660156,
          -74.0139389038086,
          -73.95319366455078,
          -73.9950942993164,
          -73.97468566894531,
          -73.9532470703125,
          -73.97037506103516,
          -73.95292663574217,
          -73.96974182128906,
          -73.99044036865233,
          -73.98683166503906,
          -73.99555969238281,
          -73.96236419677734,
          -73.99500274658203,
          -73.96280670166014,
          -73.97085571289062,
          -73.94394683837889,
          -74.00196075439453,
          -73.93858337402342,
          -73.94779968261719,
          -73.9781494140625,
          -73.9527587890625,
          -73.94640350341797,
          -73.97776794433594,
          -73.98324584960938,
          -73.97239685058595,
          -73.99742889404298
         ],
         "marker": {
          "color": "red"
         },
         "mode": "markers",
         "name": "조금빠름",
         "showlegend": true,
         "subplot": "mapbox",
         "type": "scattermapbox"
        },
        {
         "hovertemplate": "평균속력=매우빠름<br>dropoff_latitude=%{lat}<br>dropoff_longitude=%{lon}<extra></extra>",
         "lat": [
          40.746219635009766,
          40.63109970092773,
          40.832279205322266,
          40.78382110595703,
          40.73809051513672,
          40.76717758178711,
          40.76654052734375,
          40.73556137084961,
          40.70578384399414,
          40.796680450439446,
          40.762725830078125,
          40.705509185791016,
          40.74818420410156,
          40.77589797973633,
          40.68381118774414,
          40.76678466796875,
          40.78129196166992,
          40.752979278564446,
          40.76536560058594,
          40.6446418762207,
          40.7630729675293,
          40.77658081054688,
          40.76887130737305,
          40.80038070678711,
          40.77399826049805,
          40.70998001098633,
          40.70872116088867,
          40.66177749633789,
          40.740058898925774,
          40.75309753417969,
          40.744606018066406,
          40.783740997314446,
          40.77948760986328,
          40.72767639160156,
          40.75593185424805,
          40.72272872924805,
          40.73513412475586
         ],
         "legendgroup": "매우빠름",
         "lon": [
          -73.99799346923827,
          -74.02571868896483,
          -73.94233703613281,
          -73.97989654541014,
          -74.05081176757811,
          -73.99046325683594,
          -73.99016571044923,
          -73.99239349365233,
          -74.00952911376953,
          -73.96269226074217,
          -73.92682647705078,
          -74.00707244873048,
          -73.97811889648438,
          -73.96086883544923,
          -73.9951629638672,
          -73.95954132080078,
          -73.9521942138672,
          -73.97933197021484,
          -73.9659652709961,
          -73.77690124511719,
          -73.98128509521484,
          -73.96205139160156,
          -73.95445251464845,
          -73.96750640869139,
          -73.95751190185547,
          -74.005126953125,
          -73.9399185180664,
          -73.82536315917967,
          -73.99530029296875,
          -73.99340057373048,
          -73.97144317626953,
          -73.95669555664062,
          -73.95057678222656,
          -74.00334930419923,
          -73.91887664794923,
          -74.00621795654298,
          -74.00606536865233
         ],
         "marker": {
          "color": "blue"
         },
         "mode": "markers",
         "name": "매우빠름",
         "showlegend": true,
         "subplot": "mapbox",
         "type": "scattermapbox"
        },
        {
         "hovertemplate": "평균속력=매우느림<br>dropoff_latitude=%{lat}<br>dropoff_longitude=%{lon}<extra></extra>",
         "lat": [
          40.7793083190918,
          40.74211883544922,
          40.74566268920898,
          40.781299591064446,
          40.735721588134766,
          40.71965026855469,
          40.72389602661133,
          40.79790878295898,
          40.771968841552734,
          40.74722671508789,
          40.74677658081056,
          40.75000762939453,
          40.75249862670898,
          40.75983047485352,
          40.71963119506836,
          40.79058837890625,
          40.761749267578125,
          40.743770599365234,
          40.76454162597656,
          40.734371185302734,
          40.746257781982415,
          40.77534103393555,
          40.74275970458984,
          40.74413299560546,
          40.777099609375,
          40.77495956420898,
          40.74169921875,
          40.70901870727539,
          40.72117233276367,
          40.7302360534668,
          40.77871322631836,
          40.730018615722656,
          40.75261306762695,
          40.75505065917969,
          40.761695861816406,
          40.76266860961913,
          40.804832458496094
         ],
         "legendgroup": "매우느림",
         "lon": [
          -73.96006774902342,
          -73.97466278076173,
          -73.98463439941406,
          -73.981201171875,
          -73.98265838623048,
          -73.9946060180664,
          -74.00457000732422,
          -73.97329711914062,
          -73.9827423095703,
          -73.9910430908203,
          -74.00828552246092,
          -73.99179077148438,
          -73.97853851318358,
          -73.97090148925781,
          -73.99542999267578,
          -73.949951171875,
          -73.97138977050781,
          -73.98335266113281,
          -73.97366333007811,
          -73.98973846435547,
          -73.98580169677734,
          -73.96501922607422,
          -73.97737884521484,
          -74.00689697265625,
          -73.97775268554686,
          -73.98088073730467,
          -73.97492218017578,
          -74.0118637084961,
          -73.98760986328125,
          -73.99922180175781,
          -73.9814453125,
          -74.00050354003906,
          -73.98545074462889,
          -73.97960662841797,
          -74.00177764892578,
          -73.98597717285155,
          -73.96610260009764
         ],
         "marker": {
          "color": "green"
         },
         "mode": "markers",
         "name": "매우느림",
         "showlegend": true,
         "subplot": "mapbox",
         "type": "scattermapbox"
        },
        {
         "hovertemplate": "평균속력=조금느림<br>dropoff_latitude=%{lat}<br>dropoff_longitude=%{lon}<extra></extra>",
         "lat": [
          40.7098503112793,
          40.756885528564446,
          40.75412368774414,
          40.777881622314446,
          40.74748611450195,
          40.75766372680664,
          40.76081848144531,
          40.79889678955078,
          40.76899337768555,
          40.7630615234375,
          40.6697654724121,
          40.755836486816406,
          40.73473739624024,
          40.7665901184082,
          40.75112533569336,
          40.73989868164063,
          40.7457275390625,
          40.71076965332031,
          40.76554107666016,
          40.759868621826165,
          40.7564582824707,
          40.7463493347168,
          40.75320816040039,
          40.79518127441406,
          40.75085067749024,
          40.74463272094727,
          40.763145446777344,
          40.74227523803711,
          40.762859344482415,
          40.7617416381836,
          40.7509651184082,
          40.74427795410156,
          40.75751876831056,
          40.76767349243164,
          40.73919296264648,
          40.79246139526367
         ],
         "legendgroup": "조금느림",
         "lon": [
          -73.96215057373048,
          -73.9898910522461,
          -73.97389221191406,
          -73.98873138427734,
          -73.97697448730467,
          -73.98356628417967,
          -73.97960662841797,
          -73.96857452392578,
          -73.96334075927734,
          -73.97570037841797,
          -73.97919464111328,
          -73.9784927368164,
          -74.0038833618164,
          -73.98652648925781,
          -73.97836303710938,
          -73.98174285888672,
          -73.9908905029297,
          -74.01339721679686,
          -73.97640228271484,
          -73.96180725097656,
          -74.00170135498048,
          -73.97167205810547,
          -73.98626708984375,
          -73.96575927734375,
          -73.97830963134764,
          -73.97919464111328,
          -73.96985626220702,
          -73.98967742919923,
          -73.98892211914062,
          -73.96864318847656,
          -73.97477722167967,
          -73.98767852783203,
          -73.98204803466798,
          -73.98075866699219,
          -73.98406982421875,
          -73.94084167480467
         ],
         "marker": {
          "color": "yellow"
         },
         "mode": "markers",
         "name": "조금느림",
         "showlegend": true,
         "subplot": "mapbox",
         "type": "scattermapbox"
        },
        {
         "hoverinfo": "none",
         "lat": [
          40.76793670654297,
          40.765602111816406
         ],
         "line": {
          "color": "red",
          "width": 2
         },
         "lon": [
          -73.98215484619139,
          -73.96463012695312
         ],
         "mode": "lines",
         "showlegend": false,
         "type": "scattermapbox"
        },
        {
         "hoverinfo": "none",
         "lat": [
          40.73052978515625,
          40.746219635009766
         ],
         "line": {
          "color": "blue",
          "width": 2
         },
         "lon": [
          -73.98052215576173,
          -73.99799346923827
         ],
         "mode": "lines",
         "showlegend": false,
         "type": "scattermapbox"
        },
        {
         "hoverinfo": "none",
         "lat": [
          40.7683982849121,
          40.7793083190918
         ],
         "line": {
          "color": "green",
          "width": 2
         },
         "lon": [
          -73.9656524658203,
          -73.96006774902342
         ],
         "mode": "lines",
         "showlegend": false,
         "type": "scattermapbox"
        },
        {
         "hoverinfo": "none",
         "lat": [
          40.75918960571289,
          40.7098503112793
         ],
         "line": {
          "color": "yellow",
          "width": 2
         },
         "lon": [
          -73.98509216308595,
          -73.96215057373048
         ],
         "mode": "lines",
         "showlegend": false,
         "type": "scattermapbox"
        },
        {
         "hoverinfo": "none",
         "lat": [
          40.75043869018555,
          40.63109970092773
         ],
         "line": {
          "color": "blue",
          "width": 2
         },
         "lon": [
          -73.99453735351561,
          -74.02571868896483
         ],
         "mode": "lines",
         "showlegend": false,
         "type": "scattermapbox"
        },
        {
         "hoverinfo": "none",
         "lat": [
          40.764122009277344,
          40.74626541137695
         ],
         "line": {
          "color": "red",
          "width": 2
         },
         "lon": [
          -73.9558334350586,
          -73.97246551513672
         ],
         "mode": "lines",
         "showlegend": false,
         "type": "scattermapbox"
        },
        {
         "hoverinfo": "none",
         "lat": [
          40.74432373046875,
          40.74211883544922
         ],
         "line": {
          "color": "green",
          "width": 2
         },
         "lon": [
          -73.98423767089844,
          -73.97466278076173
         ],
         "mode": "lines",
         "showlegend": false,
         "type": "scattermapbox"
        },
        {
         "hoverinfo": "none",
         "lat": [
          40.862701416015625,
          40.831321716308594
         ],
         "line": {
          "color": "red",
          "width": 2
         },
         "lon": [
          -73.90413665771484,
          -73.89300537109375
         ],
         "mode": "lines",
         "showlegend": false,
         "type": "scattermapbox"
        },
        {
         "hoverinfo": "none",
         "lat": [
          40.64477157592773,
          40.832279205322266
         ],
         "line": {
          "color": "blue",
          "width": 2
         },
         "lon": [
          -73.78182983398438,
          -73.94233703613281
         ],
         "mode": "lines",
         "showlegend": false,
         "type": "scattermapbox"
        },
        {
         "hoverinfo": "none",
         "lat": [
          40.74981689453125,
          40.756885528564446
         ],
         "line": {
          "color": "yellow",
          "width": 2
         },
         "lon": [
          -73.99140167236328,
          -73.9898910522461
         ],
         "mode": "lines",
         "showlegend": false,
         "type": "scattermapbox"
        },
        {
         "hoverinfo": "none",
         "lat": [
          40.79136657714844,
          40.78382110595703
         ],
         "line": {
          "color": "blue",
          "width": 2
         },
         "lon": [
          -73.97394561767578,
          -73.97989654541014
         ],
         "mode": "lines",
         "showlegend": false,
         "type": "scattermapbox"
        },
        {
         "hoverinfo": "none",
         "lat": [
          40.7334213256836,
          40.75713348388672
         ],
         "line": {
          "color": "red",
          "width": 2
         },
         "lon": [
          -74.00246429443358,
          -73.9832763671875
         ],
         "mode": "lines",
         "showlegend": false,
         "type": "scattermapbox"
        },
        {
         "hoverinfo": "none",
         "lat": [
          40.77298355102539,
          40.75412368774414
         ],
         "line": {
          "color": "yellow",
          "width": 2
         },
         "lon": [
          -73.9782943725586,
          -73.97389221191406
         ],
         "mode": "lines",
         "showlegend": false,
         "type": "scattermapbox"
        },
        {
         "hoverinfo": "none",
         "lat": [
          40.7253303527832,
          40.777881622314446
         ],
         "line": {
          "color": "yellow",
          "width": 2
         },
         "lon": [
          -73.99237060546875,
          -73.98873138427734
         ],
         "mode": "lines",
         "showlegend": false,
         "type": "scattermapbox"
        },
        {
         "hoverinfo": "none",
         "lat": [
          40.7249755859375,
          40.655078887939446
         ],
         "line": {
          "color": "red",
          "width": 2
         },
         "lon": [
          -73.9844207763672,
          -73.955322265625
         ],
         "mode": "lines",
         "showlegend": false,
         "type": "scattermapbox"
        },
        {
         "hoverinfo": "none",
         "lat": [
          40.76215744018555,
          40.74748611450195
         ],
         "line": {
          "color": "yellow",
          "width": 2
         },
         "lon": [
          -73.98597717285155,
          -73.97697448730467
         ],
         "mode": "lines",
         "showlegend": false,
         "type": "scattermapbox"
        },
        {
         "hoverinfo": "none",
         "lat": [
          40.79740524291992,
          40.78954315185546
         ],
         "line": {
          "color": "red",
          "width": 2
         },
         "lon": [
          -73.94892883300781,
          -73.96743774414062
         ],
         "mode": "lines",
         "showlegend": false,
         "type": "scattermapbox"
        },
        {
         "hoverinfo": "none",
         "lat": [
          40.72843170166016,
          40.73809051513672
         ],
         "line": {
          "color": "blue",
          "width": 2
         },
         "lon": [
          -73.99981689453125,
          -74.05081176757811
         ],
         "mode": "lines",
         "showlegend": false,
         "type": "scattermapbox"
        },
        {
         "hoverinfo": "none",
         "lat": [
          40.72234725952149,
          40.74566268920898
         ],
         "line": {
          "color": "green",
          "width": 2
         },
         "lon": [
          -73.99722290039062,
          -73.98463439941406
         ],
         "mode": "lines",
         "showlegend": false,
         "type": "scattermapbox"
        },
        {
         "hoverinfo": "none",
         "lat": [
          40.78168487548828,
          40.781299591064446
         ],
         "line": {
          "color": "green",
          "width": 2
         },
         "lon": [
          -73.98113250732422,
          -73.981201171875
         ],
         "mode": "lines",
         "showlegend": false,
         "type": "scattermapbox"
        },
        {
         "hoverinfo": "none",
         "lat": [
          40.81560134887695,
          40.79996109008789
         ],
         "line": {
          "color": "red",
          "width": 2
         },
         "lon": [
          -73.93981170654298,
          -73.9586410522461
         ],
         "mode": "lines",
         "showlegend": false,
         "type": "scattermapbox"
        },
        {
         "hoverinfo": "none",
         "lat": [
          40.80809020996094,
          40.76717758178711
         ],
         "line": {
          "color": "blue",
          "width": 2
         },
         "lon": [
          -73.9640121459961,
          -73.99046325683594
         ],
         "mode": "lines",
         "showlegend": false,
         "type": "scattermapbox"
        },
        {
         "hoverinfo": "none",
         "lat": [
          40.75810241699219,
          40.790283203125
         ],
         "line": {
          "color": "red",
          "width": 2
         },
         "lon": [
          -73.96311950683594,
          -73.96560668945312
         ],
         "mode": "lines",
         "showlegend": false,
         "type": "scattermapbox"
        },
        {
         "hoverinfo": "none",
         "lat": [
          40.739540100097656,
          40.735721588134766
         ],
         "line": {
          "color": "green",
          "width": 2
         },
         "lon": [
          -73.98706817626953,
          -73.98265838623048
         ],
         "mode": "lines",
         "showlegend": false,
         "type": "scattermapbox"
        },
        {
         "hoverinfo": "none",
         "lat": [
          40.72407150268555,
          40.75766372680664
         ],
         "line": {
          "color": "yellow",
          "width": 2
         },
         "lon": [
          -74.00241088867188,
          -73.98356628417967
         ],
         "mode": "lines",
         "showlegend": false,
         "type": "scattermapbox"
        },
        {
         "hoverinfo": "none",
         "lat": [
          40.72530364990234,
          40.71965026855469
         ],
         "line": {
          "color": "green",
          "width": 2
         },
         "lon": [
          -73.9925537109375,
          -73.9946060180664
         ],
         "mode": "lines",
         "showlegend": false,
         "type": "scattermapbox"
        },
        {
         "hoverinfo": "none",
         "lat": [
          40.72259521484375,
          40.72389602661133
         ],
         "line": {
          "color": "green",
          "width": 2
         },
         "lon": [
          -74.00528717041014,
          -74.00457000732422
         ],
         "mode": "lines",
         "showlegend": false,
         "type": "scattermapbox"
        },
        {
         "hoverinfo": "none",
         "lat": [
          40.763973236083984,
          40.76081848144531
         ],
         "line": {
          "color": "yellow",
          "width": 2
         },
         "lon": [
          -73.99028778076173,
          -73.97960662841797
         ],
         "mode": "lines",
         "showlegend": false,
         "type": "scattermapbox"
        },
        {
         "hoverinfo": "none",
         "lat": [
          40.76192474365234,
          40.76654052734375
         ],
         "line": {
          "color": "blue",
          "width": 2
         },
         "lon": [
          -73.97914123535155,
          -73.99016571044923
         ],
         "mode": "lines",
         "showlegend": false,
         "type": "scattermapbox"
        },
        {
         "hoverinfo": "none",
         "lat": [
          40.752891540527344,
          40.739990234375
         ],
         "line": {
          "color": "red",
          "width": 2
         },
         "lon": [
          -73.97013854980467,
          -73.98188781738281
         ],
         "mode": "lines",
         "showlegend": false,
         "type": "scattermapbox"
        },
        {
         "hoverinfo": "none",
         "lat": [
          40.794048309326165,
          40.79790878295898
         ],
         "line": {
          "color": "green",
          "width": 2
         },
         "lon": [
          -73.97196960449217,
          -73.97329711914062
         ],
         "mode": "lines",
         "showlegend": false,
         "type": "scattermapbox"
        },
        {
         "hoverinfo": "none",
         "lat": [
          40.757469177246094,
          40.771968841552734
         ],
         "line": {
          "color": "green",
          "width": 2
         },
         "lon": [
          -73.96942901611328,
          -73.9827423095703
         ],
         "mode": "lines",
         "showlegend": false,
         "type": "scattermapbox"
        },
        {
         "hoverinfo": "none",
         "lat": [
          40.74184036254882,
          40.74722671508789
         ],
         "line": {
          "color": "green",
          "width": 2
         },
         "lon": [
          -74.0008773803711,
          -73.9910430908203
         ],
         "mode": "lines",
         "showlegend": false,
         "type": "scattermapbox"
        },
        {
         "hoverinfo": "none",
         "lat": [
          40.73777770996094,
          40.74677658081056
         ],
         "line": {
          "color": "green",
          "width": 2
         },
         "lon": [
          -73.99762725830078,
          -74.00828552246092
         ],
         "mode": "lines",
         "showlegend": false,
         "type": "scattermapbox"
        },
        {
         "hoverinfo": "none",
         "lat": [
          40.761756896972656,
          40.76946258544922
         ],
         "line": {
          "color": "red",
          "width": 2
         },
         "lon": [
          -73.96741485595702,
          -73.92103576660156
         ],
         "mode": "lines",
         "showlegend": false,
         "type": "scattermapbox"
        },
        {
         "hoverinfo": "none",
         "lat": [
          40.74108123779297,
          40.73556137084961
         ],
         "line": {
          "color": "blue",
          "width": 2
         },
         "lon": [
          -74.00586700439453,
          -73.99239349365233
         ],
         "mode": "lines",
         "showlegend": false,
         "type": "scattermapbox"
        },
        {
         "hoverinfo": "none",
         "lat": [
          40.76555252075195,
          40.79889678955078
         ],
         "line": {
          "color": "yellow",
          "width": 2
         },
         "lon": [
          -73.96790313720702,
          -73.96857452392578
         ],
         "mode": "lines",
         "showlegend": false,
         "type": "scattermapbox"
        },
        {
         "hoverinfo": "none",
         "lat": [
          40.789600372314446,
          40.71483612060546
         ],
         "line": {
          "color": "red",
          "width": 2
         },
         "lon": [
          -73.97001647949219,
          -74.0139389038086
         ],
         "mode": "lines",
         "showlegend": false,
         "type": "scattermapbox"
        },
        {
         "hoverinfo": "none",
         "lat": [
          40.643508911132805,
          40.70578384399414
         ],
         "line": {
          "color": "blue",
          "width": 2
         },
         "lon": [
          -73.79021453857422,
          -74.00952911376953
         ],
         "mode": "lines",
         "showlegend": false,
         "type": "scattermapbox"
        },
        {
         "hoverinfo": "none",
         "lat": [
          40.770069122314446,
          40.78279113769531
         ],
         "line": {
          "color": "red",
          "width": 2
         },
         "lon": [
          -73.98792266845702,
          -73.95319366455078
         ],
         "mode": "lines",
         "showlegend": false,
         "type": "scattermapbox"
        },
        {
         "hoverinfo": "none",
         "lat": [
          40.76704025268555,
          40.76899337768555
         ],
         "line": {
          "color": "yellow",
          "width": 2
         },
         "lon": [
          -73.95381164550781,
          -73.96334075927734
         ],
         "mode": "lines",
         "showlegend": false,
         "type": "scattermapbox"
        },
        {
         "hoverinfo": "none",
         "lat": [
          40.74380493164063,
          40.75000762939453
         ],
         "line": {
          "color": "green",
          "width": 2
         },
         "lon": [
          -73.98795318603516,
          -73.99179077148438
         ],
         "mode": "lines",
         "showlegend": false,
         "type": "scattermapbox"
        },
        {
         "hoverinfo": "none",
         "lat": [
          40.75821304321289,
          40.796680450439446
         ],
         "line": {
          "color": "blue",
          "width": 2
         },
         "lon": [
          -73.98886108398438,
          -73.96269226074217
         ],
         "mode": "lines",
         "showlegend": false,
         "type": "scattermapbox"
        },
        {
         "hoverinfo": "none",
         "lat": [
          40.7467155456543,
          40.75249862670898
         ],
         "line": {
          "color": "green",
          "width": 2
         },
         "lon": [
          -73.98993682861328,
          -73.97853851318358
         ],
         "mode": "lines",
         "showlegend": false,
         "type": "scattermapbox"
        },
        {
         "hoverinfo": "none",
         "lat": [
          40.74464797973633,
          40.72493362426758
         ],
         "line": {
          "color": "red",
          "width": 2
         },
         "lon": [
          -73.99140930175781,
          -73.9950942993164
         ],
         "mode": "lines",
         "showlegend": false,
         "type": "scattermapbox"
        },
        {
         "hoverinfo": "none",
         "lat": [
          40.76905059814453,
          40.7630615234375
         ],
         "line": {
          "color": "yellow",
          "width": 2
         },
         "lon": [
          -73.98491668701173,
          -73.97570037841797
         ],
         "mode": "lines",
         "showlegend": false,
         "type": "scattermapbox"
        },
        {
         "hoverinfo": "none",
         "lat": [
          40.74908065795898,
          40.6697654724121
         ],
         "line": {
          "color": "yellow",
          "width": 2
         },
         "lon": [
          -74.00839233398438,
          -73.97919464111328
         ],
         "mode": "lines",
         "showlegend": false,
         "type": "scattermapbox"
        },
        {
         "hoverinfo": "none",
         "lat": [
          40.75983047485352,
          40.75983047485352
         ],
         "line": {
          "color": "green",
          "width": 2
         },
         "lon": [
          -73.97090148925781,
          -73.97090148925781
         ],
         "mode": "lines",
         "showlegend": false,
         "type": "scattermapbox"
        },
        {
         "hoverinfo": "none",
         "lat": [
          40.7724494934082,
          40.755836486816406
         ],
         "line": {
          "color": "yellow",
          "width": 2
         },
         "lon": [
          -73.96265411376953,
          -73.9784927368164
         ],
         "mode": "lines",
         "showlegend": false,
         "type": "scattermapbox"
        },
        {
         "hoverinfo": "none",
         "lat": [
          40.72257232666016,
          40.68634033203125
         ],
         "line": {
          "color": "red",
          "width": 2
         },
         "lon": [
          -74.00359344482422,
          -73.97468566894531
         ],
         "mode": "lines",
         "showlegend": false,
         "type": "scattermapbox"
        },
        {
         "hoverinfo": "none",
         "lat": [
          40.7226448059082,
          40.73473739624024
         ],
         "line": {
          "color": "yellow",
          "width": 2
         },
         "lon": [
          -73.98736572265625,
          -74.0038833618164
         ],
         "mode": "lines",
         "showlegend": false,
         "type": "scattermapbox"
        },
        {
         "hoverinfo": "none",
         "lat": [
          40.77674865722656,
          40.785789489746094
         ],
         "line": {
          "color": "red",
          "width": 2
         },
         "lon": [
          -73.95974731445312,
          -73.9532470703125
         ],
         "mode": "lines",
         "showlegend": false,
         "type": "scattermapbox"
        },
        {
         "hoverinfo": "none",
         "lat": [
          40.76341247558594,
          40.71963119506836
         ],
         "line": {
          "color": "green",
          "width": 2
         },
         "lon": [
          -73.98194122314453,
          -73.99542999267578
         ],
         "mode": "lines",
         "showlegend": false,
         "type": "scattermapbox"
        },
        {
         "hoverinfo": "none",
         "lat": [
          40.79840850830078,
          40.79058837890625
         ],
         "line": {
          "color": "green",
          "width": 2
         },
         "lon": [
          -73.95243072509764,
          -73.949951171875
         ],
         "mode": "lines",
         "showlegend": false,
         "type": "scattermapbox"
        },
        {
         "hoverinfo": "none",
         "lat": [
          40.75624084472656,
          40.7665901184082
         ],
         "line": {
          "color": "yellow",
          "width": 2
         },
         "lon": [
          -73.97042846679686,
          -73.98652648925781
         ],
         "mode": "lines",
         "showlegend": false,
         "type": "scattermapbox"
        },
        {
         "hoverinfo": "none",
         "lat": [
          40.763519287109375,
          40.761749267578125
         ],
         "line": {
          "color": "green",
          "width": 2
         },
         "lon": [
          -73.96932220458984,
          -73.97138977050781
         ],
         "mode": "lines",
         "showlegend": false,
         "type": "scattermapbox"
        },
        {
         "hoverinfo": "none",
         "lat": [
          40.73820495605469,
          40.75112533569336
         ],
         "line": {
          "color": "yellow",
          "width": 2
         },
         "lon": [
          -73.98540496826173,
          -73.97836303710938
         ],
         "mode": "lines",
         "showlegend": false,
         "type": "scattermapbox"
        },
        {
         "hoverinfo": "none",
         "lat": [
          40.730010986328125,
          40.73989868164063
         ],
         "line": {
          "color": "yellow",
          "width": 2
         },
         "lon": [
          -73.9792709350586,
          -73.98174285888672
         ],
         "mode": "lines",
         "showlegend": false,
         "type": "scattermapbox"
        },
        {
         "hoverinfo": "none",
         "lat": [
          40.75796890258789,
          40.743770599365234
         ],
         "line": {
          "color": "green",
          "width": 2
         },
         "lon": [
          -73.98609161376953,
          -73.98335266113281
         ],
         "mode": "lines",
         "showlegend": false,
         "type": "scattermapbox"
        },
        {
         "hoverinfo": "none",
         "lat": [
          40.76140594482422,
          40.76454162597656
         ],
         "line": {
          "color": "green",
          "width": 2
         },
         "lon": [
          -73.97090911865233,
          -73.97366333007811
         ],
         "mode": "lines",
         "showlegend": false,
         "type": "scattermapbox"
        },
        {
         "hoverinfo": "none",
         "lat": [
          40.75623321533203,
          40.734371185302734
         ],
         "line": {
          "color": "green",
          "width": 2
         },
         "lon": [
          -73.99331665039062,
          -73.98973846435547
         ],
         "mode": "lines",
         "showlegend": false,
         "type": "scattermapbox"
        },
        {
         "hoverinfo": "none",
         "lat": [
          40.71868896484375,
          40.7457275390625
         ],
         "line": {
          "color": "yellow",
          "width": 2
         },
         "lon": [
          -74.0053482055664,
          -73.9908905029297
         ],
         "mode": "lines",
         "showlegend": false,
         "type": "scattermapbox"
        },
        {
         "hoverinfo": "none",
         "lat": [
          40.76067352294922,
          40.762725830078125
         ],
         "line": {
          "color": "blue",
          "width": 2
         },
         "lon": [
          -73.98724365234375,
          -73.92682647705078
         ],
         "mode": "lines",
         "showlegend": false,
         "type": "scattermapbox"
        },
        {
         "hoverinfo": "none",
         "lat": [
          40.78261184692384,
          40.76800155639648
         ],
         "line": {
          "color": "red",
          "width": 2
         },
         "lon": [
          -73.95343017578125,
          -73.97037506103516
         ],
         "mode": "lines",
         "showlegend": false,
         "type": "scattermapbox"
        },
        {
         "hoverinfo": "none",
         "lat": [
          40.74298095703125,
          40.71076965332031
         ],
         "line": {
          "color": "yellow",
          "width": 2
         },
         "lon": [
          -73.98845672607422,
          -74.01339721679686
         ],
         "mode": "lines",
         "showlegend": false,
         "type": "scattermapbox"
        },
        {
         "hoverinfo": "none",
         "lat": [
          40.75128173828125,
          40.76827239990234
         ],
         "line": {
          "color": "red",
          "width": 2
         },
         "lon": [
          -73.93987274169923,
          -73.95292663574217
         ],
         "mode": "lines",
         "showlegend": false,
         "type": "scattermapbox"
        },
        {
         "hoverinfo": "none",
         "lat": [
          40.77922821044922,
          40.746257781982415
         ],
         "line": {
          "color": "green",
          "width": 2
         },
         "lon": [
          -73.95587921142578,
          -73.98580169677734
         ],
         "mode": "lines",
         "showlegend": false,
         "type": "scattermapbox"
        },
        {
         "hoverinfo": "none",
         "lat": [
          40.80135726928711,
          40.79747772216797
         ],
         "line": {
          "color": "red",
          "width": 2
         },
         "lon": [
          -73.95948791503906,
          -73.96974182128906
         ],
         "mode": "lines",
         "showlegend": false,
         "type": "scattermapbox"
        },
        {
         "hoverinfo": "none",
         "lat": [
          40.755401611328125,
          40.705509185791016
         ],
         "line": {
          "color": "blue",
          "width": 2
         },
         "lon": [
          -73.96813201904298,
          -74.00707244873048
         ],
         "mode": "lines",
         "showlegend": false,
         "type": "scattermapbox"
        },
        {
         "hoverinfo": "none",
         "lat": [
          40.738807678222656,
          40.74818420410156
         ],
         "line": {
          "color": "blue",
          "width": 2
         },
         "lon": [
          -73.98301696777342,
          -73.97811889648438
         ],
         "mode": "lines",
         "showlegend": false,
         "type": "scattermapbox"
        },
        {
         "hoverinfo": "none",
         "lat": [
          40.73553085327149,
          40.76554107666016
         ],
         "line": {
          "color": "yellow",
          "width": 2
         },
         "lon": [
          -73.98988342285155,
          -73.97640228271484
         ],
         "mode": "lines",
         "showlegend": false,
         "type": "scattermapbox"
        },
        {
         "hoverinfo": "none",
         "lat": [
          40.784122467041016,
          40.77589797973633
         ],
         "line": {
          "color": "blue",
          "width": 2
         },
         "lon": [
          -73.9544906616211,
          -73.96086883544923
         ],
         "mode": "lines",
         "showlegend": false,
         "type": "scattermapbox"
        },
        {
         "hoverinfo": "none",
         "lat": [
          40.72565841674805,
          40.73714065551758
         ],
         "line": {
          "color": "red",
          "width": 2
         },
         "lon": [
          -73.99471282958984,
          -73.99044036865233
         ],
         "mode": "lines",
         "showlegend": false,
         "type": "scattermapbox"
        },
        {
         "hoverinfo": "none",
         "lat": [
          40.776123046875,
          40.77534103393555
         ],
         "line": {
          "color": "green",
          "width": 2
         },
         "lon": [
          -73.96235656738281,
          -73.96501922607422
         ],
         "mode": "lines",
         "showlegend": false,
         "type": "scattermapbox"
        },
        {
         "hoverinfo": "none",
         "lat": [
          40.74114227294922,
          40.68381118774414
         ],
         "line": {
          "color": "blue",
          "width": 2
         },
         "lon": [
          -73.99011993408203,
          -73.9951629638672
         ],
         "mode": "lines",
         "showlegend": false,
         "type": "scattermapbox"
        },
        {
         "hoverinfo": "none",
         "lat": [
          40.755126953125,
          40.74041366577149
         ],
         "line": {
          "color": "red",
          "width": 2
         },
         "lon": [
          -73.9874267578125,
          -73.98683166503906
         ],
         "mode": "lines",
         "showlegend": false,
         "type": "scattermapbox"
        },
        {
         "hoverinfo": "none",
         "lat": [
          40.75054931640625,
          40.759868621826165
         ],
         "line": {
          "color": "yellow",
          "width": 2
         },
         "lon": [
          -73.97480010986328,
          -73.96180725097656
         ],
         "mode": "lines",
         "showlegend": false,
         "type": "scattermapbox"
        },
        {
         "hoverinfo": "none",
         "lat": [
          40.744510650634766,
          40.7564582824707
         ],
         "line": {
          "color": "yellow",
          "width": 2
         },
         "lon": [
          -73.98111724853516,
          -74.00170135498048
         ],
         "mode": "lines",
         "showlegend": false,
         "type": "scattermapbox"
        },
        {
         "hoverinfo": "none",
         "lat": [
          40.749908447265625,
          40.75947952270508
         ],
         "line": {
          "color": "red",
          "width": 2
         },
         "lon": [
          -73.9881591796875,
          -73.99555969238281
         ],
         "mode": "lines",
         "showlegend": false,
         "type": "scattermapbox"
        },
        {
         "hoverinfo": "none",
         "lat": [
          40.76290130615234,
          40.74275970458984
         ],
         "line": {
          "color": "green",
          "width": 2
         },
         "lon": [
          -73.98320770263672,
          -73.97737884521484
         ],
         "mode": "lines",
         "showlegend": false,
         "type": "scattermapbox"
        },
        {
         "hoverinfo": "none",
         "lat": [
          40.77938079833984,
          40.76678466796875
         ],
         "line": {
          "color": "blue",
          "width": 2
         },
         "lon": [
          -73.94471740722656,
          -73.95954132080078
         ],
         "mode": "lines",
         "showlegend": false,
         "type": "scattermapbox"
        },
        {
         "hoverinfo": "none",
         "lat": [
          40.7393684387207,
          40.74413299560546
         ],
         "line": {
          "color": "green",
          "width": 2
         },
         "lon": [
          -74.00737762451173,
          -74.00689697265625
         ],
         "mode": "lines",
         "showlegend": false,
         "type": "scattermapbox"
        },
        {
         "hoverinfo": "none",
         "lat": [
          40.742500305175774,
          40.7463493347168
         ],
         "line": {
          "color": "yellow",
          "width": 2
         },
         "lon": [
          -73.97420501708984,
          -73.97167205810547
         ],
         "mode": "lines",
         "showlegend": false,
         "type": "scattermapbox"
        },
        {
         "hoverinfo": "none",
         "lat": [
          40.64687347412109,
          40.78129196166992
         ],
         "line": {
          "color": "blue",
          "width": 2
         },
         "lon": [
          -73.79014587402342,
          -73.9521942138672
         ],
         "mode": "lines",
         "showlegend": false,
         "type": "scattermapbox"
        },
        {
         "hoverinfo": "none",
         "lat": [
          40.7640037536621,
          40.76385116577149
         ],
         "line": {
          "color": "red",
          "width": 2
         },
         "lon": [
          -73.97434234619139,
          -73.96236419677734
         ],
         "mode": "lines",
         "showlegend": false,
         "type": "scattermapbox"
        },
        {
         "hoverinfo": "none",
         "lat": [
          40.746826171875,
          40.777099609375
         ],
         "line": {
          "color": "green",
          "width": 2
         },
         "lon": [
          -73.99005889892578,
          -73.97775268554686
         ],
         "mode": "lines",
         "showlegend": false,
         "type": "scattermapbox"
        },
        {
         "hoverinfo": "none",
         "lat": [
          40.74989700317384,
          40.73417663574219
         ],
         "line": {
          "color": "red",
          "width": 2
         },
         "lon": [
          -73.99164581298828,
          -73.99500274658203
         ],
         "mode": "lines",
         "showlegend": false,
         "type": "scattermapbox"
        },
        {
         "hoverinfo": "none",
         "lat": [
          40.70758056640625,
          40.752979278564446
         ],
         "line": {
          "color": "blue",
          "width": 2
         },
         "lon": [
          -74.00406646728516,
          -73.97933197021484
         ],
         "mode": "lines",
         "showlegend": false,
         "type": "scattermapbox"
        },
        {
         "hoverinfo": "none",
         "lat": [
          40.7714958190918,
          40.75320816040039
         ],
         "line": {
          "color": "yellow",
          "width": 2
         },
         "lon": [
          -73.95969390869139,
          -73.98626708984375
         ],
         "mode": "lines",
         "showlegend": false,
         "type": "scattermapbox"
        },
        {
         "hoverinfo": "none",
         "lat": [
          40.73410034179688,
          40.67301177978516
         ],
         "line": {
          "color": "red",
          "width": 2
         },
         "lon": [
          -73.9994888305664,
          -73.96280670166014
         ],
         "mode": "lines",
         "showlegend": false,
         "type": "scattermapbox"
        },
        {
         "hoverinfo": "none",
         "lat": [
          40.77154159545898,
          40.77495956420898
         ],
         "line": {
          "color": "green",
          "width": 2
         },
         "lon": [
          -73.9818115234375,
          -73.98088073730467
         ],
         "mode": "lines",
         "showlegend": false,
         "type": "scattermapbox"
        },
        {
         "hoverinfo": "none",
         "lat": [
          40.744140625,
          40.74169921875
         ],
         "line": {
          "color": "green",
          "width": 2
         },
         "lon": [
          -73.97913360595702,
          -73.97492218017578
         ],
         "mode": "lines",
         "showlegend": false,
         "type": "scattermapbox"
        },
        {
         "hoverinfo": "none",
         "lat": [
          40.760250091552734,
          40.79518127441406
         ],
         "line": {
          "color": "yellow",
          "width": 2
         },
         "lon": [
          -73.96861267089844,
          -73.96575927734375
         ],
         "mode": "lines",
         "showlegend": false,
         "type": "scattermapbox"
        },
        {
         "hoverinfo": "none",
         "lat": [
          40.70718383789063,
          40.70901870727539
         ],
         "line": {
          "color": "green",
          "width": 2
         },
         "lon": [
          -74.01651763916014,
          -74.0118637084961
         ],
         "mode": "lines",
         "showlegend": false,
         "type": "scattermapbox"
        },
        {
         "hoverinfo": "none",
         "lat": [
          40.74156188964844,
          40.75085067749024
         ],
         "line": {
          "color": "yellow",
          "width": 2
         },
         "lon": [
          -73.993896484375,
          -73.97830963134764
         ],
         "mode": "lines",
         "showlegend": false,
         "type": "scattermapbox"
        },
        {
         "hoverinfo": "none",
         "lat": [
          40.74057769775391,
          40.7554817199707
         ],
         "line": {
          "color": "red",
          "width": 2
         },
         "lon": [
          -73.97972869873048,
          -73.97085571289062
         ],
         "mode": "lines",
         "showlegend": false,
         "type": "scattermapbox"
        },
        {
         "hoverinfo": "none",
         "lat": [
          40.759124755859375,
          40.74463272094727
         ],
         "line": {
          "color": "yellow",
          "width": 2
         },
         "lon": [
          -73.97645568847656,
          -73.97919464111328
         ],
         "mode": "lines",
         "showlegend": false,
         "type": "scattermapbox"
        },
        {
         "hoverinfo": "none",
         "lat": [
          40.75857162475586,
          40.77785873413086
         ],
         "line": {
          "color": "red",
          "width": 2
         },
         "lon": [
          -73.96356964111328,
          -73.94394683837889
         ],
         "mode": "lines",
         "showlegend": false,
         "type": "scattermapbox"
        },
        {
         "hoverinfo": "none",
         "lat": [
          40.78065872192384,
          40.76536560058594
         ],
         "line": {
          "color": "blue",
          "width": 2
         },
         "lon": [
          -73.98385620117188,
          -73.9659652709961
         ],
         "mode": "lines",
         "showlegend": false,
         "type": "scattermapbox"
        },
        {
         "hoverinfo": "none",
         "lat": [
          40.75567626953125,
          40.72474670410156
         ],
         "line": {
          "color": "red",
          "width": 2
         },
         "lon": [
          -73.96500396728516,
          -74.00196075439453
         ],
         "mode": "lines",
         "showlegend": false,
         "type": "scattermapbox"
        },
        {
         "hoverinfo": "none",
         "lat": [
          40.737281799316406,
          40.6446418762207
         ],
         "line": {
          "color": "blue",
          "width": 2
         },
         "lon": [
          -74.00069427490233,
          -73.77690124511719
         ],
         "mode": "lines",
         "showlegend": false,
         "type": "scattermapbox"
        },
        {
         "hoverinfo": "none",
         "lat": [
          40.76673126220703,
          40.805000305175774
         ],
         "line": {
          "color": "red",
          "width": 2
         },
         "lon": [
          -73.96306610107422,
          -73.93858337402342
         ],
         "mode": "lines",
         "showlegend": false,
         "type": "scattermapbox"
        },
        {
         "hoverinfo": "none",
         "lat": [
          40.74240493774414,
          40.72117233276367
         ],
         "line": {
          "color": "green",
          "width": 2
         },
         "lon": [
          -74.00107574462889,
          -73.98760986328125
         ],
         "mode": "lines",
         "showlegend": false,
         "type": "scattermapbox"
        },
        {
         "hoverinfo": "none",
         "lat": [
          40.82606887817384,
          40.7630729675293
         ],
         "line": {
          "color": "blue",
          "width": 2
         },
         "lon": [
          -73.94337463378906,
          -73.98128509521484
         ],
         "mode": "lines",
         "showlegend": false,
         "type": "scattermapbox"
        },
        {
         "hoverinfo": "none",
         "lat": [
          40.767120361328125,
          40.77658081054688
         ],
         "line": {
          "color": "blue",
          "width": 2
         },
         "lon": [
          -73.9688720703125,
          -73.96205139160156
         ],
         "mode": "lines",
         "showlegend": false,
         "type": "scattermapbox"
        },
        {
         "hoverinfo": "none",
         "lat": [
          40.75527572631836,
          40.76887130737305
         ],
         "line": {
          "color": "blue",
          "width": 2
         },
         "lon": [
          -73.96514892578125,
          -73.95445251464845
         ],
         "mode": "lines",
         "showlegend": false,
         "type": "scattermapbox"
        },
        {
         "hoverinfo": "none",
         "lat": [
          40.80709838867188,
          40.80038070678711
         ],
         "line": {
          "color": "blue",
          "width": 2
         },
         "lon": [
          -73.95350646972656,
          -73.96750640869139
         ],
         "mode": "lines",
         "showlegend": false,
         "type": "scattermapbox"
        },
        {
         "hoverinfo": "none",
         "lat": [
          40.768253326416016,
          40.77399826049805
         ],
         "line": {
          "color": "blue",
          "width": 2
         },
         "lon": [
          -73.98240661621094,
          -73.95751190185547
         ],
         "mode": "lines",
         "showlegend": false,
         "type": "scattermapbox"
        },
        {
         "hoverinfo": "none",
         "lat": [
          40.64693832397461,
          40.70998001098633
         ],
         "line": {
          "color": "blue",
          "width": 2
         },
         "lon": [
          -73.78984832763672,
          -74.005126953125
         ],
         "mode": "lines",
         "showlegend": false,
         "type": "scattermapbox"
        },
        {
         "hoverinfo": "none",
         "lat": [
          40.64469146728516,
          40.70872116088867
         ],
         "line": {
          "color": "blue",
          "width": 2
         },
         "lon": [
          -73.78196716308595,
          -73.9399185180664
         ],
         "mode": "lines",
         "showlegend": false,
         "type": "scattermapbox"
        },
        {
         "hoverinfo": "none",
         "lat": [
          40.7324447631836,
          40.7302360534668
         ],
         "line": {
          "color": "green",
          "width": 2
         },
         "lon": [
          -74.00647735595702,
          -73.99922180175781
         ],
         "mode": "lines",
         "showlegend": false,
         "type": "scattermapbox"
        },
        {
         "hoverinfo": "none",
         "lat": [
          40.750431060791016,
          40.78049087524414
         ],
         "line": {
          "color": "red",
          "width": 2
         },
         "lon": [
          -73.98802947998048,
          -73.94779968261719
         ],
         "mode": "lines",
         "showlegend": false,
         "type": "scattermapbox"
        },
        {
         "hoverinfo": "none",
         "lat": [
          40.773601531982415,
          40.66177749633789
         ],
         "line": {
          "color": "blue",
          "width": 2
         },
         "lon": [
          -73.87093353271484,
          -73.82536315917967
         ],
         "mode": "lines",
         "showlegend": false,
         "type": "scattermapbox"
        },
        {
         "hoverinfo": "none",
         "lat": [
          40.78596115112305,
          40.77871322631836
         ],
         "line": {
          "color": "green",
          "width": 2
         },
         "lon": [
          -73.97699737548828,
          -73.9814453125
         ],
         "mode": "lines",
         "showlegend": false,
         "type": "scattermapbox"
        },
        {
         "hoverinfo": "none",
         "lat": [
          40.756568908691406,
          40.740058898925774
         ],
         "line": {
          "color": "blue",
          "width": 2
         },
         "lon": [
          -73.98641967773438,
          -73.99530029296875
         ],
         "mode": "lines",
         "showlegend": false,
         "type": "scattermapbox"
        },
        {
         "hoverinfo": "none",
         "lat": [
          40.645286560058594,
          40.75309753417969
         ],
         "line": {
          "color": "blue",
          "width": 2
         },
         "lon": [
          -73.7766876220703,
          -73.99340057373048
         ],
         "mode": "lines",
         "showlegend": false,
         "type": "scattermapbox"
        },
        {
         "hoverinfo": "none",
         "lat": [
          40.76424789428711,
          40.763145446777344
         ],
         "line": {
          "color": "yellow",
          "width": 2
         },
         "lon": [
          -73.95646667480467,
          -73.96985626220702
         ],
         "mode": "lines",
         "showlegend": false,
         "type": "scattermapbox"
        },
        {
         "hoverinfo": "none",
         "lat": [
          40.78201675415039,
          40.77749633789063
         ],
         "line": {
          "color": "red",
          "width": 2
         },
         "lon": [
          -73.97631072998048,
          -73.9781494140625
         ],
         "mode": "lines",
         "showlegend": false,
         "type": "scattermapbox"
        },
        {
         "hoverinfo": "none",
         "lat": [
          40.768848419189446,
          40.744606018066406
         ],
         "line": {
          "color": "blue",
          "width": 2
         },
         "lon": [
          -73.86279296875,
          -73.97144317626953
         ],
         "mode": "lines",
         "showlegend": false,
         "type": "scattermapbox"
        },
        {
         "hoverinfo": "none",
         "lat": [
          40.794429779052734,
          40.7891731262207
         ],
         "line": {
          "color": "red",
          "width": 2
         },
         "lon": [
          -73.97160339355469,
          -73.9527587890625
         ],
         "mode": "lines",
         "showlegend": false,
         "type": "scattermapbox"
        },
        {
         "hoverinfo": "none",
         "lat": [
          40.74530792236328,
          40.74227523803711
         ],
         "line": {
          "color": "yellow",
          "width": 2
         },
         "lon": [
          -74.00784301757811,
          -73.98967742919923
         ],
         "mode": "lines",
         "showlegend": false,
         "type": "scattermapbox"
        },
        {
         "hoverinfo": "none",
         "lat": [
          40.75419235229492,
          40.762859344482415
         ],
         "line": {
          "color": "yellow",
          "width": 2
         },
         "lon": [
          -73.97592163085938,
          -73.98892211914062
         ],
         "mode": "lines",
         "showlegend": false,
         "type": "scattermapbox"
        },
        {
         "hoverinfo": "none",
         "lat": [
          40.76359939575195,
          40.7617416381836
         ],
         "line": {
          "color": "yellow",
          "width": 2
         },
         "lon": [
          -73.98738861083984,
          -73.96864318847656
         ],
         "mode": "lines",
         "showlegend": false,
         "type": "scattermapbox"
        },
        {
         "hoverinfo": "none",
         "lat": [
          40.64473342895508,
          40.782241821289055
         ],
         "line": {
          "color": "red",
          "width": 2
         },
         "lon": [
          -73.78192138671875,
          -73.94640350341797
         ],
         "mode": "lines",
         "showlegend": false,
         "type": "scattermapbox"
        },
        {
         "hoverinfo": "none",
         "lat": [
          40.74673461914063,
          40.7509651184082
         ],
         "line": {
          "color": "yellow",
          "width": 2
         },
         "lon": [
          -73.97140502929686,
          -73.97477722167967
         ],
         "mode": "lines",
         "showlegend": false,
         "type": "scattermapbox"
        },
        {
         "hoverinfo": "none",
         "lat": [
          40.73308181762695,
          40.730018615722656
         ],
         "line": {
          "color": "green",
          "width": 2
         },
         "lon": [
          -74.00662231445312,
          -74.00050354003906
         ],
         "mode": "lines",
         "showlegend": false,
         "type": "scattermapbox"
        },
        {
         "hoverinfo": "none",
         "lat": [
          40.78641128540039,
          40.77379989624024
         ],
         "line": {
          "color": "red",
          "width": 2
         },
         "lon": [
          -73.95282745361328,
          -73.97776794433594
         ],
         "mode": "lines",
         "showlegend": false,
         "type": "scattermapbox"
        },
        {
         "hoverinfo": "none",
         "lat": [
          40.76639175415039,
          40.75261306762695
         ],
         "line": {
          "color": "green",
          "width": 2
         },
         "lon": [
          -73.96286010742188,
          -73.98545074462889
         ],
         "mode": "lines",
         "showlegend": false,
         "type": "scattermapbox"
        },
        {
         "hoverinfo": "none",
         "lat": [
          40.76412582397461,
          40.783740997314446
         ],
         "line": {
          "color": "blue",
          "width": 2
         },
         "lon": [
          -73.97107696533203,
          -73.95669555664062
         ],
         "mode": "lines",
         "showlegend": false,
         "type": "scattermapbox"
        },
        {
         "hoverinfo": "none",
         "lat": [
          40.73915481567384,
          40.74427795410156
         ],
         "line": {
          "color": "yellow",
          "width": 2
         },
         "lon": [
          -73.99610137939453,
          -73.98767852783203
         ],
         "mode": "lines",
         "showlegend": false,
         "type": "scattermapbox"
        },
        {
         "hoverinfo": "none",
         "lat": [
          40.75053024291992,
          40.75751876831056
         ],
         "line": {
          "color": "yellow",
          "width": 2
         },
         "lon": [
          -73.98738098144531,
          -73.98204803466798
         ],
         "mode": "lines",
         "showlegend": false,
         "type": "scattermapbox"
        },
        {
         "hoverinfo": "none",
         "lat": [
          40.773868560791016,
          40.75505065917969
         ],
         "line": {
          "color": "green",
          "width": 2
         },
         "lon": [
          -73.98236846923827,
          -73.97960662841797
         ],
         "mode": "lines",
         "showlegend": false,
         "type": "scattermapbox"
        },
        {
         "hoverinfo": "none",
         "lat": [
          40.766788482666016,
          40.77115631103516
         ],
         "line": {
          "color": "red",
          "width": 2
         },
         "lon": [
          -73.96295928955078,
          -73.98324584960938
         ],
         "mode": "lines",
         "showlegend": false,
         "type": "scattermapbox"
        },
        {
         "hoverinfo": "none",
         "lat": [
          40.78915786743164,
          40.77948760986328
         ],
         "line": {
          "color": "blue",
          "width": 2
         },
         "lon": [
          -73.94364166259764,
          -73.95057678222656
         ],
         "mode": "lines",
         "showlegend": false,
         "type": "scattermapbox"
        },
        {
         "hoverinfo": "none",
         "lat": [
          40.75484848022461,
          40.72767639160156
         ],
         "line": {
          "color": "blue",
          "width": 2
         },
         "lon": [
          -73.98343658447266,
          -74.00334930419923
         ],
         "mode": "lines",
         "showlegend": false,
         "type": "scattermapbox"
        },
        {
         "hoverinfo": "none",
         "lat": [
          40.734493255615234,
          40.78654861450195
         ],
         "line": {
          "color": "red",
          "width": 2
         },
         "lon": [
          -74.00151824951173,
          -73.97239685058595
         ],
         "mode": "lines",
         "showlegend": false,
         "type": "scattermapbox"
        },
        {
         "hoverinfo": "none",
         "lat": [
          40.709976196289055,
          40.69548034667969
         ],
         "line": {
          "color": "red",
          "width": 2
         },
         "lon": [
          -74.00458526611328,
          -73.99742889404298
         ],
         "mode": "lines",
         "showlegend": false,
         "type": "scattermapbox"
        },
        {
         "hoverinfo": "none",
         "lat": [
          40.75823974609375,
          40.75593185424805
         ],
         "line": {
          "color": "blue",
          "width": 2
         },
         "lon": [
          -73.98924255371094,
          -73.91887664794923
         ],
         "mode": "lines",
         "showlegend": false,
         "type": "scattermapbox"
        },
        {
         "hoverinfo": "none",
         "lat": [
          40.74729537963867,
          40.761695861816406
         ],
         "line": {
          "color": "green",
          "width": 2
         },
         "lon": [
          -73.98175048828125,
          -74.00177764892578
         ],
         "mode": "lines",
         "showlegend": false,
         "type": "scattermapbox"
        },
        {
         "hoverinfo": "none",
         "lat": [
          40.777053833007805,
          40.76767349243164
         ],
         "line": {
          "color": "yellow",
          "width": 2
         },
         "lon": [
          -73.98257446289062,
          -73.98075866699219
         ],
         "mode": "lines",
         "showlegend": false,
         "type": "scattermapbox"
        },
        {
         "hoverinfo": "none",
         "lat": [
          40.74143600463867,
          40.73919296264648
         ],
         "line": {
          "color": "yellow",
          "width": 2
         },
         "lon": [
          -73.95230865478516,
          -73.98406982421875
         ],
         "mode": "lines",
         "showlegend": false,
         "type": "scattermapbox"
        },
        {
         "hoverinfo": "none",
         "lat": [
          40.743614196777344,
          40.72272872924805
         ],
         "line": {
          "color": "blue",
          "width": 2
         },
         "lon": [
          -73.95078277587889,
          -74.00621795654298
         ],
         "mode": "lines",
         "showlegend": false,
         "type": "scattermapbox"
        },
        {
         "hoverinfo": "none",
         "lat": [
          40.78707885742188,
          40.79246139526367
         ],
         "line": {
          "color": "yellow",
          "width": 2
         },
         "lon": [
          -73.95390319824217,
          -73.94084167480467
         ],
         "mode": "lines",
         "showlegend": false,
         "type": "scattermapbox"
        },
        {
         "hoverinfo": "none",
         "lat": [
          40.71914291381836,
          40.73513412475586
         ],
         "line": {
          "color": "blue",
          "width": 2
         },
         "lon": [
          -74.00506591796875,
          -74.00606536865233
         ],
         "mode": "lines",
         "showlegend": false,
         "type": "scattermapbox"
        },
        {
         "hoverinfo": "none",
         "lat": [
          40.72243118286133,
          40.76266860961913
         ],
         "line": {
          "color": "green",
          "width": 2
         },
         "lon": [
          -73.98615264892578,
          -73.98597717285155
         ],
         "mode": "lines",
         "showlegend": false,
         "type": "scattermapbox"
        },
        {
         "hoverinfo": "none",
         "lat": [
          40.78450012207031,
          40.804832458496094
         ],
         "line": {
          "color": "green",
          "width": 2
         },
         "lon": [
          -73.95220947265625,
          -73.96610260009764
         ],
         "mode": "lines",
         "showlegend": false,
         "type": "scattermapbox"
        }
       ],
       "layout": {
        "autosize": true,
        "legend": {
         "title": {
          "text": "평균속력"
         },
         "tracegroupgap": 0
        },
        "mapbox": {
         "bearing": 0,
         "center": {
          "lat": 40.75272625439788,
          "lon": -73.97509577502943
         },
         "domain": {
          "x": [
           0,
           1
          ],
          "y": [
           0,
           1
          ]
         },
         "pitch": 0,
         "style": "carto-positron",
         "zoom": 11
        },
        "margin": {
         "t": 60
        },
        "template": {
         "data": {
          "bar": [
           {
            "error_x": {
             "color": "#2a3f5f"
            },
            "error_y": {
             "color": "#2a3f5f"
            },
            "marker": {
             "line": {
              "color": "white",
              "width": 0.5
             },
             "pattern": {
              "fillmode": "overlay",
              "size": 10,
              "solidity": 0.2
             }
            },
            "type": "bar"
           }
          ],
          "barpolar": [
           {
            "marker": {
             "line": {
              "color": "white",
              "width": 0.5
             },
             "pattern": {
              "fillmode": "overlay",
              "size": 10,
              "solidity": 0.2
             }
            },
            "type": "barpolar"
           }
          ],
          "carpet": [
           {
            "aaxis": {
             "endlinecolor": "#2a3f5f",
             "gridcolor": "#C8D4E3",
             "linecolor": "#C8D4E3",
             "minorgridcolor": "#C8D4E3",
             "startlinecolor": "#2a3f5f"
            },
            "baxis": {
             "endlinecolor": "#2a3f5f",
             "gridcolor": "#C8D4E3",
             "linecolor": "#C8D4E3",
             "minorgridcolor": "#C8D4E3",
             "startlinecolor": "#2a3f5f"
            },
            "type": "carpet"
           }
          ],
          "choropleth": [
           {
            "colorbar": {
             "outlinewidth": 0,
             "ticks": ""
            },
            "type": "choropleth"
           }
          ],
          "contour": [
           {
            "colorbar": {
             "outlinewidth": 0,
             "ticks": ""
            },
            "colorscale": [
             [
              0,
              "#0d0887"
             ],
             [
              0.1111111111111111,
              "#46039f"
             ],
             [
              0.2222222222222222,
              "#7201a8"
             ],
             [
              0.3333333333333333,
              "#9c179e"
             ],
             [
              0.4444444444444444,
              "#bd3786"
             ],
             [
              0.5555555555555556,
              "#d8576b"
             ],
             [
              0.6666666666666666,
              "#ed7953"
             ],
             [
              0.7777777777777778,
              "#fb9f3a"
             ],
             [
              0.8888888888888888,
              "#fdca26"
             ],
             [
              1,
              "#f0f921"
             ]
            ],
            "type": "contour"
           }
          ],
          "contourcarpet": [
           {
            "colorbar": {
             "outlinewidth": 0,
             "ticks": ""
            },
            "type": "contourcarpet"
           }
          ],
          "heatmap": [
           {
            "colorbar": {
             "outlinewidth": 0,
             "ticks": ""
            },
            "colorscale": [
             [
              0,
              "#0d0887"
             ],
             [
              0.1111111111111111,
              "#46039f"
             ],
             [
              0.2222222222222222,
              "#7201a8"
             ],
             [
              0.3333333333333333,
              "#9c179e"
             ],
             [
              0.4444444444444444,
              "#bd3786"
             ],
             [
              0.5555555555555556,
              "#d8576b"
             ],
             [
              0.6666666666666666,
              "#ed7953"
             ],
             [
              0.7777777777777778,
              "#fb9f3a"
             ],
             [
              0.8888888888888888,
              "#fdca26"
             ],
             [
              1,
              "#f0f921"
             ]
            ],
            "type": "heatmap"
           }
          ],
          "heatmapgl": [
           {
            "colorbar": {
             "outlinewidth": 0,
             "ticks": ""
            },
            "colorscale": [
             [
              0,
              "#0d0887"
             ],
             [
              0.1111111111111111,
              "#46039f"
             ],
             [
              0.2222222222222222,
              "#7201a8"
             ],
             [
              0.3333333333333333,
              "#9c179e"
             ],
             [
              0.4444444444444444,
              "#bd3786"
             ],
             [
              0.5555555555555556,
              "#d8576b"
             ],
             [
              0.6666666666666666,
              "#ed7953"
             ],
             [
              0.7777777777777778,
              "#fb9f3a"
             ],
             [
              0.8888888888888888,
              "#fdca26"
             ],
             [
              1,
              "#f0f921"
             ]
            ],
            "type": "heatmapgl"
           }
          ],
          "histogram": [
           {
            "marker": {
             "pattern": {
              "fillmode": "overlay",
              "size": 10,
              "solidity": 0.2
             }
            },
            "type": "histogram"
           }
          ],
          "histogram2d": [
           {
            "colorbar": {
             "outlinewidth": 0,
             "ticks": ""
            },
            "colorscale": [
             [
              0,
              "#0d0887"
             ],
             [
              0.1111111111111111,
              "#46039f"
             ],
             [
              0.2222222222222222,
              "#7201a8"
             ],
             [
              0.3333333333333333,
              "#9c179e"
             ],
             [
              0.4444444444444444,
              "#bd3786"
             ],
             [
              0.5555555555555556,
              "#d8576b"
             ],
             [
              0.6666666666666666,
              "#ed7953"
             ],
             [
              0.7777777777777778,
              "#fb9f3a"
             ],
             [
              0.8888888888888888,
              "#fdca26"
             ],
             [
              1,
              "#f0f921"
             ]
            ],
            "type": "histogram2d"
           }
          ],
          "histogram2dcontour": [
           {
            "colorbar": {
             "outlinewidth": 0,
             "ticks": ""
            },
            "colorscale": [
             [
              0,
              "#0d0887"
             ],
             [
              0.1111111111111111,
              "#46039f"
             ],
             [
              0.2222222222222222,
              "#7201a8"
             ],
             [
              0.3333333333333333,
              "#9c179e"
             ],
             [
              0.4444444444444444,
              "#bd3786"
             ],
             [
              0.5555555555555556,
              "#d8576b"
             ],
             [
              0.6666666666666666,
              "#ed7953"
             ],
             [
              0.7777777777777778,
              "#fb9f3a"
             ],
             [
              0.8888888888888888,
              "#fdca26"
             ],
             [
              1,
              "#f0f921"
             ]
            ],
            "type": "histogram2dcontour"
           }
          ],
          "mesh3d": [
           {
            "colorbar": {
             "outlinewidth": 0,
             "ticks": ""
            },
            "type": "mesh3d"
           }
          ],
          "parcoords": [
           {
            "line": {
             "colorbar": {
              "outlinewidth": 0,
              "ticks": ""
             }
            },
            "type": "parcoords"
           }
          ],
          "pie": [
           {
            "automargin": true,
            "type": "pie"
           }
          ],
          "scatter": [
           {
            "fillpattern": {
             "fillmode": "overlay",
             "size": 10,
             "solidity": 0.2
            },
            "type": "scatter"
           }
          ],
          "scatter3d": [
           {
            "line": {
             "colorbar": {
              "outlinewidth": 0,
              "ticks": ""
             }
            },
            "marker": {
             "colorbar": {
              "outlinewidth": 0,
              "ticks": ""
             }
            },
            "type": "scatter3d"
           }
          ],
          "scattercarpet": [
           {
            "marker": {
             "colorbar": {
              "outlinewidth": 0,
              "ticks": ""
             }
            },
            "type": "scattercarpet"
           }
          ],
          "scattergeo": [
           {
            "marker": {
             "colorbar": {
              "outlinewidth": 0,
              "ticks": ""
             }
            },
            "type": "scattergeo"
           }
          ],
          "scattergl": [
           {
            "marker": {
             "colorbar": {
              "outlinewidth": 0,
              "ticks": ""
             }
            },
            "type": "scattergl"
           }
          ],
          "scattermapbox": [
           {
            "marker": {
             "colorbar": {
              "outlinewidth": 0,
              "ticks": ""
             }
            },
            "type": "scattermapbox"
           }
          ],
          "scatterpolar": [
           {
            "marker": {
             "colorbar": {
              "outlinewidth": 0,
              "ticks": ""
             }
            },
            "type": "scatterpolar"
           }
          ],
          "scatterpolargl": [
           {
            "marker": {
             "colorbar": {
              "outlinewidth": 0,
              "ticks": ""
             }
            },
            "type": "scatterpolargl"
           }
          ],
          "scatterternary": [
           {
            "marker": {
             "colorbar": {
              "outlinewidth": 0,
              "ticks": ""
             }
            },
            "type": "scatterternary"
           }
          ],
          "surface": [
           {
            "colorbar": {
             "outlinewidth": 0,
             "ticks": ""
            },
            "colorscale": [
             [
              0,
              "#0d0887"
             ],
             [
              0.1111111111111111,
              "#46039f"
             ],
             [
              0.2222222222222222,
              "#7201a8"
             ],
             [
              0.3333333333333333,
              "#9c179e"
             ],
             [
              0.4444444444444444,
              "#bd3786"
             ],
             [
              0.5555555555555556,
              "#d8576b"
             ],
             [
              0.6666666666666666,
              "#ed7953"
             ],
             [
              0.7777777777777778,
              "#fb9f3a"
             ],
             [
              0.8888888888888888,
              "#fdca26"
             ],
             [
              1,
              "#f0f921"
             ]
            ],
            "type": "surface"
           }
          ],
          "table": [
           {
            "cells": {
             "fill": {
              "color": "#EBF0F8"
             },
             "line": {
              "color": "white"
             }
            },
            "header": {
             "fill": {
              "color": "#C8D4E3"
             },
             "line": {
              "color": "white"
             }
            },
            "type": "table"
           }
          ]
         },
         "layout": {
          "annotationdefaults": {
           "arrowcolor": "#2a3f5f",
           "arrowhead": 0,
           "arrowwidth": 1
          },
          "autotypenumbers": "strict",
          "coloraxis": {
           "colorbar": {
            "outlinewidth": 0,
            "ticks": ""
           }
          },
          "colorscale": {
           "diverging": [
            [
             0,
             "#8e0152"
            ],
            [
             0.1,
             "#c51b7d"
            ],
            [
             0.2,
             "#de77ae"
            ],
            [
             0.3,
             "#f1b6da"
            ],
            [
             0.4,
             "#fde0ef"
            ],
            [
             0.5,
             "#f7f7f7"
            ],
            [
             0.6,
             "#e6f5d0"
            ],
            [
             0.7,
             "#b8e186"
            ],
            [
             0.8,
             "#7fbc41"
            ],
            [
             0.9,
             "#4d9221"
            ],
            [
             1,
             "#276419"
            ]
           ],
           "sequential": [
            [
             0,
             "#0d0887"
            ],
            [
             0.1111111111111111,
             "#46039f"
            ],
            [
             0.2222222222222222,
             "#7201a8"
            ],
            [
             0.3333333333333333,
             "#9c179e"
            ],
            [
             0.4444444444444444,
             "#bd3786"
            ],
            [
             0.5555555555555556,
             "#d8576b"
            ],
            [
             0.6666666666666666,
             "#ed7953"
            ],
            [
             0.7777777777777778,
             "#fb9f3a"
            ],
            [
             0.8888888888888888,
             "#fdca26"
            ],
            [
             1,
             "#f0f921"
            ]
           ],
           "sequentialminus": [
            [
             0,
             "#0d0887"
            ],
            [
             0.1111111111111111,
             "#46039f"
            ],
            [
             0.2222222222222222,
             "#7201a8"
            ],
            [
             0.3333333333333333,
             "#9c179e"
            ],
            [
             0.4444444444444444,
             "#bd3786"
            ],
            [
             0.5555555555555556,
             "#d8576b"
            ],
            [
             0.6666666666666666,
             "#ed7953"
            ],
            [
             0.7777777777777778,
             "#fb9f3a"
            ],
            [
             0.8888888888888888,
             "#fdca26"
            ],
            [
             1,
             "#f0f921"
            ]
           ]
          },
          "colorway": [
           "#636efa",
           "#EF553B",
           "#00cc96",
           "#ab63fa",
           "#FFA15A",
           "#19d3f3",
           "#FF6692",
           "#B6E880",
           "#FF97FF",
           "#FECB52"
          ],
          "font": {
           "color": "#2a3f5f"
          },
          "geo": {
           "bgcolor": "white",
           "lakecolor": "white",
           "landcolor": "white",
           "showlakes": true,
           "showland": true,
           "subunitcolor": "#C8D4E3"
          },
          "hoverlabel": {
           "align": "left"
          },
          "hovermode": "closest",
          "mapbox": {
           "style": "light"
          },
          "paper_bgcolor": "white",
          "plot_bgcolor": "white",
          "polar": {
           "angularaxis": {
            "gridcolor": "#EBF0F8",
            "linecolor": "#EBF0F8",
            "ticks": ""
           },
           "bgcolor": "white",
           "radialaxis": {
            "gridcolor": "#EBF0F8",
            "linecolor": "#EBF0F8",
            "ticks": ""
           }
          },
          "scene": {
           "xaxis": {
            "backgroundcolor": "white",
            "gridcolor": "#DFE8F3",
            "gridwidth": 2,
            "linecolor": "#EBF0F8",
            "showbackground": true,
            "ticks": "",
            "zerolinecolor": "#EBF0F8"
           },
           "yaxis": {
            "backgroundcolor": "white",
            "gridcolor": "#DFE8F3",
            "gridwidth": 2,
            "linecolor": "#EBF0F8",
            "showbackground": true,
            "ticks": "",
            "zerolinecolor": "#EBF0F8"
           },
           "zaxis": {
            "backgroundcolor": "white",
            "gridcolor": "#DFE8F3",
            "gridwidth": 2,
            "linecolor": "#EBF0F8",
            "showbackground": true,
            "ticks": "",
            "zerolinecolor": "#EBF0F8"
           }
          },
          "shapedefaults": {
           "line": {
            "color": "#2a3f5f"
           }
          },
          "ternary": {
           "aaxis": {
            "gridcolor": "#DFE8F3",
            "linecolor": "#A2B1C6",
            "ticks": ""
           },
           "baxis": {
            "gridcolor": "#DFE8F3",
            "linecolor": "#A2B1C6",
            "ticks": ""
           },
           "bgcolor": "white",
           "caxis": {
            "gridcolor": "#DFE8F3",
            "linecolor": "#A2B1C6",
            "ticks": ""
           }
          },
          "title": {
           "x": 0.05
          },
          "xaxis": {
           "automargin": true,
           "gridcolor": "#EBF0F8",
           "linecolor": "#EBF0F8",
           "ticks": "",
           "title": {
            "standoff": 15
           },
           "zerolinecolor": "#EBF0F8",
           "zerolinewidth": 2
          },
          "yaxis": {
           "automargin": true,
           "gridcolor": "#EBF0F8",
           "linecolor": "#EBF0F8",
           "ticks": "",
           "title": {
            "standoff": 15
           },
           "zerolinecolor": "#EBF0F8",
           "zerolinewidth": 2
          }
         }
        }
       }
      },
      "image/png": "[encoded data removed]",
      "text/html": [
       "<div>                            <div id=\"9648f37e-f448-44cf-b6ea-c008a8edd91b\" class=\"plotly-graph-div\" style=\"height:525px; width:100%;\"></div>            <script type=\"text/javascript\">                require([\"plotly\"], function(Plotly) {                    window.PLOTLYENV=window.PLOTLYENV || {};                                    if (document.getElementById(\"9648f37e-f448-44cf-b6ea-c008a8edd91b\")) {                    Plotly.newPlot(                        \"9648f37e-f448-44cf-b6ea-c008a8edd91b\",                        [{\"hovertemplate\":\"\\ud3c9\\uade0\\uc18d\\ub825=\\uc870\\uae08\\ube60\\ub984\\u003cbr\\u003edropoff_latitude=%{lat}\\u003cbr\\u003edropoff_longitude=%{lon}\\u003cextra\\u003e\\u003c\\u002fextra\\u003e\",\"lat\":[40.765602111816406,40.74626541137695,40.831321716308594,40.75713348388672,40.655078887939446,40.78954315185546,40.79996109008789,40.790283203125,40.739990234375,40.76946258544922,40.71483612060546,40.78279113769531,40.72493362426758,40.68634033203125,40.785789489746094,40.76800155639648,40.76827239990234,40.79747772216797,40.73714065551758,40.74041366577149,40.75947952270508,40.76385116577149,40.73417663574219,40.67301177978516,40.7554817199707,40.77785873413086,40.72474670410156,40.805000305175774,40.78049087524414,40.77749633789063,40.7891731262207,40.782241821289055,40.77379989624024,40.77115631103516,40.78654861450195,40.69548034667969],\"legendgroup\":\"\\uc870\\uae08\\ube60\\ub984\",\"lon\":[-73.96463012695312,-73.97246551513672,-73.89300537109375,-73.9832763671875,-73.955322265625,-73.96743774414062,-73.9586410522461,-73.96560668945312,-73.98188781738281,-73.92103576660156,-74.0139389038086,-73.95319366455078,-73.9950942993164,-73.97468566894531,-73.9532470703125,-73.97037506103516,-73.95292663574217,-73.96974182128906,-73.99044036865233,-73.98683166503906,-73.99555969238281,-73.96236419677734,-73.99500274658203,-73.96280670166014,-73.97085571289062,-73.94394683837889,-74.00196075439453,-73.93858337402342,-73.94779968261719,-73.9781494140625,-73.9527587890625,-73.94640350341797,-73.97776794433594,-73.98324584960938,-73.97239685058595,-73.99742889404298],\"marker\":{\"color\":\"red\"},\"mode\":\"markers\",\"name\":\"\\uc870\\uae08\\ube60\\ub984\",\"showlegend\":true,\"subplot\":\"mapbox\",\"type\":\"scattermapbox\"},{\"hovertemplate\":\"\\ud3c9\\uade0\\uc18d\\ub825=\\ub9e4\\uc6b0\\ube60\\ub984\\u003cbr\\u003edropoff_latitude=%{lat}\\u003cbr\\u003edropoff_longitude=%{lon}\\u003cextra\\u003e\\u003c\\u002fextra\\u003e\",\"lat\":[40.746219635009766,40.63109970092773,40.832279205322266,40.78382110595703,40.73809051513672,40.76717758178711,40.76654052734375,40.73556137084961,40.70578384399414,40.796680450439446,40.762725830078125,40.705509185791016,40.74818420410156,40.77589797973633,40.68381118774414,40.76678466796875,40.78129196166992,40.752979278564446,40.76536560058594,40.6446418762207,40.7630729675293,40.77658081054688,40.76887130737305,40.80038070678711,40.77399826049805,40.70998001098633,40.70872116088867,40.66177749633789,40.740058898925774,40.75309753417969,40.744606018066406,40.783740997314446,40.77948760986328,40.72767639160156,40.75593185424805,40.72272872924805,40.73513412475586],\"legendgroup\":\"\\ub9e4\\uc6b0\\ube60\\ub984\",\"lon\":[-73.99799346923827,-74.02571868896483,-73.94233703613281,-73.97989654541014,-74.05081176757811,-73.99046325683594,-73.99016571044923,-73.99239349365233,-74.00952911376953,-73.96269226074217,-73.92682647705078,-74.00707244873048,-73.97811889648438,-73.96086883544923,-73.9951629638672,-73.95954132080078,-73.9521942138672,-73.97933197021484,-73.9659652709961,-73.77690124511719,-73.98128509521484,-73.96205139160156,-73.95445251464845,-73.96750640869139,-73.95751190185547,-74.005126953125,-73.9399185180664,-73.82536315917967,-73.99530029296875,-73.99340057373048,-73.97144317626953,-73.95669555664062,-73.95057678222656,-74.00334930419923,-73.91887664794923,-74.00621795654298,-74.00606536865233],\"marker\":{\"color\":\"blue\"},\"mode\":\"markers\",\"name\":\"\\ub9e4\\uc6b0\\ube60\\ub984\",\"showlegend\":true,\"subplot\":\"mapbox\",\"type\":\"scattermapbox\"},{\"hovertemplate\":\"\\ud3c9\\uade0\\uc18d\\ub825=\\ub9e4\\uc6b0\\ub290\\ub9bc\\u003cbr\\u003edropoff_latitude=%{lat}\\u003cbr\\u003edropoff_longitude=%{lon}\\u003cextra\\u003e\\u003c\\u002fextra\\u003e\",\"lat\":[40.7793083190918,40.74211883544922,40.74566268920898,40.781299591064446,40.735721588134766,40.71965026855469,40.72389602661133,40.79790878295898,40.771968841552734,40.74722671508789,40.74677658081056,40.75000762939453,40.75249862670898,40.75983047485352,40.71963119506836,40.79058837890625,40.761749267578125,40.743770599365234,40.76454162597656,40.734371185302734,40.746257781982415,40.77534103393555,40.74275970458984,40.74413299560546,40.777099609375,40.77495956420898,40.74169921875,40.70901870727539,40.72117233276367,40.7302360534668,40.77871322631836,40.730018615722656,40.75261306762695,40.75505065917969,40.761695861816406,40.76266860961913,40.804832458496094],\"legendgroup\":\"\\ub9e4\\uc6b0\\ub290\\ub9bc\",\"lon\":[-73.96006774902342,-73.97466278076173,-73.98463439941406,-73.981201171875,-73.98265838623048,-73.9946060180664,-74.00457000732422,-73.97329711914062,-73.9827423095703,-73.9910430908203,-74.00828552246092,-73.99179077148438,-73.97853851318358,-73.97090148925781,-73.99542999267578,-73.949951171875,-73.97138977050781,-73.98335266113281,-73.97366333007811,-73.98973846435547,-73.98580169677734,-73.96501922607422,-73.97737884521484,-74.00689697265625,-73.97775268554686,-73.98088073730467,-73.97492218017578,-74.0118637084961,-73.98760986328125,-73.99922180175781,-73.9814453125,-74.00050354003906,-73.98545074462889,-73.97960662841797,-74.00177764892578,-73.98597717285155,-73.96610260009764],\"marker\":{\"color\":\"green\"},\"mode\":\"markers\",\"name\":\"\\ub9e4\\uc6b0\\ub290\\ub9bc\",\"showlegend\":true,\"subplot\":\"mapbox\",\"type\":\"scattermapbox\"},{\"hovertemplate\":\"\\ud3c9\\uade0\\uc18d\\ub825=\\uc870\\uae08\\ub290\\ub9bc\\u003cbr\\u003edropoff_latitude=%{lat}\\u003cbr\\u003edropoff_longitude=%{lon}\\u003cextra\\u003e\\u003c\\u002fextra\\u003e\",\"lat\":[40.7098503112793,40.756885528564446,40.75412368774414,40.777881622314446,40.74748611450195,40.75766372680664,40.76081848144531,40.79889678955078,40.76899337768555,40.7630615234375,40.6697654724121,40.755836486816406,40.73473739624024,40.7665901184082,40.75112533569336,40.73989868164063,40.7457275390625,40.71076965332031,40.76554107666016,40.759868621826165,40.7564582824707,40.7463493347168,40.75320816040039,40.79518127441406,40.75085067749024,40.74463272094727,40.763145446777344,40.74227523803711,40.762859344482415,40.7617416381836,40.7509651184082,40.74427795410156,40.75751876831056,40.76767349243164,40.73919296264648,40.79246139526367],\"legendgroup\":\"\\uc870\\uae08\\ub290\\ub9bc\",\"lon\":[-73.96215057373048,-73.9898910522461,-73.97389221191406,-73.98873138427734,-73.97697448730467,-73.98356628417967,-73.97960662841797,-73.96857452392578,-73.96334075927734,-73.97570037841797,-73.97919464111328,-73.9784927368164,-74.0038833618164,-73.98652648925781,-73.97836303710938,-73.98174285888672,-73.9908905029297,-74.01339721679686,-73.97640228271484,-73.96180725097656,-74.00170135498048,-73.97167205810547,-73.98626708984375,-73.96575927734375,-73.97830963134764,-73.97919464111328,-73.96985626220702,-73.98967742919923,-73.98892211914062,-73.96864318847656,-73.97477722167967,-73.98767852783203,-73.98204803466798,-73.98075866699219,-73.98406982421875,-73.94084167480467],\"marker\":{\"color\":\"yellow\"},\"mode\":\"markers\",\"name\":\"\\uc870\\uae08\\ub290\\ub9bc\",\"showlegend\":true,\"subplot\":\"mapbox\",\"type\":\"scattermapbox\"},{\"hoverinfo\":\"none\",\"lat\":[40.76793670654297,40.765602111816406],\"line\":{\"color\":\"red\",\"width\":2},\"lon\":[-73.98215484619139,-73.96463012695312],\"mode\":\"lines\",\"showlegend\":false,\"type\":\"scattermapbox\"},{\"hoverinfo\":\"none\",\"lat\":[40.73052978515625,40.746219635009766],\"line\":{\"color\":\"blue\",\"width\":2},\"lon\":[-73.98052215576173,-73.99799346923827],\"mode\":\"lines\",\"showlegend\":false,\"type\":\"scattermapbox\"},{\"hoverinfo\":\"none\",\"lat\":[40.7683982849121,40.7793083190918],\"line\":{\"color\":\"green\",\"width\":2},\"lon\":[-73.9656524658203,-73.96006774902342],\"mode\":\"lines\",\"showlegend\":false,\"type\":\"scattermapbox\"},{\"hoverinfo\":\"none\",\"lat\":[40.75918960571289,40.7098503112793],\"line\":{\"color\":\"yellow\",\"width\":2},\"lon\":[-73.98509216308595,-73.96215057373048],\"mode\":\"lines\",\"showlegend\":false,\"type\":\"scattermapbox\"},{\"hoverinfo\":\"none\",\"lat\":[40.75043869018555,40.63109970092773],\"line\":{\"color\":\"blue\",\"width\":2},\"lon\":[-73.99453735351561,-74.02571868896483],\"mode\":\"lines\",\"showlegend\":false,\"type\":\"scattermapbox\"},{\"hoverinfo\":\"none\",\"lat\":[40.764122009277344,40.74626541137695],\"line\":{\"color\":\"red\",\"width\":2},\"lon\":[-73.9558334350586,-73.97246551513672],\"mode\":\"lines\",\"showlegend\":false,\"type\":\"scattermapbox\"},{\"hoverinfo\":\"none\",\"lat\":[40.74432373046875,40.74211883544922],\"line\":{\"color\":\"green\",\"width\":2},\"lon\":[-73.98423767089844,-73.97466278076173],\"mode\":\"lines\",\"showlegend\":false,\"type\":\"scattermapbox\"},{\"hoverinfo\":\"none\",\"lat\":[40.862701416015625,40.831321716308594],\"line\":{\"color\":\"red\",\"width\":2},\"lon\":[-73.90413665771484,-73.89300537109375],\"mode\":\"lines\",\"showlegend\":false,\"type\":\"scattermapbox\"},{\"hoverinfo\":\"none\",\"lat\":[40.64477157592773,40.832279205322266],\"line\":{\"color\":\"blue\",\"width\":2},\"lon\":[-73.78182983398438,-73.94233703613281],\"mode\":\"lines\",\"showlegend\":false,\"type\":\"scattermapbox\"},{\"hoverinfo\":\"none\",\"lat\":[40.74981689453125,40.756885528564446],\"line\":{\"color\":\"yellow\",\"width\":2},\"lon\":[-73.99140167236328,-73.9898910522461],\"mode\":\"lines\",\"showlegend\":false,\"type\":\"scattermapbox\"},{\"hoverinfo\":\"none\",\"lat\":[40.79136657714844,40.78382110595703],\"line\":{\"color\":\"blue\",\"width\":2},\"lon\":[-73.97394561767578,-73.97989654541014],\"mode\":\"lines\",\"showlegend\":false,\"type\":\"scattermapbox\"},{\"hoverinfo\":\"none\",\"lat\":[40.7334213256836,40.75713348388672],\"line\":{\"color\":\"red\",\"width\":2},\"lon\":[-74.00246429443358,-73.9832763671875],\"mode\":\"lines\",\"showlegend\":false,\"type\":\"scattermapbox\"},{\"hoverinfo\":\"none\",\"lat\":[40.77298355102539,40.75412368774414],\"line\":{\"color\":\"yellow\",\"width\":2},\"lon\":[-73.9782943725586,-73.97389221191406],\"mode\":\"lines\",\"showlegend\":false,\"type\":\"scattermapbox\"},{\"hoverinfo\":\"none\",\"lat\":[40.7253303527832,40.777881622314446],\"line\":{\"color\":\"yellow\",\"width\":2},\"lon\":[-73.99237060546875,-73.98873138427734],\"mode\":\"lines\",\"showlegend\":false,\"type\":\"scattermapbox\"},{\"hoverinfo\":\"none\",\"lat\":[40.7249755859375,40.655078887939446],\"line\":{\"color\":\"red\",\"width\":2},\"lon\":[-73.9844207763672,-73.955322265625],\"mode\":\"lines\",\"showlegend\":false,\"type\":\"scattermapbox\"},{\"hoverinfo\":\"none\",\"lat\":[40.76215744018555,40.74748611450195],\"line\":{\"color\":\"yellow\",\"width\":2},\"lon\":[-73.98597717285155,-73.97697448730467],\"mode\":\"lines\",\"showlegend\":false,\"type\":\"scattermapbox\"},{\"hoverinfo\":\"none\",\"lat\":[40.79740524291992,40.78954315185546],\"line\":{\"color\":\"red\",\"width\":2},\"lon\":[-73.94892883300781,-73.96743774414062],\"mode\":\"lines\",\"showlegend\":false,\"type\":\"scattermapbox\"},{\"hoverinfo\":\"none\",\"lat\":[40.72843170166016,40.73809051513672],\"line\":{\"color\":\"blue\",\"width\":2},\"lon\":[-73.99981689453125,-74.05081176757811],\"mode\":\"lines\",\"showlegend\":false,\"type\":\"scattermapbox\"},{\"hoverinfo\":\"none\",\"lat\":[40.72234725952149,40.74566268920898],\"line\":{\"color\":\"green\",\"width\":2},\"lon\":[-73.99722290039062,-73.98463439941406],\"mode\":\"lines\",\"showlegend\":false,\"type\":\"scattermapbox\"},{\"hoverinfo\":\"none\",\"lat\":[40.78168487548828,40.781299591064446],\"line\":{\"color\":\"green\",\"width\":2},\"lon\":[-73.98113250732422,-73.981201171875],\"mode\":\"lines\",\"showlegend\":false,\"type\":\"scattermapbox\"},{\"hoverinfo\":\"none\",\"lat\":[40.81560134887695,40.79996109008789],\"line\":{\"color\":\"red\",\"width\":2},\"lon\":[-73.93981170654298,-73.9586410522461],\"mode\":\"lines\",\"showlegend\":false,\"type\":\"scattermapbox\"},{\"hoverinfo\":\"none\",\"lat\":[40.80809020996094,40.76717758178711],\"line\":{\"color\":\"blue\",\"width\":2},\"lon\":[-73.9640121459961,-73.99046325683594],\"mode\":\"lines\",\"showlegend\":false,\"type\":\"scattermapbox\"},{\"hoverinfo\":\"none\",\"lat\":[40.75810241699219,40.790283203125],\"line\":{\"color\":\"red\",\"width\":2},\"lon\":[-73.96311950683594,-73.96560668945312],\"mode\":\"lines\",\"showlegend\":false,\"type\":\"scattermapbox\"},{\"hoverinfo\":\"none\",\"lat\":[40.739540100097656,40.735721588134766],\"line\":{\"color\":\"green\",\"width\":2},\"lon\":[-73.98706817626953,-73.98265838623048],\"mode\":\"lines\",\"showlegend\":false,\"type\":\"scattermapbox\"},{\"hoverinfo\":\"none\",\"lat\":[40.72407150268555,40.75766372680664],\"line\":{\"color\":\"yellow\",\"width\":2},\"lon\":[-74.00241088867188,-73.98356628417967],\"mode\":\"lines\",\"showlegend\":false,\"type\":\"scattermapbox\"},{\"hoverinfo\":\"none\",\"lat\":[40.72530364990234,40.71965026855469],\"line\":{\"color\":\"green\",\"width\":2},\"lon\":[-73.9925537109375,-73.9946060180664],\"mode\":\"lines\",\"showlegend\":false,\"type\":\"scattermapbox\"},{\"hoverinfo\":\"none\",\"lat\":[40.72259521484375,40.72389602661133],\"line\":{\"color\":\"green\",\"width\":2},\"lon\":[-74.00528717041014,-74.00457000732422],\"mode\":\"lines\",\"showlegend\":false,\"type\":\"scattermapbox\"},{\"hoverinfo\":\"none\",\"lat\":[40.763973236083984,40.76081848144531],\"line\":{\"color\":\"yellow\",\"width\":2},\"lon\":[-73.99028778076173,-73.97960662841797],\"mode\":\"lines\",\"showlegend\":false,\"type\":\"scattermapbox\"},{\"hoverinfo\":\"none\",\"lat\":[40.76192474365234,40.76654052734375],\"line\":{\"color\":\"blue\",\"width\":2},\"lon\":[-73.97914123535155,-73.99016571044923],\"mode\":\"lines\",\"showlegend\":false,\"type\":\"scattermapbox\"},{\"hoverinfo\":\"none\",\"lat\":[40.752891540527344,40.739990234375],\"line\":{\"color\":\"red\",\"width\":2},\"lon\":[-73.97013854980467,-73.98188781738281],\"mode\":\"lines\",\"showlegend\":false,\"type\":\"scattermapbox\"},{\"hoverinfo\":\"none\",\"lat\":[40.794048309326165,40.79790878295898],\"line\":{\"color\":\"green\",\"width\":2},\"lon\":[-73.97196960449217,-73.97329711914062],\"mode\":\"lines\",\"showlegend\":false,\"type\":\"scattermapbox\"},{\"hoverinfo\":\"none\",\"lat\":[40.757469177246094,40.771968841552734],\"line\":{\"color\":\"green\",\"width\":2},\"lon\":[-73.96942901611328,-73.9827423095703],\"mode\":\"lines\",\"showlegend\":false,\"type\":\"scattermapbox\"},{\"hoverinfo\":\"none\",\"lat\":[40.74184036254882,40.74722671508789],\"line\":{\"color\":\"green\",\"width\":2},\"lon\":[-74.0008773803711,-73.9910430908203],\"mode\":\"lines\",\"showlegend\":false,\"type\":\"scattermapbox\"},{\"hoverinfo\":\"none\",\"lat\":[40.73777770996094,40.74677658081056],\"line\":{\"color\":\"green\",\"width\":2},\"lon\":[-73.99762725830078,-74.00828552246092],\"mode\":\"lines\",\"showlegend\":false,\"type\":\"scattermapbox\"},{\"hoverinfo\":\"none\",\"lat\":[40.761756896972656,40.76946258544922],\"line\":{\"color\":\"red\",\"width\":2},\"lon\":[-73.96741485595702,-73.92103576660156],\"mode\":\"lines\",\"showlegend\":false,\"type\":\"scattermapbox\"},{\"hoverinfo\":\"none\",\"lat\":[40.74108123779297,40.73556137084961],\"line\":{\"color\":\"blue\",\"width\":2},\"lon\":[-74.00586700439453,-73.99239349365233],\"mode\":\"lines\",\"showlegend\":false,\"type\":\"scattermapbox\"},{\"hoverinfo\":\"none\",\"lat\":[40.76555252075195,40.79889678955078],\"line\":{\"color\":\"yellow\",\"width\":2},\"lon\":[-73.96790313720702,-73.96857452392578],\"mode\":\"lines\",\"showlegend\":false,\"type\":\"scattermapbox\"},{\"hoverinfo\":\"none\",\"lat\":[40.789600372314446,40.71483612060546],\"line\":{\"color\":\"red\",\"width\":2},\"lon\":[-73.97001647949219,-74.0139389038086],\"mode\":\"lines\",\"showlegend\":false,\"type\":\"scattermapbox\"},{\"hoverinfo\":\"none\",\"lat\":[40.643508911132805,40.70578384399414],\"line\":{\"color\":\"blue\",\"width\":2},\"lon\":[-73.79021453857422,-74.00952911376953],\"mode\":\"lines\",\"showlegend\":false,\"type\":\"scattermapbox\"},{\"hoverinfo\":\"none\",\"lat\":[40.770069122314446,40.78279113769531],\"line\":{\"color\":\"red\",\"width\":2},\"lon\":[-73.98792266845702,-73.95319366455078],\"mode\":\"lines\",\"showlegend\":false,\"type\":\"scattermapbox\"},{\"hoverinfo\":\"none\",\"lat\":[40.76704025268555,40.76899337768555],\"line\":{\"color\":\"yellow\",\"width\":2},\"lon\":[-73.95381164550781,-73.96334075927734],\"mode\":\"lines\",\"showlegend\":false,\"type\":\"scattermapbox\"},{\"hoverinfo\":\"none\",\"lat\":[40.74380493164063,40.75000762939453],\"line\":{\"color\":\"green\",\"width\":2},\"lon\":[-73.98795318603516,-73.99179077148438],\"mode\":\"lines\",\"showlegend\":false,\"type\":\"scattermapbox\"},{\"hoverinfo\":\"none\",\"lat\":[40.75821304321289,40.796680450439446],\"line\":{\"color\":\"blue\",\"width\":2},\"lon\":[-73.98886108398438,-73.96269226074217],\"mode\":\"lines\",\"showlegend\":false,\"type\":\"scattermapbox\"},{\"hoverinfo\":\"none\",\"lat\":[40.7467155456543,40.75249862670898],\"line\":{\"color\":\"green\",\"width\":2},\"lon\":[-73.98993682861328,-73.97853851318358],\"mode\":\"lines\",\"showlegend\":false,\"type\":\"scattermapbox\"},{\"hoverinfo\":\"none\",\"lat\":[40.74464797973633,40.72493362426758],\"line\":{\"color\":\"red\",\"width\":2},\"lon\":[-73.99140930175781,-73.9950942993164],\"mode\":\"lines\",\"showlegend\":false,\"type\":\"scattermapbox\"},{\"hoverinfo\":\"none\",\"lat\":[40.76905059814453,40.7630615234375],\"line\":{\"color\":\"yellow\",\"width\":2},\"lon\":[-73.98491668701173,-73.97570037841797],\"mode\":\"lines\",\"showlegend\":false,\"type\":\"scattermapbox\"},{\"hoverinfo\":\"none\",\"lat\":[40.74908065795898,40.6697654724121],\"line\":{\"color\":\"yellow\",\"width\":2},\"lon\":[-74.00839233398438,-73.97919464111328],\"mode\":\"lines\",\"showlegend\":false,\"type\":\"scattermapbox\"},{\"hoverinfo\":\"none\",\"lat\":[40.75983047485352,40.75983047485352],\"line\":{\"color\":\"green\",\"width\":2},\"lon\":[-73.97090148925781,-73.97090148925781],\"mode\":\"lines\",\"showlegend\":false,\"type\":\"scattermapbox\"},{\"hoverinfo\":\"none\",\"lat\":[40.7724494934082,40.755836486816406],\"line\":{\"color\":\"yellow\",\"width\":2},\"lon\":[-73.96265411376953,-73.9784927368164],\"mode\":\"lines\",\"showlegend\":false,\"type\":\"scattermapbox\"},{\"hoverinfo\":\"none\",\"lat\":[40.72257232666016,40.68634033203125],\"line\":{\"color\":\"red\",\"width\":2},\"lon\":[-74.00359344482422,-73.97468566894531],\"mode\":\"lines\",\"showlegend\":false,\"type\":\"scattermapbox\"},{\"hoverinfo\":\"none\",\"lat\":[40.7226448059082,40.73473739624024],\"line\":{\"color\":\"yellow\",\"width\":2},\"lon\":[-73.98736572265625,-74.0038833618164],\"mode\":\"lines\",\"showlegend\":false,\"type\":\"scattermapbox\"},{\"hoverinfo\":\"none\",\"lat\":[40.77674865722656,40.785789489746094],\"line\":{\"color\":\"red\",\"width\":2},\"lon\":[-73.95974731445312,-73.9532470703125],\"mode\":\"lines\",\"showlegend\":false,\"type\":\"scattermapbox\"},{\"hoverinfo\":\"none\",\"lat\":[40.76341247558594,40.71963119506836],\"line\":{\"color\":\"green\",\"width\":2},\"lon\":[-73.98194122314453,-73.99542999267578],\"mode\":\"lines\",\"showlegend\":false,\"type\":\"scattermapbox\"},{\"hoverinfo\":\"none\",\"lat\":[40.79840850830078,40.79058837890625],\"line\":{\"color\":\"green\",\"width\":2},\"lon\":[-73.95243072509764,-73.949951171875],\"mode\":\"lines\",\"showlegend\":false,\"type\":\"scattermapbox\"},{\"hoverinfo\":\"none\",\"lat\":[40.75624084472656,40.7665901184082],\"line\":{\"color\":\"yellow\",\"width\":2},\"lon\":[-73.97042846679686,-73.98652648925781],\"mode\":\"lines\",\"showlegend\":false,\"type\":\"scattermapbox\"},{\"hoverinfo\":\"none\",\"lat\":[40.763519287109375,40.761749267578125],\"line\":{\"color\":\"green\",\"width\":2},\"lon\":[-73.96932220458984,-73.97138977050781],\"mode\":\"lines\",\"showlegend\":false,\"type\":\"scattermapbox\"},{\"hoverinfo\":\"none\",\"lat\":[40.73820495605469,40.75112533569336],\"line\":{\"color\":\"yellow\",\"width\":2},\"lon\":[-73.98540496826173,-73.97836303710938],\"mode\":\"lines\",\"showlegend\":false,\"type\":\"scattermapbox\"},{\"hoverinfo\":\"none\",\"lat\":[40.730010986328125,40.73989868164063],\"line\":{\"color\":\"yellow\",\"width\":2},\"lon\":[-73.9792709350586,-73.98174285888672],\"mode\":\"lines\",\"showlegend\":false,\"type\":\"scattermapbox\"},{\"hoverinfo\":\"none\",\"lat\":[40.75796890258789,40.743770599365234],\"line\":{\"color\":\"green\",\"width\":2},\"lon\":[-73.98609161376953,-73.98335266113281],\"mode\":\"lines\",\"showlegend\":false,\"type\":\"scattermapbox\"},{\"hoverinfo\":\"none\",\"lat\":[40.76140594482422,40.76454162597656],\"line\":{\"color\":\"green\",\"width\":2},\"lon\":[-73.97090911865233,-73.97366333007811],\"mode\":\"lines\",\"showlegend\":false,\"type\":\"scattermapbox\"},{\"hoverinfo\":\"none\",\"lat\":[40.75623321533203,40.734371185302734],\"line\":{\"color\":\"green\",\"width\":2},\"lon\":[-73.99331665039062,-73.98973846435547],\"mode\":\"lines\",\"showlegend\":false,\"type\":\"scattermapbox\"},{\"hoverinfo\":\"none\",\"lat\":[40.71868896484375,40.7457275390625],\"line\":{\"color\":\"yellow\",\"width\":2},\"lon\":[-74.0053482055664,-73.9908905029297],\"mode\":\"lines\",\"showlegend\":false,\"type\":\"scattermapbox\"},{\"hoverinfo\":\"none\",\"lat\":[40.76067352294922,40.762725830078125],\"line\":{\"color\":\"blue\",\"width\":2},\"lon\":[-73.98724365234375,-73.92682647705078],\"mode\":\"lines\",\"showlegend\":false,\"type\":\"scattermapbox\"},{\"hoverinfo\":\"none\",\"lat\":[40.78261184692384,40.76800155639648],\"line\":{\"color\":\"red\",\"width\":2},\"lon\":[-73.95343017578125,-73.97037506103516],\"mode\":\"lines\",\"showlegend\":false,\"type\":\"scattermapbox\"},{\"hoverinfo\":\"none\",\"lat\":[40.74298095703125,40.71076965332031],\"line\":{\"color\":\"yellow\",\"width\":2},\"lon\":[-73.98845672607422,-74.01339721679686],\"mode\":\"lines\",\"showlegend\":false,\"type\":\"scattermapbox\"},{\"hoverinfo\":\"none\",\"lat\":[40.75128173828125,40.76827239990234],\"line\":{\"color\":\"red\",\"width\":2},\"lon\":[-73.93987274169923,-73.95292663574217],\"mode\":\"lines\",\"showlegend\":false,\"type\":\"scattermapbox\"},{\"hoverinfo\":\"none\",\"lat\":[40.77922821044922,40.746257781982415],\"line\":{\"color\":\"green\",\"width\":2},\"lon\":[-73.95587921142578,-73.98580169677734],\"mode\":\"lines\",\"showlegend\":false,\"type\":\"scattermapbox\"},{\"hoverinfo\":\"none\",\"lat\":[40.80135726928711,40.79747772216797],\"line\":{\"color\":\"red\",\"width\":2},\"lon\":[-73.95948791503906,-73.96974182128906],\"mode\":\"lines\",\"showlegend\":false,\"type\":\"scattermapbox\"},{\"hoverinfo\":\"none\",\"lat\":[40.755401611328125,40.705509185791016],\"line\":{\"color\":\"blue\",\"width\":2},\"lon\":[-73.96813201904298,-74.00707244873048],\"mode\":\"lines\",\"showlegend\":false,\"type\":\"scattermapbox\"},{\"hoverinfo\":\"none\",\"lat\":[40.738807678222656,40.74818420410156],\"line\":{\"color\":\"blue\",\"width\":2},\"lon\":[-73.98301696777342,-73.97811889648438],\"mode\":\"lines\",\"showlegend\":false,\"type\":\"scattermapbox\"},{\"hoverinfo\":\"none\",\"lat\":[40.73553085327149,40.76554107666016],\"line\":{\"color\":\"yellow\",\"width\":2},\"lon\":[-73.98988342285155,-73.97640228271484],\"mode\":\"lines\",\"showlegend\":false,\"type\":\"scattermapbox\"},{\"hoverinfo\":\"none\",\"lat\":[40.784122467041016,40.77589797973633],\"line\":{\"color\":\"blue\",\"width\":2},\"lon\":[-73.9544906616211,-73.96086883544923],\"mode\":\"lines\",\"showlegend\":false,\"type\":\"scattermapbox\"},{\"hoverinfo\":\"none\",\"lat\":[40.72565841674805,40.73714065551758],\"line\":{\"color\":\"red\",\"width\":2},\"lon\":[-73.99471282958984,-73.99044036865233],\"mode\":\"lines\",\"showlegend\":false,\"type\":\"scattermapbox\"},{\"hoverinfo\":\"none\",\"lat\":[40.776123046875,40.77534103393555],\"line\":{\"color\":\"green\",\"width\":2},\"lon\":[-73.96235656738281,-73.96501922607422],\"mode\":\"lines\",\"showlegend\":false,\"type\":\"scattermapbox\"},{\"hoverinfo\":\"none\",\"lat\":[40.74114227294922,40.68381118774414],\"line\":{\"color\":\"blue\",\"width\":2},\"lon\":[-73.99011993408203,-73.9951629638672],\"mode\":\"lines\",\"showlegend\":false,\"type\":\"scattermapbox\"},{\"hoverinfo\":\"none\",\"lat\":[40.755126953125,40.74041366577149],\"line\":{\"color\":\"red\",\"width\":2},\"lon\":[-73.9874267578125,-73.98683166503906],\"mode\":\"lines\",\"showlegend\":false,\"type\":\"scattermapbox\"},{\"hoverinfo\":\"none\",\"lat\":[40.75054931640625,40.759868621826165],\"line\":{\"color\":\"yellow\",\"width\":2},\"lon\":[-73.97480010986328,-73.96180725097656],\"mode\":\"lines\",\"showlegend\":false,\"type\":\"scattermapbox\"},{\"hoverinfo\":\"none\",\"lat\":[40.744510650634766,40.7564582824707],\"line\":{\"color\":\"yellow\",\"width\":2},\"lon\":[-73.98111724853516,-74.00170135498048],\"mode\":\"lines\",\"showlegend\":false,\"type\":\"scattermapbox\"},{\"hoverinfo\":\"none\",\"lat\":[40.749908447265625,40.75947952270508],\"line\":{\"color\":\"red\",\"width\":2},\"lon\":[-73.9881591796875,-73.99555969238281],\"mode\":\"lines\",\"showlegend\":false,\"type\":\"scattermapbox\"},{\"hoverinfo\":\"none\",\"lat\":[40.76290130615234,40.74275970458984],\"line\":{\"color\":\"green\",\"width\":2},\"lon\":[-73.98320770263672,-73.97737884521484],\"mode\":\"lines\",\"showlegend\":false,\"type\":\"scattermapbox\"},{\"hoverinfo\":\"none\",\"lat\":[40.77938079833984,40.76678466796875],\"line\":{\"color\":\"blue\",\"width\":2},\"lon\":[-73.94471740722656,-73.95954132080078],\"mode\":\"lines\",\"showlegend\":false,\"type\":\"scattermapbox\"},{\"hoverinfo\":\"none\",\"lat\":[40.7393684387207,40.74413299560546],\"line\":{\"color\":\"green\",\"width\":2},\"lon\":[-74.00737762451173,-74.00689697265625],\"mode\":\"lines\",\"showlegend\":false,\"type\":\"scattermapbox\"},{\"hoverinfo\":\"none\",\"lat\":[40.742500305175774,40.7463493347168],\"line\":{\"color\":\"yellow\",\"width\":2},\"lon\":[-73.97420501708984,-73.97167205810547],\"mode\":\"lines\",\"showlegend\":false,\"type\":\"scattermapbox\"},{\"hoverinfo\":\"none\",\"lat\":[40.64687347412109,40.78129196166992],\"line\":{\"color\":\"blue\",\"width\":2},\"lon\":[-73.79014587402342,-73.9521942138672],\"mode\":\"lines\",\"showlegend\":false,\"type\":\"scattermapbox\"},{\"hoverinfo\":\"none\",\"lat\":[40.7640037536621,40.76385116577149],\"line\":{\"color\":\"red\",\"width\":2},\"lon\":[-73.97434234619139,-73.96236419677734],\"mode\":\"lines\",\"showlegend\":false,\"type\":\"scattermapbox\"},{\"hoverinfo\":\"none\",\"lat\":[40.746826171875,40.777099609375],\"line\":{\"color\":\"green\",\"width\":2},\"lon\":[-73.99005889892578,-73.97775268554686],\"mode\":\"lines\",\"showlegend\":false,\"type\":\"scattermapbox\"},{\"hoverinfo\":\"none\",\"lat\":[40.74989700317384,40.73417663574219],\"line\":{\"color\":\"red\",\"width\":2},\"lon\":[-73.99164581298828,-73.99500274658203],\"mode\":\"lines\",\"showlegend\":false,\"type\":\"scattermapbox\"},{\"hoverinfo\":\"none\",\"lat\":[40.70758056640625,40.752979278564446],\"line\":{\"color\":\"blue\",\"width\":2},\"lon\":[-74.00406646728516,-73.97933197021484],\"mode\":\"lines\",\"showlegend\":false,\"type\":\"scattermapbox\"},{\"hoverinfo\":\"none\",\"lat\":[40.7714958190918,40.75320816040039],\"line\":{\"color\":\"yellow\",\"width\":2},\"lon\":[-73.95969390869139,-73.98626708984375],\"mode\":\"lines\",\"showlegend\":false,\"type\":\"scattermapbox\"},{\"hoverinfo\":\"none\",\"lat\":[40.73410034179688,40.67301177978516],\"line\":{\"color\":\"red\",\"width\":2},\"lon\":[-73.9994888305664,-73.96280670166014],\"mode\":\"lines\",\"showlegend\":false,\"type\":\"scattermapbox\"},{\"hoverinfo\":\"none\",\"lat\":[40.77154159545898,40.77495956420898],\"line\":{\"color\":\"green\",\"width\":2},\"lon\":[-73.9818115234375,-73.98088073730467],\"mode\":\"lines\",\"showlegend\":false,\"type\":\"scattermapbox\"},{\"hoverinfo\":\"none\",\"lat\":[40.744140625,40.74169921875],\"line\":{\"color\":\"green\",\"width\":2},\"lon\":[-73.97913360595702,-73.97492218017578],\"mode\":\"lines\",\"showlegend\":false,\"type\":\"scattermapbox\"},{\"hoverinfo\":\"none\",\"lat\":[40.760250091552734,40.79518127441406],\"line\":{\"color\":\"yellow\",\"width\":2},\"lon\":[-73.96861267089844,-73.96575927734375],\"mode\":\"lines\",\"showlegend\":false,\"type\":\"scattermapbox\"},{\"hoverinfo\":\"none\",\"lat\":[40.70718383789063,40.70901870727539],\"line\":{\"color\":\"green\",\"width\":2},\"lon\":[-74.01651763916014,-74.0118637084961],\"mode\":\"lines\",\"showlegend\":false,\"type\":\"scattermapbox\"},{\"hoverinfo\":\"none\",\"lat\":[40.74156188964844,40.75085067749024],\"line\":{\"color\":\"yellow\",\"width\":2},\"lon\":[-73.993896484375,-73.97830963134764],\"mode\":\"lines\",\"showlegend\":false,\"type\":\"scattermapbox\"},{\"hoverinfo\":\"none\",\"lat\":[40.74057769775391,40.7554817199707],\"line\":{\"color\":\"red\",\"width\":2},\"lon\":[-73.97972869873048,-73.97085571289062],\"mode\":\"lines\",\"showlegend\":false,\"type\":\"scattermapbox\"},{\"hoverinfo\":\"none\",\"lat\":[40.759124755859375,40.74463272094727],\"line\":{\"color\":\"yellow\",\"width\":2},\"lon\":[-73.97645568847656,-73.97919464111328],\"mode\":\"lines\",\"showlegend\":false,\"type\":\"scattermapbox\"},{\"hoverinfo\":\"none\",\"lat\":[40.75857162475586,40.77785873413086],\"line\":{\"color\":\"red\",\"width\":2},\"lon\":[-73.96356964111328,-73.94394683837889],\"mode\":\"lines\",\"showlegend\":false,\"type\":\"scattermapbox\"},{\"hoverinfo\":\"none\",\"lat\":[40.78065872192384,40.76536560058594],\"line\":{\"color\":\"blue\",\"width\":2},\"lon\":[-73.98385620117188,-73.9659652709961],\"mode\":\"lines\",\"showlegend\":false,\"type\":\"scattermapbox\"},{\"hoverinfo\":\"none\",\"lat\":[40.75567626953125,40.72474670410156],\"line\":{\"color\":\"red\",\"width\":2},\"lon\":[-73.96500396728516,-74.00196075439453],\"mode\":\"lines\",\"showlegend\":false,\"type\":\"scattermapbox\"},{\"hoverinfo\":\"none\",\"lat\":[40.737281799316406,40.6446418762207],\"line\":{\"color\":\"blue\",\"width\":2},\"lon\":[-74.00069427490233,-73.77690124511719],\"mode\":\"lines\",\"showlegend\":false,\"type\":\"scattermapbox\"},{\"hoverinfo\":\"none\",\"lat\":[40.76673126220703,40.805000305175774],\"line\":{\"color\":\"red\",\"width\":2},\"lon\":[-73.96306610107422,-73.93858337402342],\"mode\":\"lines\",\"showlegend\":false,\"type\":\"scattermapbox\"},{\"hoverinfo\":\"none\",\"lat\":[40.74240493774414,40.72117233276367],\"line\":{\"color\":\"green\",\"width\":2},\"lon\":[-74.00107574462889,-73.98760986328125],\"mode\":\"lines\",\"showlegend\":false,\"type\":\"scattermapbox\"},{\"hoverinfo\":\"none\",\"lat\":[40.82606887817384,40.7630729675293],\"line\":{\"color\":\"blue\",\"width\":2},\"lon\":[-73.94337463378906,-73.98128509521484],\"mode\":\"lines\",\"showlegend\":false,\"type\":\"scattermapbox\"},{\"hoverinfo\":\"none\",\"lat\":[40.767120361328125,40.77658081054688],\"line\":{\"color\":\"blue\",\"width\":2},\"lon\":[-73.9688720703125,-73.96205139160156],\"mode\":\"lines\",\"showlegend\":false,\"type\":\"scattermapbox\"},{\"hoverinfo\":\"none\",\"lat\":[40.75527572631836,40.76887130737305],\"line\":{\"color\":\"blue\",\"width\":2},\"lon\":[-73.96514892578125,-73.95445251464845],\"mode\":\"lines\",\"showlegend\":false,\"type\":\"scattermapbox\"},{\"hoverinfo\":\"none\",\"lat\":[40.80709838867188,40.80038070678711],\"line\":{\"color\":\"blue\",\"width\":2},\"lon\":[-73.95350646972656,-73.96750640869139],\"mode\":\"lines\",\"showlegend\":false,\"type\":\"scattermapbox\"},{\"hoverinfo\":\"none\",\"lat\":[40.768253326416016,40.77399826049805],\"line\":{\"color\":\"blue\",\"width\":2},\"lon\":[-73.98240661621094,-73.95751190185547],\"mode\":\"lines\",\"showlegend\":false,\"type\":\"scattermapbox\"},{\"hoverinfo\":\"none\",\"lat\":[40.64693832397461,40.70998001098633],\"line\":{\"color\":\"blue\",\"width\":2},\"lon\":[-73.78984832763672,-74.005126953125],\"mode\":\"lines\",\"showlegend\":false,\"type\":\"scattermapbox\"},{\"hoverinfo\":\"none\",\"lat\":[40.64469146728516,40.70872116088867],\"line\":{\"color\":\"blue\",\"width\":2},\"lon\":[-73.78196716308595,-73.9399185180664],\"mode\":\"lines\",\"showlegend\":false,\"type\":\"scattermapbox\"},{\"hoverinfo\":\"none\",\"lat\":[40.7324447631836,40.7302360534668],\"line\":{\"color\":\"green\",\"width\":2},\"lon\":[-74.00647735595702,-73.99922180175781],\"mode\":\"lines\",\"showlegend\":false,\"type\":\"scattermapbox\"},{\"hoverinfo\":\"none\",\"lat\":[40.750431060791016,40.78049087524414],\"line\":{\"color\":\"red\",\"width\":2},\"lon\":[-73.98802947998048,-73.94779968261719],\"mode\":\"lines\",\"showlegend\":false,\"type\":\"scattermapbox\"},{\"hoverinfo\":\"none\",\"lat\":[40.773601531982415,40.66177749633789],\"line\":{\"color\":\"blue\",\"width\":2},\"lon\":[-73.87093353271484,-73.82536315917967],\"mode\":\"lines\",\"showlegend\":false,\"type\":\"scattermapbox\"},{\"hoverinfo\":\"none\",\"lat\":[40.78596115112305,40.77871322631836],\"line\":{\"color\":\"green\",\"width\":2},\"lon\":[-73.97699737548828,-73.9814453125],\"mode\":\"lines\",\"showlegend\":false,\"type\":\"scattermapbox\"},{\"hoverinfo\":\"none\",\"lat\":[40.756568908691406,40.740058898925774],\"line\":{\"color\":\"blue\",\"width\":2},\"lon\":[-73.98641967773438,-73.99530029296875],\"mode\":\"lines\",\"showlegend\":false,\"type\":\"scattermapbox\"},{\"hoverinfo\":\"none\",\"lat\":[40.645286560058594,40.75309753417969],\"line\":{\"color\":\"blue\",\"width\":2},\"lon\":[-73.7766876220703,-73.99340057373048],\"mode\":\"lines\",\"showlegend\":false,\"type\":\"scattermapbox\"},{\"hoverinfo\":\"none\",\"lat\":[40.76424789428711,40.763145446777344],\"line\":{\"color\":\"yellow\",\"width\":2},\"lon\":[-73.95646667480467,-73.96985626220702],\"mode\":\"lines\",\"showlegend\":false,\"type\":\"scattermapbox\"},{\"hoverinfo\":\"none\",\"lat\":[40.78201675415039,40.77749633789063],\"line\":{\"color\":\"red\",\"width\":2},\"lon\":[-73.97631072998048,-73.9781494140625],\"mode\":\"lines\",\"showlegend\":false,\"type\":\"scattermapbox\"},{\"hoverinfo\":\"none\",\"lat\":[40.768848419189446,40.744606018066406],\"line\":{\"color\":\"blue\",\"width\":2},\"lon\":[-73.86279296875,-73.97144317626953],\"mode\":\"lines\",\"showlegend\":false,\"type\":\"scattermapbox\"},{\"hoverinfo\":\"none\",\"lat\":[40.794429779052734,40.7891731262207],\"line\":{\"color\":\"red\",\"width\":2},\"lon\":[-73.97160339355469,-73.9527587890625],\"mode\":\"lines\",\"showlegend\":false,\"type\":\"scattermapbox\"},{\"hoverinfo\":\"none\",\"lat\":[40.74530792236328,40.74227523803711],\"line\":{\"color\":\"yellow\",\"width\":2},\"lon\":[-74.00784301757811,-73.98967742919923],\"mode\":\"lines\",\"showlegend\":false,\"type\":\"scattermapbox\"},{\"hoverinfo\":\"none\",\"lat\":[40.75419235229492,40.762859344482415],\"line\":{\"color\":\"yellow\",\"width\":2},\"lon\":[-73.97592163085938,-73.98892211914062],\"mode\":\"lines\",\"showlegend\":false,\"type\":\"scattermapbox\"},{\"hoverinfo\":\"none\",\"lat\":[40.76359939575195,40.7617416381836],\"line\":{\"color\":\"yellow\",\"width\":2},\"lon\":[-73.98738861083984,-73.96864318847656],\"mode\":\"lines\",\"showlegend\":false,\"type\":\"scattermapbox\"},{\"hoverinfo\":\"none\",\"lat\":[40.64473342895508,40.782241821289055],\"line\":{\"color\":\"red\",\"width\":2},\"lon\":[-73.78192138671875,-73.94640350341797],\"mode\":\"lines\",\"showlegend\":false,\"type\":\"scattermapbox\"},{\"hoverinfo\":\"none\",\"lat\":[40.74673461914063,40.7509651184082],\"line\":{\"color\":\"yellow\",\"width\":2},\"lon\":[-73.97140502929686,-73.97477722167967],\"mode\":\"lines\",\"showlegend\":false,\"type\":\"scattermapbox\"},{\"hoverinfo\":\"none\",\"lat\":[40.73308181762695,40.730018615722656],\"line\":{\"color\":\"green\",\"width\":2},\"lon\":[-74.00662231445312,-74.00050354003906],\"mode\":\"lines\",\"showlegend\":false,\"type\":\"scattermapbox\"},{\"hoverinfo\":\"none\",\"lat\":[40.78641128540039,40.77379989624024],\"line\":{\"color\":\"red\",\"width\":2},\"lon\":[-73.95282745361328,-73.97776794433594],\"mode\":\"lines\",\"showlegend\":false,\"type\":\"scattermapbox\"},{\"hoverinfo\":\"none\",\"lat\":[40.76639175415039,40.75261306762695],\"line\":{\"color\":\"green\",\"width\":2},\"lon\":[-73.96286010742188,-73.98545074462889],\"mode\":\"lines\",\"showlegend\":false,\"type\":\"scattermapbox\"},{\"hoverinfo\":\"none\",\"lat\":[40.76412582397461,40.783740997314446],\"line\":{\"color\":\"blue\",\"width\":2},\"lon\":[-73.97107696533203,-73.95669555664062],\"mode\":\"lines\",\"showlegend\":false,\"type\":\"scattermapbox\"},{\"hoverinfo\":\"none\",\"lat\":[40.73915481567384,40.74427795410156],\"line\":{\"color\":\"yellow\",\"width\":2},\"lon\":[-73.99610137939453,-73.98767852783203],\"mode\":\"lines\",\"showlegend\":false,\"type\":\"scattermapbox\"},{\"hoverinfo\":\"none\",\"lat\":[40.75053024291992,40.75751876831056],\"line\":{\"color\":\"yellow\",\"width\":2},\"lon\":[-73.98738098144531,-73.98204803466798],\"mode\":\"lines\",\"showlegend\":false,\"type\":\"scattermapbox\"},{\"hoverinfo\":\"none\",\"lat\":[40.773868560791016,40.75505065917969],\"line\":{\"color\":\"green\",\"width\":2},\"lon\":[-73.98236846923827,-73.97960662841797],\"mode\":\"lines\",\"showlegend\":false,\"type\":\"scattermapbox\"},{\"hoverinfo\":\"none\",\"lat\":[40.766788482666016,40.77115631103516],\"line\":{\"color\":\"red\",\"width\":2},\"lon\":[-73.96295928955078,-73.98324584960938],\"mode\":\"lines\",\"showlegend\":false,\"type\":\"scattermapbox\"},{\"hoverinfo\":\"none\",\"lat\":[40.78915786743164,40.77948760986328],\"line\":{\"color\":\"blue\",\"width\":2},\"lon\":[-73.94364166259764,-73.95057678222656],\"mode\":\"lines\",\"showlegend\":false,\"type\":\"scattermapbox\"},{\"hoverinfo\":\"none\",\"lat\":[40.75484848022461,40.72767639160156],\"line\":{\"color\":\"blue\",\"width\":2},\"lon\":[-73.98343658447266,-74.00334930419923],\"mode\":\"lines\",\"showlegend\":false,\"type\":\"scattermapbox\"},{\"hoverinfo\":\"none\",\"lat\":[40.734493255615234,40.78654861450195],\"line\":{\"color\":\"red\",\"width\":2},\"lon\":[-74.00151824951173,-73.97239685058595],\"mode\":\"lines\",\"showlegend\":false,\"type\":\"scattermapbox\"},{\"hoverinfo\":\"none\",\"lat\":[40.709976196289055,40.69548034667969],\"line\":{\"color\":\"red\",\"width\":2},\"lon\":[-74.00458526611328,-73.99742889404298],\"mode\":\"lines\",\"showlegend\":false,\"type\":\"scattermapbox\"},{\"hoverinfo\":\"none\",\"lat\":[40.75823974609375,40.75593185424805],\"line\":{\"color\":\"blue\",\"width\":2},\"lon\":[-73.98924255371094,-73.91887664794923],\"mode\":\"lines\",\"showlegend\":false,\"type\":\"scattermapbox\"},{\"hoverinfo\":\"none\",\"lat\":[40.74729537963867,40.761695861816406],\"line\":{\"color\":\"green\",\"width\":2},\"lon\":[-73.98175048828125,-74.00177764892578],\"mode\":\"lines\",\"showlegend\":false,\"type\":\"scattermapbox\"},{\"hoverinfo\":\"none\",\"lat\":[40.777053833007805,40.76767349243164],\"line\":{\"color\":\"yellow\",\"width\":2},\"lon\":[-73.98257446289062,-73.98075866699219],\"mode\":\"lines\",\"showlegend\":false,\"type\":\"scattermapbox\"},{\"hoverinfo\":\"none\",\"lat\":[40.74143600463867,40.73919296264648],\"line\":{\"color\":\"yellow\",\"width\":2},\"lon\":[-73.95230865478516,-73.98406982421875],\"mode\":\"lines\",\"showlegend\":false,\"type\":\"scattermapbox\"},{\"hoverinfo\":\"none\",\"lat\":[40.743614196777344,40.72272872924805],\"line\":{\"color\":\"blue\",\"width\":2},\"lon\":[-73.95078277587889,-74.00621795654298],\"mode\":\"lines\",\"showlegend\":false,\"type\":\"scattermapbox\"},{\"hoverinfo\":\"none\",\"lat\":[40.78707885742188,40.79246139526367],\"line\":{\"color\":\"yellow\",\"width\":2},\"lon\":[-73.95390319824217,-73.94084167480467],\"mode\":\"lines\",\"showlegend\":false,\"type\":\"scattermapbox\"},{\"hoverinfo\":\"none\",\"lat\":[40.71914291381836,40.73513412475586],\"line\":{\"color\":\"blue\",\"width\":2},\"lon\":[-74.00506591796875,-74.00606536865233],\"mode\":\"lines\",\"showlegend\":false,\"type\":\"scattermapbox\"},{\"hoverinfo\":\"none\",\"lat\":[40.72243118286133,40.76266860961913],\"line\":{\"color\":\"green\",\"width\":2},\"lon\":[-73.98615264892578,-73.98597717285155],\"mode\":\"lines\",\"showlegend\":false,\"type\":\"scattermapbox\"},{\"hoverinfo\":\"none\",\"lat\":[40.78450012207031,40.804832458496094],\"line\":{\"color\":\"green\",\"width\":2},\"lon\":[-73.95220947265625,-73.96610260009764],\"mode\":\"lines\",\"showlegend\":false,\"type\":\"scattermapbox\"}],                        {\"template\":{\"data\":{\"histogram2dcontour\":[{\"type\":\"histogram2dcontour\",\"colorbar\":{\"outlinewidth\":0,\"ticks\":\"\"},\"colorscale\":[[0.0,\"#0d0887\"],[0.1111111111111111,\"#46039f\"],[0.2222222222222222,\"#7201a8\"],[0.3333333333333333,\"#9c179e\"],[0.4444444444444444,\"#bd3786\"],[0.5555555555555556,\"#d8576b\"],[0.6666666666666666,\"#ed7953\"],[0.7777777777777778,\"#fb9f3a\"],[0.8888888888888888,\"#fdca26\"],[1.0,\"#f0f921\"]]}],\"choropleth\":[{\"type\":\"choropleth\",\"colorbar\":{\"outlinewidth\":0,\"ticks\":\"\"}}],\"histogram2d\":[{\"type\":\"histogram2d\",\"colorbar\":{\"outlinewidth\":0,\"ticks\":\"\"},\"colorscale\":[[0.0,\"#0d0887\"],[0.1111111111111111,\"#46039f\"],[0.2222222222222222,\"#7201a8\"],[0.3333333333333333,\"#9c179e\"],[0.4444444444444444,\"#bd3786\"],[0.5555555555555556,\"#d8576b\"],[0.6666666666666666,\"#ed7953\"],[0.7777777777777778,\"#fb9f3a\"],[0.8888888888888888,\"#fdca26\"],[1.0,\"#f0f921\"]]}],\"heatmap\":[{\"type\":\"heatmap\",\"colorbar\":{\"outlinewidth\":0,\"ticks\":\"\"},\"colorscale\":[[0.0,\"#0d0887\"],[0.1111111111111111,\"#46039f\"],[0.2222222222222222,\"#7201a8\"],[0.3333333333333333,\"#9c179e\"],[0.4444444444444444,\"#bd3786\"],[0.5555555555555556,\"#d8576b\"],[0.6666666666666666,\"#ed7953\"],[0.7777777777777778,\"#fb9f3a\"],[0.8888888888888888,\"#fdca26\"],[1.0,\"#f0f921\"]]}],\"heatmapgl\":[{\"type\":\"heatmapgl\",\"colorbar\":{\"outlinewidth\":0,\"ticks\":\"\"},\"colorscale\":[[0.0,\"#0d0887\"],[0.1111111111111111,\"#46039f\"],[0.2222222222222222,\"#7201a8\"],[0.3333333333333333,\"#9c179e\"],[0.4444444444444444,\"#bd3786\"],[0.5555555555555556,\"#d8576b\"],[0.6666666666666666,\"#ed7953\"],[0.7777777777777778,\"#fb9f3a\"],[0.8888888888888888,\"#fdca26\"],[1.0,\"#f0f921\"]]}],\"contourcarpet\":[{\"type\":\"contourcarpet\",\"colorbar\":{\"outlinewidth\":0,\"ticks\":\"\"}}],\"contour\":[{\"type\":\"contour\",\"colorbar\":{\"outlinewidth\":0,\"ticks\":\"\"},\"colorscale\":[[0.0,\"#0d0887\"],[0.1111111111111111,\"#46039f\"],[0.2222222222222222,\"#7201a8\"],[0.3333333333333333,\"#9c179e\"],[0.4444444444444444,\"#bd3786\"],[0.5555555555555556,\"#d8576b\"],[0.6666666666666666,\"#ed7953\"],[0.7777777777777778,\"#fb9f3a\"],[0.8888888888888888,\"#fdca26\"],[1.0,\"#f0f921\"]]}],\"surface\":[{\"type\":\"surface\",\"colorbar\":{\"outlinewidth\":0,\"ticks\":\"\"},\"colorscale\":[[0.0,\"#0d0887\"],[0.1111111111111111,\"#46039f\"],[0.2222222222222222,\"#7201a8\"],[0.3333333333333333,\"#9c179e\"],[0.4444444444444444,\"#bd3786\"],[0.5555555555555556,\"#d8576b\"],[0.6666666666666666,\"#ed7953\"],[0.7777777777777778,\"#fb9f3a\"],[0.8888888888888888,\"#fdca26\"],[1.0,\"#f0f921\"]]}],\"mesh3d\":[{\"type\":\"mesh3d\",\"colorbar\":{\"outlinewidth\":0,\"ticks\":\"\"}}],\"scatter\":[{\"fillpattern\":{\"fillmode\":\"overlay\",\"size\":10,\"solidity\":0.2},\"type\":\"scatter\"}],\"parcoords\":[{\"type\":\"parcoords\",\"line\":{\"colorbar\":{\"outlinewidth\":0,\"ticks\":\"\"}}}],\"scatterpolargl\":[{\"type\":\"scatterpolargl\",\"marker\":{\"colorbar\":{\"outlinewidth\":0,\"ticks\":\"\"}}}],\"bar\":[{\"error_x\":{\"color\":\"#2a3f5f\"},\"error_y\":{\"color\":\"#2a3f5f\"},\"marker\":{\"line\":{\"color\":\"white\",\"width\":0.5},\"pattern\":{\"fillmode\":\"overlay\",\"size\":10,\"solidity\":0.2}},\"type\":\"bar\"}],\"scattergeo\":[{\"type\":\"scattergeo\",\"marker\":{\"colorbar\":{\"outlinewidth\":0,\"ticks\":\"\"}}}],\"scatterpolar\":[{\"type\":\"scatterpolar\",\"marker\":{\"colorbar\":{\"outlinewidth\":0,\"ticks\":\"\"}}}],\"histogram\":[{\"marker\":{\"pattern\":{\"fillmode\":\"overlay\",\"size\":10,\"solidity\":0.2}},\"type\":\"histogram\"}],\"scattergl\":[{\"type\":\"scattergl\",\"marker\":{\"colorbar\":{\"outlinewidth\":0,\"ticks\":\"\"}}}],\"scatter3d\":[{\"type\":\"scatter3d\",\"line\":{\"colorbar\":{\"outlinewidth\":0,\"ticks\":\"\"}},\"marker\":{\"colorbar\":{\"outlinewidth\":0,\"ticks\":\"\"}}}],\"scattermapbox\":[{\"type\":\"scattermapbox\",\"marker\":{\"colorbar\":{\"outlinewidth\":0,\"ticks\":\"\"}}}],\"scatterternary\":[{\"type\":\"scatterternary\",\"marker\":{\"colorbar\":{\"outlinewidth\":0,\"ticks\":\"\"}}}],\"scattercarpet\":[{\"type\":\"scattercarpet\",\"marker\":{\"colorbar\":{\"outlinewidth\":0,\"ticks\":\"\"}}}],\"carpet\":[{\"aaxis\":{\"endlinecolor\":\"#2a3f5f\",\"gridcolor\":\"#C8D4E3\",\"linecolor\":\"#C8D4E3\",\"minorgridcolor\":\"#C8D4E3\",\"startlinecolor\":\"#2a3f5f\"},\"baxis\":{\"endlinecolor\":\"#2a3f5f\",\"gridcolor\":\"#C8D4E3\",\"linecolor\":\"#C8D4E3\",\"minorgridcolor\":\"#C8D4E3\",\"startlinecolor\":\"#2a3f5f\"},\"type\":\"carpet\"}],\"table\":[{\"cells\":{\"fill\":{\"color\":\"#EBF0F8\"},\"line\":{\"color\":\"white\"}},\"header\":{\"fill\":{\"color\":\"#C8D4E3\"},\"line\":{\"color\":\"white\"}},\"type\":\"table\"}],\"barpolar\":[{\"marker\":{\"line\":{\"color\":\"white\",\"width\":0.5},\"pattern\":{\"fillmode\":\"overlay\",\"size\":10,\"solidity\":0.2}},\"type\":\"barpolar\"}],\"pie\":[{\"automargin\":true,\"type\":\"pie\"}]},\"layout\":{\"autotypenumbers\":\"strict\",\"colorway\":[\"#636efa\",\"#EF553B\",\"#00cc96\",\"#ab63fa\",\"#FFA15A\",\"#19d3f3\",\"#FF6692\",\"#B6E880\",\"#FF97FF\",\"#FECB52\"],\"font\":{\"color\":\"#2a3f5f\"},\"hovermode\":\"closest\",\"hoverlabel\":{\"align\":\"left\"},\"paper_bgcolor\":\"white\",\"plot_bgcolor\":\"white\",\"polar\":{\"bgcolor\":\"white\",\"angularaxis\":{\"gridcolor\":\"#EBF0F8\",\"linecolor\":\"#EBF0F8\",\"ticks\":\"\"},\"radialaxis\":{\"gridcolor\":\"#EBF0F8\",\"linecolor\":\"#EBF0F8\",\"ticks\":\"\"}},\"ternary\":{\"bgcolor\":\"white\",\"aaxis\":{\"gridcolor\":\"#DFE8F3\",\"linecolor\":\"#A2B1C6\",\"ticks\":\"\"},\"baxis\":{\"gridcolor\":\"#DFE8F3\",\"linecolor\":\"#A2B1C6\",\"ticks\":\"\"},\"caxis\":{\"gridcolor\":\"#DFE8F3\",\"linecolor\":\"#A2B1C6\",\"ticks\":\"\"}},\"coloraxis\":{\"colorbar\":{\"outlinewidth\":0,\"ticks\":\"\"}},\"colorscale\":{\"sequential\":[[0.0,\"#0d0887\"],[0.1111111111111111,\"#46039f\"],[0.2222222222222222,\"#7201a8\"],[0.3333333333333333,\"#9c179e\"],[0.4444444444444444,\"#bd3786\"],[0.5555555555555556,\"#d8576b\"],[0.6666666666666666,\"#ed7953\"],[0.7777777777777778,\"#fb9f3a\"],[0.8888888888888888,\"#fdca26\"],[1.0,\"#f0f921\"]],\"sequentialminus\":[[0.0,\"#0d0887\"],[0.1111111111111111,\"#46039f\"],[0.2222222222222222,\"#7201a8\"],[0.3333333333333333,\"#9c179e\"],[0.4444444444444444,\"#bd3786\"],[0.5555555555555556,\"#d8576b\"],[0.6666666666666666,\"#ed7953\"],[0.7777777777777778,\"#fb9f3a\"],[0.8888888888888888,\"#fdca26\"],[1.0,\"#f0f921\"]],\"diverging\":[[0,\"#8e0152\"],[0.1,\"#c51b7d\"],[0.2,\"#de77ae\"],[0.3,\"#f1b6da\"],[0.4,\"#fde0ef\"],[0.5,\"#f7f7f7\"],[0.6,\"#e6f5d0\"],[0.7,\"#b8e186\"],[0.8,\"#7fbc41\"],[0.9,\"#4d9221\"],[1,\"#276419\"]]},\"xaxis\":{\"gridcolor\":\"#EBF0F8\",\"linecolor\":\"#EBF0F8\",\"ticks\":\"\",\"title\":{\"standoff\":15},\"zerolinecolor\":\"#EBF0F8\",\"automargin\":true,\"zerolinewidth\":2},\"yaxis\":{\"gridcolor\":\"#EBF0F8\",\"linecolor\":\"#EBF0F8\",\"ticks\":\"\",\"title\":{\"standoff\":15},\"zerolinecolor\":\"#EBF0F8\",\"automargin\":true,\"zerolinewidth\":2},\"scene\":{\"xaxis\":{\"backgroundcolor\":\"white\",\"gridcolor\":\"#DFE8F3\",\"linecolor\":\"#EBF0F8\",\"showbackground\":true,\"ticks\":\"\",\"zerolinecolor\":\"#EBF0F8\",\"gridwidth\":2},\"yaxis\":{\"backgroundcolor\":\"white\",\"gridcolor\":\"#DFE8F3\",\"linecolor\":\"#EBF0F8\",\"showbackground\":true,\"ticks\":\"\",\"zerolinecolor\":\"#EBF0F8\",\"gridwidth\":2},\"zaxis\":{\"backgroundcolor\":\"white\",\"gridcolor\":\"#DFE8F3\",\"linecolor\":\"#EBF0F8\",\"showbackground\":true,\"ticks\":\"\",\"zerolinecolor\":\"#EBF0F8\",\"gridwidth\":2}},\"shapedefaults\":{\"line\":{\"color\":\"#2a3f5f\"}},\"annotationdefaults\":{\"arrowcolor\":\"#2a3f5f\",\"arrowhead\":0,\"arrowwidth\":1},\"geo\":{\"bgcolor\":\"white\",\"landcolor\":\"white\",\"subunitcolor\":\"#C8D4E3\",\"showland\":true,\"showlakes\":true,\"lakecolor\":\"white\"},\"title\":{\"x\":0.05},\"mapbox\":{\"style\":\"light\"}}},\"mapbox\":{\"domain\":{\"x\":[0.0,1.0],\"y\":[0.0,1.0]},\"center\":{\"lat\":40.75272625439788,\"lon\":-73.97509577502943},\"zoom\":11,\"style\":\"carto-positron\"},\"legend\":{\"title\":{\"text\":\"\\ud3c9\\uade0\\uc18d\\ub825\"},\"tracegroupgap\":0},\"margin\":{\"t\":60}},                        {\"scrollZoom\": false, \"responsive\": true}                    ).then(function(){\n",
       "                            \n",
       "var gd = document.getElementById('9648f37e-f448-44cf-b6ea-c008a8edd91b');\n",
       "var x = new MutationObserver(function (mutations, observer) {{\n",
       "        var display = window.getComputedStyle(gd).display;\n",
       "        if (!display || display === 'none') {{\n",
       "            console.log([gd, 'removed!']);\n",
       "            Plotly.purge(gd);\n",
       "            observer.disconnect();\n",
       "        }}\n",
       "}});\n",
       "\n",
       "// Listen for the removal of the full notebook cells\n",
       "var notebookContainer = gd.closest('#notebook-container');\n",
       "if (notebookContainer) {{\n",
       "    x.observe(notebookContainer, {childList: true});\n",
       "}}\n",
       "\n",
       "// Listen for the clearing of the current output cell\n",
       "var outputEl = gd.closest('.output');\n",
       "if (outputEl) {{\n",
       "    x.observe(outputEl, {childList: true});\n",
       "}}\n",
       "\n",
       "                        })                };                });            </script>        </div>"
      ]
     },
     "metadata": {},
     "output_type": "display_data"
    }
   ],
   "source": [
    "#| title: 속력별 경로 시각화\n",
    "speed = pd.Series([1,1,2,2,3,3,4,4])\n",
    "print(pd.qcut(speed,4))\n",
    "print(pd.qcut(speed,4,labels=['매우느림','조금느림','조금빠름','매우빠름']))\n",
    "df_small['평균속력'] = pd.qcut(df_small['speed'], 4, labels=['매우느림', '조금느림', '조금빠름', '매우빠름'])\n",
    "\n",
    "# 색상 매핑을 위한 딕셔너리 생성\n",
    "color_map = {\n",
    "    '조금느림': 'yellow',\n",
    "    '매우느림': 'green',\n",
    "    '매우빠름': 'blue',\n",
    "    '조금빠름': 'red'\n",
    "}\n",
    "\n",
    "# Scatter Mapbox 생성\n",
    "fig3 = px.scatter_mapbox(\n",
    "    data_frame=df_small,\n",
    "    lat='dropoff_latitude',\n",
    "    lon='dropoff_longitude',\n",
    "    color='평균속력',\n",
    "    mapbox_style='carto-positron',\n",
    "    zoom=11,\n",
    "    color_discrete_map=color_map  \n",
    ")\n",
    "\n",
    "# 속도 구간에 따라 승차와 하차 지점을 연결하는 선 추가\n",
    "for index, row in df_small.iterrows():\n",
    "    fig3.add_trace(\n",
    "        dict(\n",
    "            type='scattermapbox',\n",
    "            lat=[row['pickup_latitude'], row['dropoff_latitude']],\n",
    "            lon=[row['pickup_longitude'], row['dropoff_longitude']],\n",
    "            mode='lines',ㅇㅇ\n",
    "            line=dict(width=2, color=color_map[row['평균속도']]),  # 속도 구간에 따라 색상 설정\n",
    "            hoverinfo='none',\n",
    "            showlegend=False\n",
    "        )\n",
    "    )\n",
    "\n",
    "fig3.show(config={'scrollZoom': False})"
   ]
  },
  {
   "cell_type": "code",
   "execution_count": null,
   "id": "17a0523f-d209-4495-9009-ca37e797a4bb",
   "metadata": {},
   "outputs": [],
   "source": []
  }
 ],
 "metadata": {
  "kernelspec": {
   "display_name": "Python 3 (ipykernel)",
   "language": "python",
   "name": "python3"
  },
  "language_info": {
   "codemirror_mode": {
    "name": "ipython",
    "version": 3
   },
   "file_extension": ".py",
   "mimetype": "text/x-python",
   "name": "python",
   "nbconvert_exporter": "python",
   "pygments_lexer": "ipython3",
   "version": "3.10.13"
  }
 },
 "nbformat": 4,
 "nbformat_minor": 5
}
